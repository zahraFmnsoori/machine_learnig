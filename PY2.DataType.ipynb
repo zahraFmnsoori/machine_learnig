{
 "cells": [
  {
   "cell_type": "markdown",
   "id": "31442c78",
   "metadata": {},
   "source": [
    "<font color= 'darkred' size = '5'> **Python Mathematics** </font><br>\n",
    "\n",
    "Python offers the math module to carry out different mathematics like trigonometry, logarithms, probability and statistics, etc. For example,"
   ]
  },
  {
   "cell_type": "code",
   "execution_count": 14,
   "id": "479dff10",
   "metadata": {},
   "outputs": [
    {
     "name": "stdout",
     "output_type": "stream",
     "text": [
      "3.141592653589793\n",
      "3.142\n",
      "-1.0\n",
      "22026.465794806718\n",
      "3.0\n",
      "1.1752011936438014\n",
      "2.23606797749979\n",
      "720\n",
      "1.0\n"
     ]
    }
   ],
   "source": [
    "import math\n",
    "\n",
    "print(math.pi)\n",
    "print(f'{math.pi :.3f}')\n",
    "\n",
    "print(math.cos(math.pi))\n",
    "\n",
    "print(math.exp(10))\n",
    "\n",
    "print(math.log10(1000))\n",
    "\n",
    "print(math.sinh(1))\n",
    "\n",
    "print(math.sqrt(5))\n",
    "\n",
    "print(math.factorial(6))\n",
    "\n",
    "print(math.fmod(9,4)) # 9%4\n",
    "\n"
   ]
  },
  {
   "cell_type": "markdown",
   "id": "3b075bcd",
   "metadata": {},
   "source": [
    "|function | description|\n",
    "| :-      |    :-      | \n",
    "|ceil (x) | Returns the smallest integer greater than or equal to x|\n",
    "| copysign(x, y)\t|Returns x with the sign of y|\n",
    "| fabs(x)\t|Returns the absolute value of x (float)\n",
    "|factorial(x)\t|Returns the factorial of x\n",
    "|floor(x)\t|Returns the largest integer less than or equal to x\n",
    "|fmod(x, y)\t|Returns the remainder when x is divided by y\n",
    "|frexp(x)\t|Returns the mantissa and exponent of x as the pair (m, e)\n",
    "|fsum(iterable)\t|Returns an accurate floating point sum of values in the iterable\n",
    "|ldexp(x, i)\t|Returns x * (2**i)\n",
    "|modf(x)\t|Returns the fractional and integer parts of x\n",
    "|trunc(x)\t|Returns the truncated integer value of x\n",
    "|exp(x)\t|Returns e**x\n",
    "|expm1(x)\t|Returns e**x - 1\n",
    "|log(x[, b])\t|Returns the logarithm of x to the base b (defaults to e)\n",
    "|log1p(x)\t|Returns the natural logarithm of 1+x\n",
    "|log2(x)\t|Returns the base-2 logarithm of x\n",
    "|log10(x)\t|Returns the base-10 logarithm of x\n",
    "|pow(x, y)\t|Returns x raised to the power y\n",
    "|sqrt(x)\t|Returns the square root of x\n",
    "|acos(x)\t|Returns the arc cosine of x\n",
    "|acosh(x)\t|Returns the inverse hyperbolic cosine of x\n",
    "|cos(x)\t|Returns the cosine of x\n",
    "|degrees(x)\t|Converts angle x from radians to degrees\n",
    "|radians(x)\t|converts angle x from degrees to radians\n",
    "|erf(x)\t|Returns the error function at x\n",
    "|gamma(x)\t|Returns the Gamma function at x\n",
    "|pi\t|Returns (3.14159...)\n",
    "|e\t|mathematical constant e (2.71828...)|\n"
   ]
  },
  {
   "cell_type": "markdown",
   "id": "06e86a67",
   "metadata": {},
   "source": [
    "<font color = 'steelblue' size = '4'>**Python Random Module**</font>\n",
    "\n",
    "Python offers the random module to generate random numbers or to pick a random item from an iterator.\n",
    "\n",
    "First we need to import the random module."
   ]
  },
  {
   "cell_type": "markdown",
   "id": "a51aba8b",
   "metadata": {},
   "source": [
    "<font color = 'steelblue' size = 3>**The seed ( )**</font> \n",
    ">\n",
    ">The seed method is used to initialize the random number generator.\n",
    ">\n",
    ">The random number generator needs a number to start with (a seed value), to be able to generate a random number.\n",
    ">\n",
    ">By default the random number generator uses the current system time.\n",
    ">\n",
    ">Use the seed() method to customize the start number of the random number generator.\n",
    ">\n",
    ">if u seed(10) you always start with 0.5714.. and if u use same seed twice u will get same random number"
   ]
  },
  {
   "cell_type": "code",
   "execution_count": 16,
   "id": "eacb1e5e",
   "metadata": {},
   "outputs": [
    {
     "name": "stdout",
     "output_type": "stream",
     "text": [
      "0.5714025946899135\n"
     ]
    }
   ],
   "source": [
    "import random\n",
    "\n",
    "random.seed(10)\n",
    "print(random.random())"
   ]
  },
  {
   "cell_type": "markdown",
   "id": "285bc89b",
   "metadata": {},
   "source": [
    "<font color= 'steelblue' size = '3'>**The random ( ) randrange ( ) and randint ( )**</font>\n",
    "\n",
    "The `random()` method returns a random floating number between 0 and 1.\n",
    "\n",
    "The `randrange()` method returns a randomly selected element from the specified range.\n",
    "\n",
    ">`random.randrange(start, stop, step)`\n",
    "\n",
    "The `randint()` method returns an integer number selected element from the specified range.\n",
    "\n",
    ">Note: This method is an alias for randrange(start, stop+1) / `random.randint(start, stop)`"
   ]
  },
  {
   "cell_type": "markdown",
   "id": "a54d7c59",
   "metadata": {},
   "source": [
    "<font color = 'steelblue' size = '3'>**The choice ( ) shuffle ( ) and sample ( )**</font>\n",
    "\n",
    ">The `choice` method returns a randomly selected element from the specified sequence.\n",
    ">\n",
    ">The sequence can be a string, a range, a list, a tuple or any other kind of sequence\n",
    ">\n",
    ">the `shuffle` method changes the original list, it does not return a new list.\n",
    ">\n",
    ">The `sample()` method returns a list with a randomly selection of a specified number of items `k` from a sequnce. "
   ]
  },
  {
   "cell_type": "code",
   "execution_count": 3,
   "id": "e631909c",
   "metadata": {},
   "outputs": [
    {
     "name": "stdout",
     "output_type": "stream",
     "text": [
      "0.4288890546751146  :random.random()\n",
      "9 :random.randint()\n",
      "0 :random.randrange()\n",
      "2  :a choice from my list\n",
      "['1', 'cup', '2', 'coffee']  :shuffled list\n",
      "['cup', '1']  :2 random sampled list\n"
     ]
    }
   ],
   "source": [
    "import random\n",
    "\n",
    "listt = ['1','2','cup', 'coffee']\n",
    "\n",
    "print(random.random(),' :random.random()')\n",
    "\n",
    "print(random.randint(0,10), ':random.randint()') #including 10\n",
    "\n",
    "print(random.randrange(0,12), ':random.randrange()') #not including 12\n",
    "\n",
    "print(random.choice(listt), ' :a choice from my list')  # choice([1,5]) 1 ya 5 na baze 1 ta 5\n",
    "random.shuffle(listt) #bor mizane\n",
    "print(listt,' :shuffled list')\n",
    "\n",
    "print(random.sample((listt), k=2), ' :2 random sampled list')\n",
    "\n"
   ]
  },
  {
   "cell_type": "code",
   "execution_count": 41,
   "id": "c19f0e6c-714f-4c4d-baf3-290c040183f3",
   "metadata": {},
   "outputs": [
    {
     "name": "stdout",
     "output_type": "stream",
     "text": [
      "2025-02-28 12:41:21.296242\n",
      "3.12.3 | packaged by conda-forge | (main, Apr 15 2024, 18:20:11) [MSC v.1938 64 bit (AMD64)]\n",
      "win32\n",
      "11\n"
     ]
    },
    {
     "data": {
      "text/plain": [
       "'C:\\\\Users\\\\zahra\\\\jupyters file'"
      ]
     },
     "execution_count": 41,
     "metadata": {},
     "output_type": "execute_result"
    }
   ],
   "source": [
    "import datetime \n",
    "now = datetime.datetime.now()\n",
    "print(now)\n",
    "\n",
    "import sys\n",
    "print(sys.version)\n",
    "print(sys.platform)\n",
    "\n",
    "import platform\n",
    "print(platform.release())\n",
    "\n",
    "import os \n",
    "os.getcwd()"
   ]
  },
  {
   "cell_type": "markdown",
   "id": "74016642",
   "metadata": {},
   "source": [
    "<font color = 'steelblue' size = '3'>**The uniform() and gauss**</font>\n",
    "    \n",
    ">The `uniform` method returns a random floating number between the two specified numbers (both included).\n",
    ">    \n",
    ">`random.uniform(a, b)`\n",
    ">\n",
    ">The `gauss()` Returns a random float number based on the Gaussian distribution (used in probability theories)"
   ]
  },
  {
   "cell_type": "markdown",
   "id": "8c6b0423",
   "metadata": {},
   "source": [
    "###### <font color = 'darkred' size ='5'>**List**</font>\n",
    "\n",
    "> <font color = 'darkred' size = '4'>**Usefull python list method**</font>\n",
    "|Method |      description|\n",
    "| :-    |          :-     |\n",
    "|append()\t|add an item to the end of the list|\n",
    "|extend()\t|add all the items of an iterable to the end of the list\n",
    "|insert()\t|inserts an item at the specified index\n",
    "|remove()\t|removes item present at the given index\n",
    "|pop()\t|returns and removes item present at the given index\n",
    "|clear()\t|removes all items from the list\n",
    "|index()\t|returns the index of the first matched item\n",
    "|count()\t|returns the count of the specified item in the list\n",
    "|sort()\t|sort the list in ascending/descending order\n",
    "|reverse()\t|reverses the item of the list\n",
    "|copy()\t|returns the shallow copy of the list|"
   ]
  },
  {
   "cell_type": "markdown",
   "id": "b648a334",
   "metadata": {},
   "source": [
    "<font color= 'steelblue' size = '4'>**Slicing of a List**</font>\n",
    "\n",
    "In Python, it is possible to access a portion of a list using the slicing operator.\n",
    "\n"
   ]
  },
  {
   "cell_type": "code",
   "execution_count": 65,
   "id": "85fc416f",
   "metadata": {},
   "outputs": [
    {
     "name": "stdout",
     "output_type": "stream",
     "text": [
      "9\n",
      "2\n",
      "['p', 'r', 'o', 'g', 'r', 1, 2, 3, 4, 5]\n",
      "False\n",
      "['o', 'g', 'r']\n",
      "[5, 4, 3, 2, 1, 'r', 'g', 'o', 'r', 'p']\n",
      "______________________\n",
      "[1, 2, 3, 4, '1', '2', 'a', [905, 690]]\n",
      "690\n",
      "______________________\n",
      "30\n",
      "30\n",
      "2\n",
      "75\n",
      "______________________\n",
      "2\n"
     ]
    }
   ],
   "source": [
    "my_list = ['p','r','o','g','r','a','m','i','z']\n",
    "print(len(my_list))\n",
    "print(my_list.index('o'))   #or\n",
    "my_list[5:10] = [1, 2, 3, 4, 5]\n",
    "print(my_list)\n",
    "print(6 in my_list)\n",
    "\n",
    "print(my_list[2:5])\n",
    "print(my_list[::-1])\n",
    "print('______________________')\n",
    "\n",
    "a = [1, 2, 3, 4]\n",
    "b = ['1','2','a', [905,690]]\n",
    "c = a + b\n",
    "print(c)\n",
    "print(b[3][1])\n",
    "print('______________________')\n",
    "\n",
    "a = [7, 5, 30, 2, 6 ,25]\n",
    "print(max(a)) #or \n",
    "\n",
    "m = -1\n",
    "for i in a:\n",
    "    if i> m:\n",
    "        m =i\n",
    "print(m)\n",
    "\n",
    "print(min(a))\n",
    "print(sum(a))\n",
    "print('______________________')\n",
    "\n",
    "d = [ 1, 2, 3, 4, 2, 1, 5, 4, 3, 3, 3, 7, 1]\n",
    "print(d.count(2))\n"
   ]
  },
  {
   "cell_type": "markdown",
   "id": "26ac1399",
   "metadata": {},
   "source": [
    "<font color = 'steelblue' siz= '4'> **Add Elements to a List**</font>\n",
    "\n",
    "\n",
    "Lists are mutable (changeable). Meaning we can add and remove elements from a list.\n",
    "\n",
    "Python list provides different methods to add items to a list.\n",
    "\n",
    "1. **Using append()**\n",
    "\n",
    "The append() method adds an (1) item at the end of the list.\n",
    "\n",
    "2. **using insert()**\n",
    "\n",
    "We use the insert() method to add an element at the specified index.\n",
    "\n",
    "3. **using extend list()**\n",
    "\n",
    "To append elements from another list to the current list, use the extend() method.<br>\n",
    "\n",
    "The **extend()** method does not have to append **lists**, you can add any iterable object **(tuples, sets, dictionaries** etc."
   ]
  },
  {
   "cell_type": "code",
   "execution_count": 75,
   "id": "bed44283",
   "metadata": {},
   "outputs": [
    {
     "name": "stdout",
     "output_type": "stream",
     "text": [
      "[21, 34, 'apple', 54, 12]\n",
      "After Append: [21, 34, 'apple', 54, 12, 32]\n"
     ]
    }
   ],
   "source": [
    "numbers = [21, 34, 54, 12]\n",
    "numbers.insert(2,'apple')\n",
    "print(numbers)\n",
    "\n",
    "numbers.append(32)\n",
    "print(\"After Append:\", numbers)"
   ]
  },
  {
   "cell_type": "code",
   "execution_count": 97,
   "id": "942a345a",
   "metadata": {},
   "outputs": [
    {
     "name": "stdout",
     "output_type": "stream",
     "text": [
      "[31, 23, 45, 32, 2, 12, 14, 'zara', 'neda', 'kave', 'navid']\n",
      "11\n",
      "['zara', 'neda', 'kave', 'navid', [31, 23, 45, 32, 2, 12, 14, 'zara', 'neda', 'kave', 'navid']]\n",
      "5\n",
      "[31, 23, 45, 32, 12, 14, 'zara', 'neda', 'kave', 'navid']\n",
      "[[31, 23, 45, 32, 12, 14, 'zara', 'neda', 'kave', 'navid'], 'navid', 'kave', 'neda', 'zara']\n"
     ]
    }
   ],
   "source": [
    "numbers = [31,23,45,32, 2, 12, 14]\n",
    "names= ['zara', 'neda', 'kave', 'navid']\n",
    "\n",
    "\n",
    "numbers.extend(names)  #+\n",
    "print(numbers)\n",
    "print(len(numbers))\n",
    "\n",
    "#lets see the difference between append and extend \n",
    "\n",
    "names.append(numbers)\n",
    "print(names)\n",
    "print(len(names))\n",
    "\n",
    "numbers.remove(2)\n",
    "print(numbers)\n",
    "names.reverse()\n",
    "print(names)"
   ]
  },
  {
   "cell_type": "markdown",
   "id": "5873913d-186e-4def-9b5d-c933607f5b8a",
   "metadata": {},
   "source": [
    "<font  color = 'steelblue' size = '3'> **an example of append**</font>\n"
   ]
  },
  {
   "cell_type": "code",
   "execution_count": 65,
   "id": "02c5b9c5",
   "metadata": {},
   "outputs": [
    {
     "name": "stdin",
     "output_type": "stream",
     "text": [
      "enter your list of number:  100\n"
     ]
    },
    {
     "name": "stdout",
     "output_type": "stream",
     "text": [
      "wrong number!\n"
     ]
    },
    {
     "name": "stdin",
     "output_type": "stream",
     "text": [
      "enter your list of number:  2\n",
      "enter your list of number:  23\n",
      "enter your list of number:  45\n",
      "enter your list of number:  67\n",
      "enter your list of number:  89\n"
     ]
    },
    {
     "name": "stdout",
     "output_type": "stream",
     "text": [
      "[2, 23, 45, 67, 89]\n",
      "45\n",
      "YOU WIN!! your gift is 1 mil $\n"
     ]
    }
   ],
   "source": [
    "listt = []\n",
    "n = 5\n",
    "\n",
    "# you have 5 chance        \n",
    "for i in range(0, 5):\n",
    "    elements= int(input('enter your list of number: '))\n",
    "    if 0<elements<100:\n",
    "        listt.append(elements)\n",
    "    else:\n",
    "        print('wrong number!')\n",
    "        elements= int(input('enter your list of number: '))\n",
    "        listt.append(elements)\n",
    "        \n",
    "print (listt)\n",
    "\n",
    "# there is A according to ur chance!\n",
    "import random\n",
    "a =random.randint(0,100)\n",
    "print(a)\n",
    "\n",
    "def winers_check():\n",
    "    if a in listt:\n",
    "        print('YOU WIN!!', 'your gift is 1 mil $')\n",
    "    else:\n",
    "        gift = 0\n",
    "        print ('bad luck ha!? your gift is', gift, '$')\n",
    "        \n",
    "winers_check()\n",
    "               "
   ]
  },
  {
   "cell_type": "code",
   "execution_count": 142,
   "id": "58f608ce-1823-4f97-b410-13cb908e4332",
   "metadata": {},
   "outputs": [
    {
     "name": "stdout",
     "output_type": "stream",
     "text": [
      "[0, 1, 2, 3]\n",
      "[0, 2, 4, 6]\n",
      "[9, 16, 25]\n",
      "[1, 2, 3, 5, 6, 10]\n",
      "[3.1, 3.14, 3.142, 3.1416]\n",
      "['sara', 'reza']\n",
      "[4, 7]\n"
     ]
    }
   ],
   "source": [
    "a = []\n",
    "for i in range (4):\n",
    "    a.append(i)\n",
    "print(a)\n",
    "#or\n",
    "a = [i*2 for i in range(4)]\n",
    "print(a)\n",
    "\n",
    "a = [i**2 for i in range(3,6)]\n",
    "print(a)\n",
    "\n",
    "a = [1, -2, 3, -5, 6, -10]\n",
    "b = [abs(i) for i in a]\n",
    "print(b)\n",
    "\n",
    "import math \n",
    "a = [round(math.pi, i) for i in range(1, 5)]\n",
    "print(a)\n",
    "\n",
    "a = ['$sara', 'reza$']\n",
    "b = [i.strip('$') for i in a]\n",
    "print(b)\n",
    "\n",
    "scores = [11,10,12,13,14,4,7,12,19]\n",
    "b = [i for i in scores if i <10]\n",
    "print(b)\n"
   ]
  },
  {
   "cell_type": "code",
   "execution_count": 13,
   "id": "5f50a3c4-cf38-4341-aff5-f4a6ca591d5a",
   "metadata": {},
   "outputs": [
    {
     "name": "stdout",
     "output_type": "stream",
     "text": [
      "yazdani is the one!\n"
     ]
    }
   ],
   "source": [
    "import random\n",
    "class_list = ['yazdani','abdi', 'zakeri', 'imani', 'fooladvand']\n",
    "a = random.choice(class_list)\n",
    "print('{} is the one!'.format(a))"
   ]
  },
  {
   "cell_type": "markdown",
   "id": "6bd93e24",
   "metadata": {},
   "source": [
    "<font color = 'steelblue' size = '3'> **Remove an Item From a List**</font>\n",
    "\n",
    "1. Using **del** Statement and **clear()**\n",
    "\n",
    "In Python we can use the del statement to remove one or more items from a list, **clear**  will clean The list still remains, but it has no content.\n",
    "\n",
    "2. Using **remove()**\n",
    "\n",
    "We can also use the remove() method to delete a list item.\n",
    "\n",
    "3. using **pop()**\n",
    "\n",
    "The pop() method removes the specified index.\n",
    "\n",
    "\n",
    "\n"
   ]
  },
  {
   "cell_type": "code",
   "execution_count": 81,
   "id": "f1bde540",
   "metadata": {},
   "outputs": [
    {
     "name": "stdout",
     "output_type": "stream",
     "text": [
      "['C++', 'C', 'Java', 'Rust', 'R', 'php', 'go']\n",
      "['C++', 'Java', 'Rust', 'R', 'php', 'go']\n",
      "['C++', 'Java', 'Rust', 'R', 'go']\n",
      "None\n"
     ]
    }
   ],
   "source": [
    "languages = ['Python', 'Swift', 'C++', 'C', 'Java', 'Rust', 'R', 'php', 'go']\n",
    "\n",
    "del languages[0 : 2]  \n",
    "print(languages)\n",
    "\n",
    "languages.remove('C')\n",
    "print(languages)\n",
    "\n",
    "languages.pop(4) # remove the 4th index  pop() will remove the last one \n",
    "print(languages)\n",
    "\n",
    "# delete entire list and error\n",
    "print(languages.clear())"
   ]
  },
  {
   "cell_type": "code",
   "execution_count": 9,
   "id": "44220fde",
   "metadata": {},
   "outputs": [
    {
     "name": "stdout",
     "output_type": "stream",
     "text": [
      "[(1, 1), (1, 2), (1, 3), (1, 4), (2, 1), (2, 2), (2, 3), (2, 4)]\n",
      "___________________________\n",
      "[2.6, 4.5, 6.3]\n"
     ]
    }
   ],
   "source": [
    "a = [1 ,2]\n",
    "b = [1, 2, 3, 4,]\n",
    "c=[]\n",
    "for i in a:\n",
    "    for j in b:\n",
    "        c.append((i,j))\n",
    "print(c)\n",
    "\n",
    "print('___________________________')\n",
    "\n",
    "a = [2.6, float('NaN'), 4.5, 6.3]    #removing nan item\n",
    "B =[]\n",
    "import math\n",
    "for i in a:\n",
    "    if not math.isnan(i):\n",
    "        B.append(i)\n",
    "print(B)\n"
   ]
  },
  {
   "cell_type": "code",
   "execution_count": 59,
   "id": "3b4ea030",
   "metadata": {},
   "outputs": [
    {
     "name": "stdout",
     "output_type": "stream",
     "text": [
      "3\n",
      "[1, 2, 3]\n",
      "__________________\n",
      "[1, 2, 3]\n",
      "[4, 5, 6]\n",
      "[7, 8, 9]\n",
      "1  4  7  \n",
      "1  5  9  \n",
      "3  5  7  \n",
      "_______________\n",
      "[6, 15, 24]\n"
     ]
    }
   ],
   "source": [
    "m = [             #matrix\n",
    "    [1,2,3],\n",
    "    [4,5,6],\n",
    "    [7,8,9]\n",
    "     ]\n",
    "print(len(m))\n",
    "print(m[0])\n",
    "print('__________________')\n",
    "for i in m:\n",
    "    print(i)\n",
    "    \n",
    "for i in m:   #sootun\n",
    "    print(i[0], end= '  ')\n",
    "    \n",
    "print()\n",
    "\n",
    "for i in range(0,3):\n",
    "    print(m[i][i], end= '  ')  #anasore qotri\n",
    "\n",
    "print()\n",
    "\n",
    "for i in range(0,3):         #qotre farE (i = 0,1,2) --> m[0][2], m[1][1], m[2][0]\n",
    "    print(m[i][2-i], end= '  ')\n",
    "print()    \n",
    "print('_______________')\n",
    "\n",
    "a = []\n",
    "a.extend([sum(i) for i in m])    #jame satr ha\n",
    "print(a)\n",
    "\n",
    "print('_______________')\n",
    "\n",
    "b = [] \n",
    "for col in range(3):                    #jame sotunha\n",
    "    b.append(sum(i[col] for i in m))\n",
    "print(b)"
   ]
  },
  {
   "cell_type": "code",
   "execution_count": 27,
   "id": "e15f26c1",
   "metadata": {},
   "outputs": [
    {
     "name": "stdout",
     "output_type": "stream",
     "text": [
      "['apple', 'banana', 'mango']\n",
      "['apple', 'banana', 'mango']\n"
     ]
    }
   ],
   "source": [
    "fruits = [\"apple\", \"banana\", \"cherry\", \"kiwi\", \"mango\"]\n",
    "newlist = []\n",
    "\n",
    "for x in fruits:\n",
    "    if \"a\" in x:\n",
    "        newlist.append(x)\n",
    "print(newlist)\n",
    "\n",
    "#list comprehension\n",
    "\n",
    "\n",
    "fruits = [\"apple\", \"banana\", \"cherry\", \"kiwi\", \"mango\"]\n",
    "\n",
    "newlist = [x for x in fruits if \"a\" in x]\n",
    "\n",
    "print(newlist)"
   ]
  },
  {
   "cell_type": "markdown",
   "id": "0bcb7259",
   "metadata": {},
   "source": [
    "**Condition** (list compehension)\n",
    "\n",
    "The condition is like a **filter** that only accepts the items that valuate to True."
   ]
  },
  {
   "cell_type": "code",
   "execution_count": 35,
   "id": "0be8d94b",
   "metadata": {},
   "outputs": [
    {
     "name": "stdout",
     "output_type": "stream",
     "text": [
      "['BANANA', 'CHERRY', 'KIWI', 'MANGO']\n",
      "['apple', 'orange', 'cherry', 'kiwi', 'mango']\n"
     ]
    }
   ],
   "source": [
    "fruits = [\"apple\", \"banana\", \"cherry\", \"kiwi\", \"mango\"]\n",
    "\n",
    "newlist = [x.upper() for x in fruits if x != \"apple\"]\n",
    "newlist2 = [x if x != \"banana\" else \"orange\" for x in fruits]\n",
    "print(newlist)\n",
    "print(newlist2)"
   ]
  },
  {
   "cell_type": "markdown",
   "id": "2c7d0dcf",
   "metadata": {},
   "source": [
    "<font color= 'steelblue' size = '3'> **sort**</font>\n",
    "\n",
    "notice that sort is case insensitive, u can first lower them, then use sort"
   ]
  },
  {
   "cell_type": "code",
   "execution_count": 16,
   "id": "8607bace",
   "metadata": {},
   "outputs": [
    {
     "name": "stdout",
     "output_type": "stream",
     "text": [
      "['Tara', 'Zari', 'ali', 'reza'] sort befor lowercase\n",
      "['ali', 'reza', 'Tara', 'Zari'] sort after lower case\n",
      "[12421, 21323, 23123, 23124, 23213, 23412, 23432]\n",
      "['younes', 'reza', 'navid', 'kaveh', 'hossien', 'farhad', 'ali']\n",
      "['ali', 'farhad', 'hossien', 'kaveh', 'navid', 'reza', 'younes']\n"
     ]
    }
   ],
   "source": [
    "anylist = ['reza', 'Tara', 'Zari','ali']\n",
    "\n",
    "anylist.sort()\n",
    "print(anylist, 'sort befor lowercase')\n",
    "anylist.sort(key = str.lower)\n",
    "print(anylist,'sort after lower case')\n",
    "\n",
    "numlist = [21323,23124,23432,23213,12421,23123,23412]\n",
    "numlist.sort()\n",
    "print(numlist)\n",
    "\n",
    "mylist = ['reza', 'farhad', 'navid', 'hossien', 'kaveh','ali', 'younes'] \n",
    "mylist.sort(reverse = True) #barax but uppercase is important\n",
    "print(mylist)\n",
    "\n",
    "mylist.reverse() # regardless to alphabet it will reverse the list\n",
    "print(mylist)\n"
   ]
  },
  {
   "cell_type": "markdown",
   "id": "1c045931",
   "metadata": {},
   "source": [
    "<font color= 'steelblue' size = '3'>**Customize Sort Function**</font>\n",
    "\n",
    "You can also customize your own function by using the keyword argument key = function.\n",
    "\n",
    "The function will return a number that will be used to sort the list (the lowest number first):"
   ]
  },
  {
   "cell_type": "code",
   "execution_count": 28,
   "id": "d7d26395",
   "metadata": {},
   "outputs": [
    {
     "name": "stdout",
     "output_type": "stream",
     "text": [
      "your age: 32\n",
      "[33, 34, 36, 26, 38, 25, 23, 41, 21]\n"
     ]
    }
   ],
   "source": [
    "def closerto(n):\n",
    "    return abs (n - x)\n",
    "\n",
    "x = int(input('your age: '))\n",
    "this_list = [23,25,26,34,21,33,41,36,38]\n",
    "this_list.sort(key = closerto)\n",
    "print(this_list)"
   ]
  },
  {
   "cell_type": "markdown",
   "id": "d218c21a",
   "metadata": {},
   "source": [
    "<font color = 'steelblue' size = '3'>**Copy a List**</font>\n",
    "\n",
    "You cannot copy a list simply by typing **list2 = list1**, because: list2 will only <br>be a reference to list1, and changes made in list1 will automatically also be made in list2.\n",
    "\n",
    "There are ways to make a copy, one way is to use the built-in List method **copy()**."
   ]
  },
  {
   "cell_type": "code",
   "execution_count": 23,
   "id": "090b1608",
   "metadata": {},
   "outputs": [
    {
     "name": "stdout",
     "output_type": "stream",
     "text": [
      "['apple', 'banana', 'cherry']\n",
      "['apple', 'banana', 'cherry']\n"
     ]
    }
   ],
   "source": [
    "thislist = [\"apple\", \"banana\", \"cherry\"]\n",
    "mylist = thislist.copy()\n",
    "print(mylist) #or\n",
    "mylist2 = list(thislist)\n",
    "print(mylist2)"
   ]
  },
  {
   "cell_type": "markdown",
   "id": "f64b9b24",
   "metadata": {},
   "source": [
    "<font color = 'steelblue' sie = '3'>**join(), append(), extend()**</font>"
   ]
  },
  {
   "cell_type": "code",
   "execution_count": 27,
   "id": "8668faf3",
   "metadata": {},
   "outputs": [
    {
     "name": "stdout",
     "output_type": "stream",
     "text": [
      "['a', 'b', 'c', 1, 2, 3]\n",
      "['a', 'b', 'c', 1, 2, 3, 1, 2, 3]\n"
     ]
    }
   ],
   "source": [
    "list1 = [\"a\", \"b\" , \"c\"]\n",
    "list2 = [1, 2, 3]\n",
    "for x in list2:\n",
    "    list1.append(x)\n",
    "print(list1)\n",
    "\n",
    "list1.extend(list2)\n",
    "print(list1)"
   ]
  },
  {
   "cell_type": "markdown",
   "id": "196e27f1",
   "metadata": {},
   "source": [
    "<font color= 'darkred' size = '5'>**Python Tuple**</font>\n",
    "    \n",
    "A tuple in Python is similar to a list, but tuples are unchangeble.\n",
    "\n",
    "Unchangeable Tuples meaning that we cannot **change, add or remove** items after the tuple has been created.\n",
    "\n",
    "<font color= 'steelblue' size = '4'> **Creating a Tuple**</font><br>\n",
    "\n",
    "A tuple is created by placing all the items (elements) inside parentheses (), separated by commas. The parentheses are optional, however, it is a good practice to use them.(we can also create tuples without using parentheses)\n",
    "\n",
    "A tuple can have any number of items and they may be of different types (integer, float, list, string, etc.).\n",
    "\n"
   ]
  },
  {
   "cell_type": "code",
   "execution_count": 75,
   "id": "7b1b3733",
   "metadata": {},
   "outputs": [
    {
     "name": "stdout",
     "output_type": "stream",
     "text": [
      "()\n",
      "(1, 2, 3)\n",
      "(1, 'Hello', 3.4)\n",
      "('mouse', [8, 4, 6], (1, 2, 3))\n",
      "('reez', 1, 2, 3, 'goofy')\n",
      "5\n",
      "reez\n"
     ]
    }
   ],
   "source": [
    "# Different types of tuples\n",
    "\n",
    "# Empty tuple\n",
    "my_tuple = ()\n",
    "print(my_tuple)\n",
    "\n",
    "my_tuple = (1, 2, 3)\n",
    "print(my_tuple)\n",
    "\n",
    "# tuple with mixed datatypes\n",
    "my_tuple = (1, \"Hello\", 3.4)\n",
    "print(my_tuple)\n",
    "\n",
    "# nested tuple\n",
    "my_tuple = (\"mouse\", [8, 4, 6], (1, 2, 3))\n",
    "print(my_tuple)\n",
    "\n",
    "#without paranteses\n",
    "\n",
    "my_tuple = 'reez',1,2,3,'goofy'\n",
    "print(my_tuple)\n",
    "print(len(my_tuple))\n",
    "print(my_tuple[0])\n",
    "#my_tuple[1] = 'art' #error\n"
   ]
  },
  {
   "cell_type": "markdown",
   "id": "87213ea3",
   "metadata": {},
   "source": [
    "<font color ='steelblue' size ='4'>**Create a Python Tuple With one Element**</font>\n",
    "\n",
    "In Python, creating a tuple with one element is a bit tricky. Having one element within parentheses is not enough.\n",
    "\n",
    "We will need a trailing comma to indicate that it is a tuple,\n"
   ]
  },
  {
   "cell_type": "code",
   "execution_count": 21,
   "id": "f0c27ac1",
   "metadata": {},
   "outputs": [],
   "source": [
    "var1 = (\"Hello\") # string\n",
    "var2 = (\"Hello\",) # tuple"
   ]
  },
  {
   "cell_type": "code",
   "execution_count": 23,
   "id": "af887a28",
   "metadata": {},
   "outputs": [
    {
     "name": "stdout",
     "output_type": "stream",
     "text": [
      "<class 'tuple'>\n",
      "<class 'tuple'>\n"
     ]
    }
   ],
   "source": [
    "mytuple = (\"apple\", \"banana\", \"cherry\")\n",
    "print(type(mytuple))\n",
    "thislist = tuple ([\"apple\", \"banana\", \"cherry\"])\n",
    "print(type(thislist))"
   ]
  },
  {
   "cell_type": "markdown",
   "id": "70ecd816",
   "metadata": {},
   "source": [
    "Like a list, each element of a tuple is represented by index numbers (0, 1, ...) where the first element is at index 0.\n",
    "\n",
    "We use the index number to access tuple elements. For example:\n",
    "\n",
    "<span style = 'color:steelblue;font-weight:600;font-size:20px'>Indexing and slicing</span><br>\n",
    "We can use the index operator [] to access an item in a tuple, where the index starts from 0.\n",
    "\n",
    "So, a tuple having 6 elements will have indices from 0 to 5. Trying to access an index outside of the tuple index range( 6,7,... in this example) will raise an IndexError.\n",
    "\n",
    "The index must be an integer, so we cannot use float or other types. This will result in TypeError"
   ]
  },
  {
   "cell_type": "code",
   "execution_count": 91,
   "id": "9ac27a99",
   "metadata": {},
   "outputs": [
    {
     "name": "stdout",
     "output_type": "stream",
     "text": [
      "p\n",
      "a\n",
      "i\n",
      "8\n",
      "('r', 'o', 'g')\n",
      "('p', 'r')\n"
     ]
    }
   ],
   "source": [
    "letters = (\"p\", \"r\", \"o\", \"g\", \"r\", \"a\", \"m\", \"i\", \"z\")\n",
    "\n",
    "print(letters[0])   \n",
    "print(letters[5])\n",
    "print(letters[-2])\n",
    "print(letters.index('z')) #location \n",
    "\n",
    "print(letters[1:4])\n",
    "print(letters[:-7])"
   ]
  },
  {
   "cell_type": "code",
   "execution_count": 112,
   "id": "21e525c4",
   "metadata": {},
   "outputs": [
    {
     "name": "stdout",
     "output_type": "stream",
     "text": [
      "('apple', 'kiwi', 'cherry', 'melon')\n",
      "__________\n",
      "('apple', 'banana', 'cherry', 'orange')\n",
      "blue\n",
      "7mil\n"
     ]
    },
    {
     "data": {
      "text/plain": [
       "str"
      ]
     },
     "execution_count": 112,
     "metadata": {},
     "output_type": "execute_result"
    }
   ],
   "source": [
    "#what i mean by unchangable #we cant use append فلان \n",
    "x = (\"apple\", \"banana\", \"cherry\", \"melon\", \"lemon\")\n",
    "y = list(x)\n",
    "y.remove(\"lemon\") #use list method\n",
    "y[1] = \"kiwi\"\n",
    "x = tuple(y)\n",
    "print(x)\n",
    "print('__________')\n",
    "\n",
    "# u cant add items in ur tuple but tuple + tuple is true\n",
    "thistuple = (\"apple\", \"banana\", \"cherry\")\n",
    "z = (\"orange\",)\n",
    "thistuple += z\n",
    "# .append give us an error for tuple\n",
    "print(thistuple)\n",
    "\n",
    "#unpack\n",
    "car = ('blue','auto', '7mil')\n",
    "color, model, price = car\n",
    "print(color)\n",
    "print(price)"
   ]
  },
  {
   "cell_type": "markdown",
   "id": "0dcccfb6",
   "metadata": {},
   "source": [
    "<font color= 'steelblue' size = '3'>**Python Tuple Methods**</font><br>\n",
    "\n",
    "In Python ,methods that add items or remove items are not available with tuple. Only the following two methods are available.\n",
    "\n",
    "Some examples of Python tuple methods:\n",
    "\n"
   ]
  },
  {
   "cell_type": "code",
   "execution_count": 130,
   "id": "43a87004",
   "metadata": {},
   "outputs": [
    {
     "name": "stdout",
     "output_type": "stream",
     "text": [
      "2\n",
      "1\n",
      "51\n",
      "9\n",
      "0\n",
      "(0, 7, 6, 5, 4, 3, 2, 5, 4, 3, 2, 1, 9)\n",
      "[('a', 9), ('p', 1), ('p', 2), ('l', 3), ('e', 4)]\n",
      "[('a', 'p', 'p', 'l', 'e'), (9, 1, 2, 3, 4)]\n"
     ]
    }
   ],
   "source": [
    "my_tuple = ('a', 'p', 'p', 'l', 'e',)\n",
    "numbs = (9,1,2,3,4,5,2,3,4,5,6,7,0)\n",
    "\n",
    "print(my_tuple.count('p'))#count\n",
    "print(numbs.count(9))\n",
    "print(sum(numbs))\n",
    "print(max(numbs))\n",
    "print(min(numbs))\n",
    "print(tuple(reversed(numbs)))\n",
    "c = zip(my_tuple, numbs)  #zip\n",
    "c = list(c)\n",
    "print(c)\n",
    "#unzip\n",
    "u = zip(*c)\n",
    "print(list(u))"
   ]
  },
  {
   "cell_type": "markdown",
   "id": "badbc00b",
   "metadata": {},
   "source": [
    "<font color = 'steelblue' size = '3' >**Iterating through a Tuple in Python**</font>\n",
    "\n",
    "We can use the for loop to iterate over the elements of a tuple. For example,"
   ]
  },
  {
   "cell_type": "code",
   "execution_count": 12,
   "id": "2b7bc21f",
   "metadata": {},
   "outputs": [
    {
     "name": "stdout",
     "output_type": "stream",
     "text": [
      "Python\n",
      "Swift\n",
      "C++\n"
     ]
    }
   ],
   "source": [
    "languages = ('Python', 'Swift', 'C++')\n",
    "\n",
    "# iterating through the tuple\n",
    "for language in languages:\n",
    "    print(language)"
   ]
  },
  {
   "cell_type": "code",
   "execution_count": 1,
   "id": "30fc077d",
   "metadata": {},
   "outputs": [
    {
     "name": "stdout",
     "output_type": "stream",
     "text": [
      "reza\n",
      "ali\n",
      "sajad\n",
      "nvid\n",
      "kave\n",
      "mina\n"
     ]
    }
   ],
   "source": [
    "mytuple = ('reza','ali','sajad','nvid','kave','mina')\n",
    "for i in range(len(mytuple)):\n",
    "#or for i range mytuple:\n",
    "       #print(i)\n",
    "    print(mytuple[i])"
   ]
  },
  {
   "cell_type": "code",
   "execution_count": 152,
   "id": "34ea1667-3286-4c5e-89e2-5f04f622e228",
   "metadata": {},
   "outputs": [
    {
     "name": "stdout",
     "output_type": "stream",
     "text": [
      "3\n"
     ]
    }
   ],
   "source": [
    "#can you count the tuoles?!\n",
    "num = [1,3, (8,) , (7,8), 9,6, (42), (34,2),'c'] \n",
    "c = 0\n",
    "for i in num:\n",
    "    if isinstance(i, tuple):    #methods for finding tuples\n",
    "       c+= 1\n",
    "print(c)"
   ]
  },
  {
   "cell_type": "code",
   "execution_count": 195,
   "id": "289f1e2c-501e-424c-a41f-ff110ebcb8fe",
   "metadata": {},
   "outputs": [
    {
     "name": "stdout",
     "output_type": "stream",
     "text": [
      "[(1, 2, 9), (4, 5, 9)]\n"
     ]
    }
   ],
   "source": [
    "#can you change 3 and 6 to 9?!\n",
    "a = [(1,2,3), (4,5,6)]\n",
    "b = [i[:-1]+(9,) for i in a]\n",
    "print(b)"
   ]
  },
  {
   "cell_type": "markdown",
   "id": "01f638af",
   "metadata": {},
   "source": [
    "<font color= 'steelblue' size = '3'>**Advantages of Tuple over List in Python**</font>\n",
    "\n",
    "Since tuples are quite similar to lists, both of them are used in similar situations.\n",
    "\n",
    "However, there are certain advantages of implementing a tuple over a list:\n",
    "\n",
    "1. We generally use tuples for heterogeneous (different) data types and lists for homogeneous (similar) data types.\n",
    "2. Since tuples are immutable, iterating through a tuple is faster than with a list. So there is a slight performance boost.\n",
    "3. Tuples that contain immutable elements can be used as a key for a dictionary. With lists, this is not possible.\n",
    "4. If you have data that doesn't change, implementing it as tuple will guarantee that it remains write-protected."
   ]
  },
  {
   "cell_type": "markdown",
   "id": "5d0be56c",
   "metadata": {},
   "source": [
    "<span style ='color:darkred;font-weight:700;font-size:30px'> Python Strings </span>\n",
    "\n",
    "<font color= 'steelblue' size = '4'>**Methods of Python String**</font>\n",
    "\n",
    "Besides those mentioned above, there are various string methods present in Python. Here are some of those methods:"
   ]
  },
  {
   "cell_type": "markdown",
   "id": "bddc1d04",
   "metadata": {},
   "source": [
    "| Methods   |\tDescription |\n",
    "| :-        |   :-          |\n",
    "|upper()\t|converts the string to uppercase|\n",
    "|lower()    |converts the string to lowercase\n",
    "|zfill()    |adds zeros (0) at the beginning\n",
    "|replace()\t|replaces substring inside\n",
    "|find()\t|returns the index of first occurrence of substring\n",
    "|rstrip()\t|removes trailing characters\n",
    "|split()\t|splits string from left\n",
    "|isdigit()\t|checks ndigits characters\n",
    "|index()\t|returns index of substring|"
   ]
  },
  {
   "cell_type": "markdown",
   "id": "284f753a",
   "metadata": {},
   "source": [
    "<font color= 'steelblue' size = '4'>**Escape Sequences, strip(), replace(), split()** </font>\n",
    "\n",
    "- The escape sequence is used to escape some of the characters present inside a string.\n",
    "\n",
    "- The **split()** method returns a list  where the text between the specified separator becomes the list items."
   ]
  },
  {
   "cell_type": "code",
   "execution_count": 7,
   "id": "54a8a266",
   "metadata": {},
   "outputs": [
    {
     "name": "stdout",
     "output_type": "stream",
     "text": [
      "bcd\n",
      "fedcba\n",
      "______________________________\n",
      "20\n",
      "y\n",
      "True\n",
      "False\n",
      "True\n",
      "False\n",
      "______________________________\n",
      "10\n",
      "______________________________\n",
      "True\n",
      "False\n",
      "4\n",
      "9\n",
      "3\n",
      "Welcome to my soul society!\n",
      "Welcome To My Soul Society!\n",
      "WELCOME TO MY SOUL SOCIETY!\n",
      "welcome to my home!\n",
      "['welcome', 'to', 'my', 'soul', 'society!']\n",
      "______________________________\n",
      "gmail.com\n",
      "['zara', 'gmail.com']\n",
      "______________________________\n",
      "python!\n",
      "python!$$$\n",
      "$$$python!\n",
      "www.sanjesh.org!\n"
     ]
    }
   ],
   "source": [
    "a = 'abcdef'\n",
    "print(a[1:4]) #bcd\n",
    "print(a[::-1]) #barax\n",
    "print('______________________________')\n",
    "\n",
    "s = 'python3 strings data'\n",
    "print(len(s))\n",
    "print(max(s))           #y\n",
    "print('th' in s)       #True\n",
    "print('st' not in s)   #true\n",
    "print(s.islower())    #true\n",
    "print(s.isdigit())    #false\n",
    "\n",
    "print('______________________________')\n",
    "\n",
    "d = '12a3bcd4'    #jame adad dar string\n",
    "k = 0\n",
    "for i in d:\n",
    "    if i.isdigit()== True:\n",
    "        k += int(i)\n",
    "print(k)\n",
    "\n",
    "print('______________________________')\n",
    "\n",
    "f = 'welcome to my soul society!'\n",
    "print(f.startswith('we')) #true\n",
    "print(f.endswith('ty'))   #false !\n",
    "print(f.find('o'))        #4\n",
    "print(f.index('o',5))   #index will give us an error if dont find a character but find wont\n",
    "print(f.count('e'))\n",
    "print(f.capitalize())   #Welcome to my soul society!\n",
    "print(f.title())        #Welcome To My Soul Society!\n",
    "print(f.upper())        #WELCOME TO MY SOUL SOCIETY!   \n",
    "print(f.replace('soul society', 'home'))\n",
    "print(f.split())    # .join yek list ra jomle mikonad baraxe split\n",
    "\n",
    "print('______________________________')\n",
    "\n",
    "q = 'zara@gmail.com'\n",
    "i = q.find('@')    \n",
    "print(q[i+1:])    #gmail.com\n",
    "print(q.split('@'))\n",
    "\n",
    "print('______________________________')\n",
    "\n",
    "k = '$$$python!$$$'\n",
    "print(k.strip('$'))    #python!\n",
    "print(k.lstrip('$'))  #python!$$$\n",
    "print(k.rstrip('$'))   #$$$python!\n",
    "\n",
    "ad = '###www.sanjesh.org!$$$$'\n",
    "print(ad.lstrip('###').rstrip('$$$'))\n",
    "\n"
   ]
  },
  {
   "cell_type": "markdown",
   "id": "9c4bc6cb",
   "metadata": {},
   "source": [
    "<font color = 'steelblue' size ='4'>**format(), count(), index(), is digit(), zfill(), join(),translate()** </font>\n",
    "\n",
    "\n",
    "- we can combine strings and numbers by using the **format()** method!<br>The format() method takes the passed arguments, formats them, and places them in the string where the placeholders {}\n",
    "\n",
    "- he **index()** method is almost the same as the find() method, the only difference is that the find() method returns -1 if the value is not found, **rindex()** will find the last given value\n",
    "- **isdigit()** Check if all the characters in the text are digits\n",
    "- The **zfill()** method adds zeros (0) at the beginning of the string, until it reaches the specified length.<br> if the value of the len parameter is less than the length of the string, no filling is done"
   ]
  },
  {
   "cell_type": "code",
   "execution_count": 47,
   "id": "2f581569",
   "metadata": {},
   "outputs": [
    {
     "name": "stdout",
     "output_type": "stream",
     "text": [
      "My name is mamad, and I am 36\n",
      "16.000000 15\n",
      "16.000000 15\n",
      "17.88\n",
      "83.30%\n",
      "2,000,000,000,000\n"
     ]
    }
   ],
   "source": [
    "age = 36\n",
    "name = 'mamad'\n",
    "txt = \"My name is {0}, and I am {1}\".format(name,age)\n",
    "print(txt)\n",
    "\n",
    "n = 16\n",
    "m = 15\n",
    "f = 17.87546432\n",
    "p = 0.833    # %\n",
    "k = 2000000000000\n",
    "\n",
    "print('{0:f} {1:d}'.format(n, m))\n",
    "print('{:.2f}'.format(f))\n",
    "print('{:.2%}'.format(p))\n",
    "print('{:,}'.format(k))"
   ]
  },
  {
   "cell_type": "code",
   "execution_count": 7,
   "id": "728c4832",
   "metadata": {},
   "outputs": [
    {
     "name": "stdout",
     "output_type": "stream",
     "text": [
      "4\n",
      "1\n"
     ]
    },
    {
     "data": {
      "text/plain": [
       "True"
      ]
     },
     "execution_count": 7,
     "metadata": {},
     "output_type": "execute_result"
    }
   ],
   "source": [
    "d = 'this new tree is to be here to live long life'\n",
    "m = '23345'\n",
    "print(d.count('t'))\n",
    "print(d.index('h'))\n",
    "m.isdigit()"
   ]
  },
  {
   "cell_type": "code",
   "execution_count": 15,
   "id": "5c4ee10c",
   "metadata": {},
   "outputs": [
    {
     "name": "stdout",
     "output_type": "stream",
     "text": [
      "000345\n",
      "10\n",
      "sara****\n",
      "****sara\n",
      "**sara**\n"
     ]
    }
   ],
   "source": [
    "a = 345\n",
    "b = str(a).zfill(6) #zero fill\n",
    "print(b)\n",
    "\n",
    "d ='00010'\n",
    "print(str(int(d)))\n",
    "\n",
    "s = 'sara'\n",
    "print(s.ljust(8, '*'))\n",
    "print(s.rjust(8, '*'))\n",
    "print(s.center(8, '*'))"
   ]
  },
  {
   "cell_type": "markdown",
   "id": "7601c002",
   "metadata": {},
   "source": [
    "- The **translate()** method returns a string where some specified characters are replaced with the character described in a dictionary, or in a mapping table.\n",
    "- Use the **maketrans()** method to create a mapping table.\n",
    "- The **join()** method takes all items in an iterable and joins them into one string. A string must be specified as the separator."
   ]
  },
  {
   "cell_type": "code",
   "execution_count": 34,
   "id": "5d8e2243",
   "metadata": {},
   "outputs": [
    {
     "name": "stdout",
     "output_type": "stream",
     "text": [
      " this rife is furr of shit\n"
     ]
    }
   ],
   "source": [
    "a = ' this life is full of shit'\n",
    "b = str.maketrans('l', 'r')\n",
    "print(a.translate(b))\n"
   ]
  },
  {
   "cell_type": "markdown",
   "id": "958a4497",
   "metadata": {},
   "source": [
    "<font color= 'darkred' size = '5'>**Pyhton Set**</font>\n",
    "\n",
    "<font color= 'steelblue' size = '3'>**Create a Set in Python**</font>\n",
    "\n",
    "In Python, we create sets by placing all the elements inside curly braces {}, separated by comma.\n",
    "\n",
    "A set can have any number of items and they may be of different types (integer, float, tuple, string etc.).<br>But a set cannot have mutable elements like lists, sets or dictionaries as its elements.<br> sets are unchangable but we can add and remove new items.\n",
    "\n",
    "\n",
    "<font color='steelblue'>**Notice that**</font><br> you might get output in a different \n",
    "order. This is because the set has no particular order."
   ]
  },
  {
   "cell_type": "markdown",
   "id": "1b7f5b35-5903-43e2-9610-882fdf5495d1",
   "metadata": {},
   "source": [
    "|Method\t|Description|\n",
    "|:-     |:-         |\n",
    "|add()\t|Adds an element to the set|\n",
    "|clear()\t|Removes all elements from the set\n",
    "|copy()\t|Returns a copy of the set\n",
    "|difference()\t|Returns the difference of two or more sets as a new set\n",
    "|discard()\t|Removes an element from the set if it is a member. (Do nothing if the element is not in set)\n",
    "|intersection()\t|Returns the intersection of two sets as a new set\n",
    "|issubset()\t|Returns True if another set contains this set\n",
    "|issuperset()\t|Returns True if this set contains another set|"
   ]
  },
  {
   "cell_type": "code",
   "execution_count": 14,
   "id": "cd988bcb",
   "metadata": {},
   "outputs": [
    {
     "name": "stdout",
     "output_type": "stream",
     "text": [
      "Student ID: {112, 114, 115, 116, 118}\n",
      "Set of mixed data types: {'Bye', 'Hello', 101, True}\n",
      "False\n",
      "{'mango', 'apple', 'cucumber', 'cherry', 'banana'}\n",
      "{'mango', 'apple', 'cucumber', 'cherry', 'grapes', 'banana'}\n"
     ]
    },
    {
     "data": {
      "text/plain": [
       "{'banana', 'cherry', 'cucumber', 'grapes', 'mango'}"
      ]
     },
     "execution_count": 14,
     "metadata": {},
     "output_type": "execute_result"
    }
   ],
   "source": [
    "# create a set of integer type\n",
    "student_id = {112, 114, 116, 118, 115}\n",
    "print('Student ID:', student_id)\n",
    "\n",
    "\n",
    "# create a set of mixed data types\n",
    "\n",
    "mixed_set = {'Hello', 101, True , 'Bye'}\n",
    "print('Set of mixed data types:', mixed_set)\n",
    "len(mixed_set)\n",
    "type(mixed_set)\n",
    "\n",
    "mytupleset = set((2,3,4,5,6,7))\n",
    "print(8 in mytupleset)\n",
    "\n",
    "f = set(('apple','cherry','mango','banana'))\n",
    "f.add('cucumber')\n",
    "print(f)\n",
    "f.update(['mango','grapes'])\n",
    "print(f)\n",
    "f.remove('apple')\n",
    "f\n"
   ]
  },
  {
   "cell_type": "code",
   "execution_count": 1,
   "id": "90df86a9",
   "metadata": {},
   "outputs": [
    {
     "name": "stdout",
     "output_type": "stream",
     "text": [
      "{8, 2, 4, 6}\n"
     ]
    }
   ],
   "source": [
    "# create an empty set\n",
    "empty_set = set()\n",
    "\n",
    "# create an empty dictionary\n",
    "empty_dictionary = { }\n",
    "\n",
    "#______________________\n",
    "\n",
    "numbers = {2, 4, 2, 8, 4, 6, 6, 2, 8}\n",
    "print(numbers)\n",
    "\n",
    "#Here, we can see there are no duplicate items in the set as a set cannot contain duplicates.\n",
    "\n"
   ]
  },
  {
   "cell_type": "markdown",
   "id": "ded7d9ad",
   "metadata": {},
   "source": [
    "- Sets are **mutable**. However, since they are unordered, **indexing** has no meaning.\n",
    "\n",
    "- We cannot access or change an element of a set using indexing or slicing. Set data type does not support it.\n",
    "\n",
    "- we use the **add()** method to add an item to a set<br>\n",
    "\n",
    "- The **update()** method is used to update the set with items other collection types (lists, tuples, sets, etc).\n",
    "- the **union()** method is used to join 2 sets, note that both union() and update() will exclude any duplicate items.\n",
    "\n",
    "- We use the **discard()** or **remove()** method to remove the specified element from a set\n",
    "\n",
    "- You can also use the **pop()** method to remove an item, but this method will remove a random item, so you cannot be sure what item that gets removed.\n",
    "- also **clear()** and **del** will remove whole set"
   ]
  },
  {
   "cell_type": "code",
   "execution_count": 55,
   "id": "61fbe58d",
   "metadata": {},
   "outputs": [
    {
     "name": "stdout",
     "output_type": "stream",
     "text": [
      "Initial Set: {34, 12, 21, 54}\n",
      "Updated Set: {32, 34, 12, 21, 54}\n",
      "{'apple', 'Lacoste', 'Ralph Lauren', 'sumsung', 'google'}\n",
      "_________________\n",
      "{'perl', 'Java', 'Swift', 'Python'}\n",
      "{'perl', 'Java', 'Swift', 'Python'}\n",
      "{'perl', 'Java', 'Python'}\n",
      "_________________\n",
      "cherry\n",
      "{'apple', 'banana'}\n",
      "_________________\n",
      "{'apple', 'Lacoste', 'sumsung', 'Ralph Lauren', 'google'}\n"
     ]
    },
    {
     "data": {
      "text/plain": [
       "set()"
      ]
     },
     "execution_count": 55,
     "metadata": {},
     "output_type": "execute_result"
    }
   ],
   "source": [
    "numbers = {21, 34, 54, 12}\n",
    "\n",
    "print('Initial Set:',numbers)\n",
    "\n",
    "# using add() method\n",
    "numbers.add(32)\n",
    "\n",
    "print('Updated Set:', numbers)\n",
    "#_____________________________________\n",
    "\n",
    "companies = {'Lacoste', 'Ralph Lauren'}\n",
    "tech_companies = ['apple', 'google', 'apple']\n",
    "tech1 = ('sumsung',)\n",
    "companies.update(tech_companies)  #{'apple', 'google', 'Lacoste', 'Ralph Lauren', 'sumsung'}\n",
    "companies.update(tech1)\n",
    "print(companies)\n",
    "print('_________________')\n",
    "#DISCARD AND REMOVE\n",
    "\n",
    "languages = {'Swift', 'Java', 'Python', 'R', 'perl'}\n",
    "languages.discard('R') \n",
    "print(languages)\n",
    "\n",
    "languages.discard('GO') #no error but remove will raise an error\n",
    "print(languages)\n",
    "#remove()\n",
    "languages.remove('Swift')\n",
    "print(languages)\n",
    "\n",
    "print('_________________')\n",
    "\n",
    "#pop() #randomly remove\n",
    "\n",
    "thisset = {\"apple\", \"banana\", \"cherry\"}\n",
    "x = thisset.pop()\n",
    "\n",
    "print(x)\n",
    "print(thisset)\n",
    "print('_________________')\n",
    "c = companies.copy()\n",
    "print(c)\n",
    "c.clear()\n",
    "c"
   ]
  },
  {
   "cell_type": "markdown",
   "id": "aaf6db7f-8b00-4007-bd99-236b18036d1d",
   "metadata": {},
   "source": [
    "<font color= 'steelblue' size = '3'>**Python Set Operations**</font><br>\n",
    "\n",
    "Python Set provides different built-in methods to perform mathematical set operations like union, intersection, subtraction, and symmetric difference.\n",
    "\n",
    "1. The union of two sets A and B include all the elements of set A and B.<br> we use the **|** operator or the **union()** method to perform the set union operation<br> and it is = A ⋃ B set operation.\n",
    "\n",
    "2. Set Intersection <br> The intersection of two sets A and B include the common elements between set A and B. <br> In Python, we use the **&** operator or the **intersection()** method to perform the set intersection operation. \n",
    "\n",
    "3. Difference between Two Sets <br> The difference between two sets A and B include elements of set A that are not present on set B.<br> We use the **-** operator or the **difference()** method to perform the difference between two sets.\n",
    "4. Set Symmetric Difference <br> The symmetric difference between two sets A and B includes all elements of A and B without the common elements.<br> In Python, we use the **^** operator or the **symmetric_difference()** method to perform symmetric difference between two sets"
   ]
  },
  {
   "cell_type": "code",
   "execution_count": 75,
   "id": "97182fd5-82e7-4fb3-8d32-8e4000638055",
   "metadata": {},
   "outputs": [
    {
     "name": "stdout",
     "output_type": "stream",
     "text": [
      "{2, 4}\n",
      "{9, 7}\n",
      "{2, 4}\n",
      "{1, 2, 3, 4, 5} {1, 3, 5, 7, 9}\n",
      "{2, 4} {1, 3, 5, 7, 9}\n",
      "{1, 4}\n",
      "{1, 4}\n",
      "{2, 3}\n",
      "{2, 3}\n",
      "{1, 2, 3, 4}\n",
      "{1, 2, 3, 4}\n"
     ]
    }
   ],
   "source": [
    "a = {1,2,3,4,5}\n",
    "b= {1,3,5,7,9}\n",
    "print(a-b)\n",
    "print(b-a)\n",
    "r= a.difference(b) #tafazol\n",
    "print(r)\n",
    "print(a,b)\n",
    "r= a.difference_update(b) #update a\n",
    "print(a,b)\n",
    "a = {1,2,3}\n",
    "b = {2,3,4}\n",
    "print(a.symmetric_difference(b)) #tafazol moteqaren\n",
    "print(a^b)\n",
    "print(a.intersection(b)) #eshterak\n",
    "print(a&b)\n",
    "print(a.union(b))\n",
    "print(a|b)"
   ]
  },
  {
   "cell_type": "code",
   "execution_count": 88,
   "id": "22632c6d-9c8c-4e99-88c1-534bfb5f7f75",
   "metadata": {},
   "outputs": [
    {
     "name": "stdout",
     "output_type": "stream",
     "text": [
      "False\n",
      "True\n",
      "{'r', 'a'}\n"
     ]
    }
   ],
   "source": [
    "a = {1,2}\n",
    "b = {1,2,3}\n",
    "print(a.isdisjoint(b)) #aya mostaqelan do set :NO\n",
    "print(a.issubset(b)) #zir majmOe\n",
    "\n",
    "w = 'alireza'\n",
    "x = {'a', 'r', 's'}\n",
    "s = set(w)\n",
    "print(x.intersection(s))"
   ]
  },
  {
   "cell_type": "markdown",
   "id": "b06c2176",
   "metadata": {},
   "source": [
    "<font color= 'steelblue' size= '3'>**Built-in Functions with Set**</font>\n"
   ]
  },
  {
   "cell_type": "markdown",
   "id": "c3087b45",
   "metadata": {},
   "source": [
    "|Function\t|Description|\n",
    "|:-         |:-         |\n",
    "|all()\t    |Returns True if all elements of the set are true (or if the set is empty).\n",
    "|any()\t|Returns True if any element of the set is true. If the set is empty, returns False.\n",
    "|enumerate()\t|Returns an enumerate object. It contains the index and value for all the items of the set as a pair.\n",
    "|len()\t|Returns the length (the number of items) in the set.\n",
    "|max()\t|Returns the largest item in the set.\n",
    "|min()\t|Returns the smallest item in the set.\n",
    "|sorted()\t|Returns a new sorted list from elements in the set(does not sort the set itself).\n",
    "|sum()\t|Returns the sum of all elements in the set|"
   ]
  },
  {
   "cell_type": "markdown",
   "id": "459de2ad",
   "metadata": {},
   "source": [
    "<font color= 'darkred' size = '5'>**Python dictionary**</font>"
   ]
  },
  {
   "cell_type": "markdown",
   "id": "bd242257",
   "metadata": {},
   "source": [
    "Dictionary items are ordered, changeable, and does not allow duplicates(same key)\n",
    "\n",
    "Dictionary items are presented in key:value pairs, and can be referred to by using the key name.\n",
    "\n",
    "As of Python version 3.7, dictionaries are ordered. In Python 3.6 and earlier, dictionaries are unordered.<br> \n",
    "When we say that dictionaries are **ordered**, it means that the items have a defined order, and that order will not change.<br>\n",
    "Unordered means that the items does not have a defined order, you cannot refer to an item by using an index.\n",
    "\n",
    "Dictionaries are **changeable**, meaning that we can change, add or remove items after the dictionary has been created."
   ]
  },
  {
   "cell_type": "code",
   "execution_count": 40,
   "id": "7ca71df1",
   "metadata": {},
   "outputs": [
    {
     "name": "stdout",
     "output_type": "stream",
     "text": [
      "dodge\n",
      "challenger\n",
      "3\n",
      "dict_keys(['brand', 'model', 'year'])\n",
      "dict_values(['dodge', 'challenger', '1968'])\n",
      "_____________\n",
      "{'brand': 'ford', 'model': 'mustang', 'color': 'navy', 'year': '1989'}\n",
      "mustang\n",
      "branco\n",
      "{'brand': 'ford', 'model': 'branco', 'color': 'navy', 'year': '1989'}\n",
      "[('brand', 'ford'), ('model', 'branco'), ('color', 'navy'), ('year', '1989')]\n"
     ]
    }
   ],
   "source": [
    "thisdict = {\n",
    "  \"brand\": \"dodge\",\n",
    "  \"model\": \"challenger\",\n",
    "  \"year\": '1968'\n",
    "}\n",
    "print(thisdict[\"brand\"])\n",
    "print(thisdict.get('model')) #method call\n",
    "print(len(thisdict))\n",
    "print(thisdict.keys()) #method\n",
    "print(thisdict.values())\n",
    "print('_____________')\n",
    "\n",
    "d= dict(brand = 'ford',model = 'mustang', color = 'navy')\n",
    "d['year'] = '1989'\n",
    "print(d)\n",
    "print(d['model']) \n",
    "\n",
    "d['model'] = 'branco' #changeable\n",
    "print(d.get('model'))\n",
    "print(d) \n",
    "print(list(d.items()))\n"
   ]
  },
  {
   "cell_type": "markdown",
   "id": "693eaebe-6436-4711-a92d-ae74130d63eb",
   "metadata": {},
   "source": [
    "<font  color='darkred' size = '4'>**Some dictionary functions**</font>\n",
    "\n",
    "|Method    | description      |\n",
    "| :-       | :-               |\n",
    "|clear()   |Removes all the elements|\n",
    "|copy()\t   |Returns a copy of the dictionary\n",
    "|fromkeys()|Returns a dictionary with the specified keys and value\n",
    "|get()\t    |Returns the value of the specified key\n",
    "|items()\t|Returns a list containing a tuple for each key value pair\n",
    "|keys()\t    |Returns a list containing the dictionary's keys\n",
    "|values()\t|Returns a list of all the values in the dictionary\n",
    "|pop()\t    |Removes the element with the specified key\n",
    "|popitem()\t|Removes the last inserted key-value pair\n",
    "|update()   |Updates the dictionary with the specified key-value pairs|"
   ]
  },
  {
   "cell_type": "code",
   "execution_count": 8,
   "id": "73b022a3",
   "metadata": {},
   "outputs": [
    {
     "name": "stdout",
     "output_type": "stream",
     "text": [
      "year: 1998\n",
      "month: 11\n",
      "date: 06\n",
      "date of birth:  1998/11/06\n"
     ]
    }
   ],
   "source": [
    "myDict = {\"year\": input('year: '), \"month\": input('month: ') , 'date': input('date: ')}\n",
    "\n",
    "x = '/'.join(myDict.values())\n",
    "\n",
    "print('date of birth: ',x)"
   ]
  },
  {
   "cell_type": "code",
   "execution_count": 56,
   "id": "e693e90e",
   "metadata": {},
   "outputs": [
    {
     "name": "stdout",
     "output_type": "stream",
     "text": [
      "{'brand': 'dodge', 'year': 1968}\n",
      "{'brand': 'dodge'}\n",
      "{}\n"
     ]
    }
   ],
   "source": [
    "car = {\n",
    "\"brand\": \"dodge\",\n",
    "\"model\": \"charger\",\n",
    "\"year\": 1968\n",
    "}\n",
    "car.pop('model') #remove \n",
    "print(car)\n",
    "\n",
    "car.popitem() #remove an item\n",
    "print(car) \n",
    "\n",
    "car.clear()  #empty dict\n",
    "print(car)"
   ]
  },
  {
   "cell_type": "code",
   "execution_count": 62,
   "id": "224bf38d",
   "metadata": {},
   "outputs": [
    {
     "name": "stdout",
     "output_type": "stream",
     "text": [
      "{'x': 3, 'y': 2, 'z': 1}\n"
     ]
    }
   ],
   "source": [
    "a = [ 'x' , 'y' , 'x', 'z', 'y' ,'x']\n",
    "d = {}\n",
    "for i in a:\n",
    "    if i not in d:\n",
    "        d[i] = 1\n",
    "    else:\n",
    "        d[i]+=1\n",
    "print(d)"
   ]
  },
  {
   "cell_type": "markdown",
   "id": "e26b2cfd",
   "metadata": {},
   "source": [
    "<span style=\"color:steelblue;font-weight:300;font-size:16px\"> **Change, add, remove items**  </span>"
   ]
  },
  {
   "cell_type": "code",
   "execution_count": 66,
   "id": "24ac191d",
   "metadata": {},
   "outputs": [
    {
     "data": {
      "text/plain": [
       "{'car': 'ford', 'model': 'mustang', 'year': '1998', 'color': 'red'}"
      ]
     },
     "execution_count": 66,
     "metadata": {},
     "output_type": "execute_result"
    }
   ],
   "source": [
    "mydictionary = {'car' : 'ford', 'model' : 'mustang' , 'year' : '1998','motor' : 'a_alpha' , 'class' : 'c'}\n",
    "mydictionary.update({'color' :'red'})\n",
    "#mydictionary.update({'model' :'safari'}) #change\n",
    "\n",
    "del mydictionary['class']\n",
    "                 \n",
    "#mydictionary.clear() #empty whole dictionary\n",
    "mydictionary"
   ]
  },
  {
   "cell_type": "code",
   "execution_count": 68,
   "id": "8d166ba2",
   "metadata": {},
   "outputs": [
    {
     "name": "stdout",
     "output_type": "stream",
     "text": [
      "car : ford\n",
      "model : mustang\n",
      "year : 1998\n",
      "color : red\n"
     ]
    }
   ],
   "source": [
    "for x, y in mydictionary.items():\n",
    "    print(x,':', y)"
   ]
  },
  {
   "cell_type": "code",
   "execution_count": 30,
   "id": "a9256dc8",
   "metadata": {},
   "outputs": [
    {
     "name": "stdout",
     "output_type": "stream",
     "text": [
      "car : ford\n",
      "model : mustang\n",
      "year : 1998\n",
      "color : red\n"
     ]
    }
   ],
   "source": [
    "for x, y in mydictionary.items():\n",
    "    print(x,':', y)"
   ]
  },
  {
   "cell_type": "markdown",
   "id": "999bb236",
   "metadata": {},
   "source": [
    "<font color = 'steelblue' size = '3'> **copy a dictionary**</font>"
   ]
  },
  {
   "cell_type": "code",
   "execution_count": 31,
   "id": "a4350aa3",
   "metadata": {},
   "outputs": [
    {
     "name": "stdout",
     "output_type": "stream",
     "text": [
      "{'brand': 'Ford', 'model': 'Mustang', 'year': 1964}\n"
     ]
    }
   ],
   "source": [
    "thisdict = {\n",
    "  \"brand\": \"Ford\",\n",
    "  \"model\": \"Mustang\",\n",
    "  \"year\": 1964\n",
    "}\n",
    "mydict = thisdict.copy()\n",
    "print(mydict)\n",
    "#or \n",
    "#mydict = dict(thisdict)\n",
    "#print(mydict)"
   ]
  },
  {
   "cell_type": "code",
   "execution_count": 92,
   "id": "e7e8b530-8b79-4164-a5b4-0f5fddf1fa51",
   "metadata": {},
   "outputs": [
    {
     "name": "stdout",
     "output_type": "stream",
     "text": [
      "{'a': 5, 'n': 4, 'd': 3, 'j': 1, 's': 1, 'o': 1, 'w': 2, 'r': 1, 'f': 2}\n",
      "{'a': 5, 'n': 4, 'd': 3, 'j': 1, 's': 1, 'o': 1, 'w': 2, 'r': 1, 'f': 2}\n",
      "_____________________\n",
      "{'a': 2, 'dictionary': 1, 'is': 1, 'data': 1, 'structure.': 1}\n"
     ]
    }
   ],
   "source": [
    "s = 'anddjsanadowwnarafnf'\n",
    "d = {}\n",
    "for i in s:\n",
    "    if i not in d:\n",
    "        d[i] = 1\n",
    "    else:\n",
    "        d[i] +=1        \n",
    "print(d)\n",
    "\n",
    "#or\n",
    "s = 'anddjsanadowwnarafnf'\n",
    "d = {}\n",
    "for i in s:\n",
    "    d[i] = d.get(i, 0) + 1\n",
    "print(d)\n",
    "print('_____________________')\n",
    "\n",
    "line = 'a dictionary is a data structure.'\n",
    "d={}\n",
    "s = line.split()\n",
    "for i in s:\n",
    "    d[i] = d.get(i, 0) +1\n",
    "print(d)"
   ]
  },
  {
   "cell_type": "code",
   "execution_count": 116,
   "id": "14702701-eca2-4d12-8e0d-ce3ed5067865",
   "metadata": {},
   "outputs": [
    {
     "name": "stdout",
     "output_type": "stream",
     "text": [
      "20\n",
      "20\n"
     ]
    }
   ],
   "source": [
    "#sumation of numbers in dict\n",
    "\n",
    "d = {'a': 5, 'n': 4, 'd': 3, 'j': 1, 's': 1, 'o': 1, 'w': 2, 'r': 1, 'f': 2}\n",
    "s = 0\n",
    "for i in d:\n",
    "    s += d[i]\n",
    "print(s)\n",
    "#or\n",
    "print(sum(d.values()))"
   ]
  },
  {
   "cell_type": "code",
   "execution_count": 120,
   "id": "09e0fe76-dd70-45fd-9e1f-d7e83a64ce29",
   "metadata": {},
   "outputs": [
    {
     "name": "stdout",
     "output_type": "stream",
     "text": [
      "[('j', 1), ('s', 1), ('o', 1), ('r', 1), ('w', 2), ('f', 2), ('d', 3), ('n', 4), ('a', 5)]\n",
      "[('a', 5), ('d', 3), ('f', 2), ('j', 1), ('n', 4), ('o', 1), ('r', 1), ('s', 1), ('w', 2)]\n",
      "\n",
      "{'ali': [12, 14, 16], 'reza': [16, 17, 19], 'kaveh': [10, 12, 17]}\n"
     ]
    }
   ],
   "source": [
    "#sort\n",
    "d = {'a': 5, 'n': 4, 'd': 3, 'j': 1, 's': 1, 'o': 1, 'w': 2, 'r': 1, 'f': 2}\n",
    "\n",
    "import operator \n",
    "k = operator.itemgetter(1) #reverse\n",
    "print(sorted(d.items(), key = k))\n",
    "\n",
    "k = operator.itemgetter(0)\n",
    "print(sorted(d.items(), key = k))\n",
    "\n",
    "print()\n",
    "\n",
    "scores = {'ali' :[16,14,12], 'reza' : [16,19,17], 'kaveh' :[10, 17,12]}\n",
    "\n",
    "d = {k: sorted(v) for k,v in scores.items()}\n",
    "print(d)"
   ]
  },
  {
   "cell_type": "code",
   "execution_count": 9,
   "id": "61957e3f-53a3-4ebd-b572-36ac4b9313eb",
   "metadata": {},
   "outputs": [
    {
     "name": "stdout",
     "output_type": "stream",
     "text": [
      "{'a': 5, 'n': 4, 'd': 3, 'j': 1, 's': 1, 'o': 1, 'w': 2, 'r': 1}\n",
      "{'a': 5, 'n': 4, 'd': 3, 'j': 1, 's': 1, 'o': 1, 'w': 2, 'r': 1}\n"
     ]
    }
   ],
   "source": [
    "#merging 2 dictionary\n",
    "d1 = {'a': 5, 'n': 4, 'd': 3, 'j': 1}\n",
    "d2 = {'s': 1, 'o': 1, 'w': 2, 'r': 1}\n",
    "d = {}\n",
    "d = d1.copy()\n",
    "d.update(d2)\n",
    "print(d)\n",
    "#or \n",
    "d={}\n",
    "for i in (d1,d2):\n",
    "    d.update(i)\n",
    "print(d)\n"
   ]
  },
  {
   "cell_type": "code",
   "execution_count": 25,
   "id": "dc9a9be8-2c8b-4243-8d2d-a59ac6b1aaec",
   "metadata": {},
   "outputs": [
    {
     "name": "stdout",
     "output_type": "stream",
     "text": [
      "{'red': '#FF0000', 'green': '#008000'}\n"
     ]
    }
   ],
   "source": [
    "k = ['red', 'green']\n",
    "v = ['#FF0000','#008000']\n",
    "\n",
    "z = zip(k,v)\n",
    "d = dict(z)\n",
    "print(d)"
   ]
  },
  {
   "cell_type": "code",
   "execution_count": 27,
   "id": "0a36dab1-14d5-4935-8b00-38325b2f5dc5",
   "metadata": {},
   "outputs": [
    {
     "name": "stdout",
     "output_type": "stream",
     "text": [
      "{'a': 2, 'r': 1}\n"
     ]
    }
   ],
   "source": [
    "s = 'alireza'\n",
    "x = ['a','r']\n",
    "d ={}\n",
    "for i in s:\n",
    "    if i in x:\n",
    "        d.setdefault(i,0)\n",
    "        d[i] +=1\n",
    "print(d)"
   ]
  },
  {
   "cell_type": "code",
   "execution_count": 73,
   "id": "68b68646-a482-4bd8-8244-128360068baa",
   "metadata": {},
   "outputs": [
    {
     "name": "stdout",
     "output_type": "stream",
     "text": [
      "{'a': 5, 'n': 4, 'd': 3, 'm': 8}\n"
     ]
    }
   ],
   "source": [
    "#removing duplicated values\n",
    "m = {'a': 5, 'n': 4, 'd': 3, 'j': 4, 't': 5, 'm': 8, 'p': 3}\n",
    "r ={}\n",
    "\n",
    "for k,v in m.items():\n",
    "    if v not in r.values():\n",
    "        r[k] = v\n",
    "print(r)\n",
    "        "
   ]
  },
  {
   "cell_type": "code",
   "execution_count": 95,
   "id": "a6c14932-f65d-4ce4-90f7-35f31c38d0c4",
   "metadata": {},
   "outputs": [
    {
     "name": "stdout",
     "output_type": "stream",
     "text": [
      "{'head': 2, 'tail': 8}\n"
     ]
    }
   ],
   "source": [
    "d = {'head' :0, 'tail':0}\n",
    "s = list(d.keys())\n",
    "import random\n",
    "for i in range(10):  #10 bar seke ra part mikonim\n",
    "    d [random.choice(s)] +=1\n",
    "    \n",
    "print(d)"
   ]
  }
 ],
 "metadata": {
  "kernelspec": {
   "display_name": "Python 3 (ipykernel)",
   "language": "python",
   "name": "python3"
  },
  "language_info": {
   "codemirror_mode": {
    "name": "ipython",
    "version": 3
   },
   "file_extension": ".py",
   "mimetype": "text/x-python",
   "name": "python",
   "nbconvert_exporter": "python",
   "pygments_lexer": "ipython3",
   "version": "3.12.3"
  }
 },
 "nbformat": 4,
 "nbformat_minor": 5
}
