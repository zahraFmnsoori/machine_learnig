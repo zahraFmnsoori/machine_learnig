{
 "cells": [
  {
   "cell_type": "markdown",
   "id": "8b8ecf80",
   "metadata": {},
   "source": [
    "<font color='darkviolet' size='4'> **Python Functions**</font><br>\n",
    "\n",
    "A function is a block of code that performs a specific task.\n",
    "\n",
    "Suppose, you need to create a program to create a circle and color it. You can create two functions to solve this problem:\n",
    "Dividing a complex problem into smaller chunks makes our program easy to understand and reuse.<br><br>\n",
    "1. create a circle function</font><br>\n",
    "2. create a color function"
   ]
  },
  {
   "cell_type": "markdown",
   "id": "dfd71f0d",
   "metadata": {},
   "source": [
    "<font color='navy' size= '3'>**Types of function**</font><br>\n",
    "\n",
    "There are two types of function in Python programming:\n",
    "\n",
    "1. Standard library functions - These are built-in functions in Python that are available to use.<br>\n",
    "2. User-defined functions - We can create our own functions based on our requirements."
   ]
  },
  {
   "cell_type": "code",
   "execution_count": 2,
   "id": "bae7852b",
   "metadata": {},
   "outputs": [],
   "source": [
    "def function_name(arguments):\n",
    "    # function body \n",
    "\n",
    "    return"
   ]
  },
  {
   "cell_type": "markdown",
   "id": "d438001b",
   "metadata": {},
   "source": [
    "\n",
    "def - keyword used to declare a function<br>\n",
    "function_name - any name given to the function<br>\n",
    "arguments - any value passed to function<br>\n",
    "return (optional) - returns value from a function"
   ]
  },
  {
   "cell_type": "code",
   "execution_count": 4,
   "id": "6b6a0e9d",
   "metadata": {},
   "outputs": [],
   "source": [
    "def greet():\n",
    "    return 'Hello World!' #or print ('hello world')"
   ]
  },
  {
   "cell_type": "markdown",
   "id": "8d295937",
   "metadata": {},
   "source": [
    "Here, we have created a function named greet(). It simply prints the text Hello World!.<br>\n",
    "\n",
    "This function doesn't have any $arguments$ and doesn't $return$ any values. We will learn about arguments and return statements later in this tutorial.<br>\n",
    "Now, to use this function, we need to call it."
   ]
  },
  {
   "cell_type": "code",
   "execution_count": 6,
   "id": "977674f7",
   "metadata": {},
   "outputs": [
    {
     "data": {
      "text/plain": [
       "'Hello World!'"
      ]
     },
     "execution_count": 6,
     "metadata": {},
     "output_type": "execute_result"
    }
   ],
   "source": [
    "greet()"
   ]
  },
  {
   "cell_type": "code",
   "execution_count": 1,
   "id": "ce29e544",
   "metadata": {},
   "outputs": [],
   "source": [
    "def adders1(num1,num2): #with argument\n",
    "    sum = num1+num2\n",
    "    print('sum is:',sum)\n"
   ]
  },
  {
   "cell_type": "code",
   "execution_count": 2,
   "id": "3e6eaa5a",
   "metadata": {},
   "outputs": [
    {
     "name": "stdout",
     "output_type": "stream",
     "text": [
      "sum is: 6\n"
     ]
    }
   ],
   "source": [
    "adders1(2,4)"
   ]
  },
  {
   "cell_type": "code",
   "execution_count": 50,
   "id": "bbad44cd",
   "metadata": {},
   "outputs": [
    {
     "name": "stdout",
     "output_type": "stream",
     "text": [
      "the sum is: 9\n"
     ]
    }
   ],
   "source": [
    "# function that adds two numbers\n",
    "def add_numbers(num1, num2): #ادد نامبرز رو روی نام1 و نام2 اجرا کن\n",
    "    sum = num1 + num2\n",
    "    return sum\n",
    "\n",
    "# calling function with two values\n",
    "print('the sum is:' ,add_numbers(5, 4))\n",
    "\n",
    "#print('Sum: ', result)\n"
   ]
  },
  {
   "cell_type": "code",
   "execution_count": 32,
   "id": "eb140a03",
   "metadata": {},
   "outputs": [],
   "source": [
    "def adder2():\n",
    "    a=int(input('ur first number:'))\n",
    "    b= int(input('ur second number: '))\n",
    "    sum= a+b\n",
    "    return sum"
   ]
  },
  {
   "cell_type": "code",
   "execution_count": 36,
   "id": "8d6dac2e",
   "metadata": {},
   "outputs": [
    {
     "name": "stdin",
     "output_type": "stream",
     "text": [
      "ur first number: 9\n",
      "ur second number:  8\n"
     ]
    },
    {
     "data": {
      "text/plain": [
       "17"
      ]
     },
     "execution_count": 36,
     "metadata": {},
     "output_type": "execute_result"
    }
   ],
   "source": [
    "adder2()"
   ]
  },
  {
   "cell_type": "code",
   "execution_count": 5,
   "id": "04e6503d",
   "metadata": {},
   "outputs": [],
   "source": [
    "def adders(): #without arguments\n",
    "    print('sum is: ', int(input('ur first number is: ')) + int(input('ur second number is: ')))\n"
   ]
  },
  {
   "cell_type": "code",
   "execution_count": 42,
   "id": "c9252457-99b7-42a2-a473-8c3099419f5d",
   "metadata": {},
   "outputs": [
    {
     "name": "stdout",
     "output_type": "stream",
     "text": [
      "5\n",
      "9\n"
     ]
    }
   ],
   "source": [
    "#find max\n",
    "\n",
    "def f(x,y):\n",
    "    if x>y:\n",
    "        return x\n",
    "    return y\n",
    "    \n",
    "print(f(2,5))\n",
    "\n",
    "def g(x,y,z):\n",
    "    return f(x, f(y,z))\n",
    "print(g(2,5,9))"
   ]
  },
  {
   "cell_type": "code",
   "execution_count": 56,
   "id": "268111ef-319a-4800-bf0f-7c37390c6aa8",
   "metadata": {},
   "outputs": [
    {
     "name": "stdout",
     "output_type": "stream",
     "text": [
      "the area is: 50.24\n",
      "the circumference is: 25.12\n"
     ]
    }
   ],
   "source": [
    "PI = 3.14\n",
    "def area(r):\n",
    "    return PI* r* r\n",
    "    \n",
    "def circum(r):\n",
    "    return PI*r* 2\n",
    "    \n",
    "def main():\n",
    "    r = 4\n",
    "    print('the area is:', area(r))\n",
    "    print('the circumference is:', circum(r))\n",
    "\n",
    "main()"
   ]
  },
  {
   "cell_type": "code",
   "execution_count": 60,
   "id": "397648ba-0982-4b72-b27e-fa6db1981a69",
   "metadata": {},
   "outputs": [
    {
     "name": "stdout",
     "output_type": "stream",
     "text": [
      "3\n",
      "1\n",
      "______________\n",
      "3\n",
      "3\n"
     ]
    }
   ],
   "source": [
    "x = 1\n",
    "def f():\n",
    "    x = 3    #local x\n",
    "    print(x)\n",
    "f()\n",
    "print(x)  #1\n",
    "print('______________')\n",
    "\n",
    "x = 1\n",
    "def f():\n",
    "    global x  #global x\n",
    "    x = 3\n",
    "    print(x)\n",
    "f()\n",
    "print(x)"
   ]
  },
  {
   "cell_type": "code",
   "execution_count": 66,
   "id": "d6f9a7fe",
   "metadata": {},
   "outputs": [],
   "source": [
    "def hoghoogh():\n",
    "    hour = int(input('how much hour u work in a day?'))\n",
    "    per_hour = int(input('how much money u get for an hour?'))\n",
    "    daramad = hour* per_hour\n",
    "    if hour>8:\n",
    "        return('error who works more than 8 hour?!')\n",
    "    if hour<2:\n",
    "        return('u must be a son or daughter of the boss!')\n",
    "    print('daramd is {} $'.format(daramad))\n",
    "    "
   ]
  },
  {
   "cell_type": "code",
   "execution_count": 68,
   "id": "93bd5d43",
   "metadata": {},
   "outputs": [
    {
     "name": "stdin",
     "output_type": "stream",
     "text": [
      "how much hour u work in a day? 12\n",
      "how much money u get for an hour? 1\n"
     ]
    },
    {
     "data": {
      "text/plain": [
       "'error who works more than 8 hour?!'"
      ]
     },
     "execution_count": 68,
     "metadata": {},
     "output_type": "execute_result"
    }
   ],
   "source": [
    "hoghoogh()"
   ]
  },
  {
   "cell_type": "code",
   "execution_count": 6,
   "id": "a18cce26",
   "metadata": {},
   "outputs": [
    {
     "name": "stdout",
     "output_type": "stream",
     "text": [
      "ur first number is: 2\n",
      "ur second number is: 3\n",
      "sum is:  5\n"
     ]
    }
   ],
   "source": [
    "adders()"
   ]
  },
  {
   "cell_type": "code",
   "execution_count": 86,
   "id": "ed2b471b-3e41-45c2-91dc-7eb43dd2a16b",
   "metadata": {},
   "outputs": [
    {
     "name": "stdout",
     "output_type": "stream",
     "text": [
      "4\n",
      "4\n"
     ]
    }
   ],
   "source": [
    "def f(d):\n",
    "    d['a'] +=1\n",
    "    d['b'] -= 1\n",
    "    \n",
    "mydict ={'a' : 3, 'b' : 5}\n",
    "f(mydict)\n",
    "print(mydict['a'])\n",
    "print(mydict['b'])"
   ]
  },
  {
   "cell_type": "code",
   "execution_count": 120,
   "id": "7bdbe4e1-d2ad-4822-81be-715d68434291",
   "metadata": {},
   "outputs": [
    {
     "name": "stdout",
     "output_type": "stream",
     "text": [
      "3\n",
      "5\n",
      "6\n",
      "13\n",
      "30\n",
      "ali/and/reza/came to/japan\n",
      "1 2 3\n",
      "1 8 3\n",
      "1 3 4\n",
      "2 3 {'x': 4, 'y': 5}\n"
     ]
    }
   ],
   "source": [
    "def f(*, a =3):\n",
    "    print(a)\n",
    "f()\n",
    "f(a =5)\n",
    "#f(5) TypeError: f() takes 0 positional arguments but 1 was given\n",
    "\n",
    "def f(*t):\n",
    "    s =0\n",
    "    for i in t:\n",
    "        s += i\n",
    "    print(s)\n",
    "\n",
    "f(1,2,3)\n",
    "f(5,8)\n",
    "\n",
    "def add(a, b, *more):\n",
    "    r = a + b + sum(more)\n",
    "    print(r)\n",
    "\n",
    "add(1,3,5,6,7,8) # a, b = 1,3 more = 5,6,7,8\n",
    "\n",
    "def concat(*s , sep = '/'):\n",
    "    return sep.join(s)\n",
    "\n",
    "print(concat( 'ali', 'and', 'reza', 'came to', 'japan'))\n",
    "\n",
    "def f(a , * , b = 2, c = 3): #after star u have to assign a var name \n",
    "    print(a,b,c)\n",
    "\n",
    "f(1)\n",
    "f(1, b = 8)\n",
    "#f(1, 2, c = 4) or f(1, b = 2, 4)  #TypeError you have to identify ur vars \n",
    "f(1, b = 3, c = 4)\n",
    "\n",
    "def f(a, b , **c): # ** leads to dict\n",
    "    print(a, b, c)\n",
    "\n",
    "f(2, 3, x = 4, y = 5)"
   ]
  },
  {
   "cell_type": "code",
   "execution_count": 142,
   "id": "f473aa0a-83e4-4e8f-a766-1162a5c003a7",
   "metadata": {},
   "outputs": [
    {
     "name": "stdout",
     "output_type": "stream",
     "text": [
      "3\n",
      "6\n"
     ]
    }
   ],
   "source": [
    "s = 'PoTOfGoLD'\n",
    "count_dict  = {'L': 0, 'U': 0}\n",
    "\n",
    "def func_count(s):\n",
    "    for ch in s:\n",
    "        if ch.islower():\n",
    "            count_dict['L'] +=1\n",
    "        else:\n",
    "            count_dict['U'] +=1\n",
    "\n",
    "func_count(s)\n",
    "print(count_dict['L'])\n",
    "print(count_dict['U'])"
   ]
  },
  {
   "cell_type": "code",
   "execution_count": 148,
   "id": "8ef22471-74f9-46aa-80ca-af7fc644043f",
   "metadata": {},
   "outputs": [
    {
     "name": "stdin",
     "output_type": "stream",
     "text": [
      "enter you string:  mohammadreza\n"
     ]
    },
    {
     "name": "stdout",
     "output_type": "stream",
     "text": [
      "{'m': 3, 'o': 1, 'h': 1, 'a': 3, 'd': 1, 'r': 1, 'e': 1, 'z': 1}\n"
     ]
    }
   ],
   "source": [
    "d= {}\n",
    "def count_char(s):\n",
    "    for i in s:\n",
    "        if i in d.keys():\n",
    "            d[i]+=1\n",
    "        else:\n",
    "            d[i]=1\n",
    "    return d\n",
    "\n",
    "print(count_char(str(input('enter you string: '))))"
   ]
  },
  {
   "cell_type": "code",
   "execution_count": 166,
   "id": "ec0dafcd-244f-4769-a097-b3b2d9f9a3e2",
   "metadata": {},
   "outputs": [
    {
     "name": "stdout",
     "output_type": "stream",
     "text": [
      "{'python': 2, 'created': 1, 'by': 1, 'rossum': 1}\n"
     ]
    }
   ],
   "source": [
    "s = 'python created by rossum python'\n",
    "d = {}\n",
    "def count_words(s):\n",
    "    words = s.split()\n",
    "    for i in words:\n",
    "        if i in d:\n",
    "            d[i] +=1\n",
    "        else:\n",
    "            d[i]=1\n",
    "    return d\n",
    "print(count_words(s))"
   ]
  },
  {
   "cell_type": "code",
   "execution_count": 12,
   "id": "210011e5-8731-4ec0-b084-eab7413521da",
   "metadata": {},
   "outputs": [
    {
     "name": "stdout",
     "output_type": "stream",
     "text": [
      "divan\n"
     ]
    }
   ],
   "source": [
    "def reverse_string(s):\n",
    "    r = ''.join(reversed(s))\n",
    "    return r\n",
    "print(reverse_string('navid'))"
   ]
  },
  {
   "cell_type": "code",
   "execution_count": 3,
   "id": "b63de71e-2bfe-4165-808f-f70352900eb0",
   "metadata": {},
   "outputs": [
    {
     "name": "stdout",
     "output_type": "stream",
     "text": [
      "True\n",
      "False\n"
     ]
    }
   ],
   "source": [
    " def palinrome(s):\n",
    "    return s == s[::-1]\n",
    "\n",
    "print(palinrome('radar'))\n",
    "print(palinrome('ali'))"
   ]
  },
  {
   "cell_type": "code",
   "execution_count": 39,
   "id": "3c67c255-02eb-4f29-8428-504f8e691a97",
   "metadata": {},
   "outputs": [
    {
     "name": "stdout",
     "output_type": "stream",
     "text": [
      "python\n"
     ]
    }
   ],
   "source": [
    "def removeindex(s, start, end):\n",
    "        s = s[start:end] \n",
    "        return s\n",
    "s = s = '#$%pythonn4r'\n",
    "print(removeindex(s, 3, 9))"
   ]
  },
  {
   "cell_type": "code",
   "execution_count": 7,
   "id": "47595324-4def-4273-a2ad-8984b9a1dda4",
   "metadata": {},
   "outputs": [
    {
     "name": "stdout",
     "output_type": "stream",
     "text": [
      "['p', 't', 'o', '3', '6']\n"
     ]
    }
   ],
   "source": [
    "def removed_odds(s):\n",
    "    r = []\n",
    "    for i in range(len(s)):\n",
    "        if i % 2 == 0:\n",
    "            r+= s[i]\n",
    "    return r\n",
    "\n",
    "print(removed_odds('python3.6'))\n",
    "            "
   ]
  },
  {
   "cell_type": "code",
   "execution_count": 13,
   "id": "dc36754a-e3fc-4290-b81d-4cef24c4d2d8",
   "metadata": {},
   "outputs": [
    {
     "name": "stdout",
     "output_type": "stream",
     "text": [
      "[4, 1, 2, 3, 6]\n"
     ]
    }
   ],
   "source": [
    "#hazfe tekrari ha\n",
    "\n",
    "def f(lst):\n",
    "    r = []\n",
    "    for i in lst:\n",
    "        if i not in r:\n",
    "            r.append(i)\n",
    "    return r \n",
    "\n",
    "a = [4, 1, 2, 3, 4, 1, 2, 4, 3, 6]\n",
    "print(f(a))\n"
   ]
  },
  {
   "cell_type": "code",
   "execution_count": 7,
   "id": "1677901b-67fb-4c84-a325-0a420a7bc180",
   "metadata": {},
   "outputs": [
    {
     "name": "stdout",
     "output_type": "stream",
     "text": [
      "[1, 2, 3, 4, 6]\n"
     ]
    }
   ],
   "source": [
    "#hazfe tekrari ha ba set!\n",
    "\n",
    "def f(lst):\n",
    "    r = set(lst)\n",
    "    return r\n",
    "\n",
    "a = [4, 1, 2, 3, 4, 1, 2, 4, 3, 6]\n",
    "print(list(f(a)))\n"
   ]
  },
  {
   "cell_type": "code",
   "execution_count": 1,
   "id": "a0b70bcd-7045-49dc-88dd-36a90ba3ff96",
   "metadata": {},
   "outputs": [
    {
     "name": "stdout",
     "output_type": "stream",
     "text": [
      "[2, 3, 5, 7, 11, 13, 17, 19]\n"
     ]
    }
   ],
   "source": [
    "def prime(n):\n",
    "    my_set = set()\n",
    "    lst = []\n",
    "    for i in range(2, n+1):   # from 2 to 21 every prime number\n",
    "        if i in my_set:\n",
    "            continue\n",
    "        for j in range (i*2 , n+1, i):   #from 4 to 21 with 2 step (4 , 6, 8,...20)\n",
    "            my_set.add(j)                \n",
    "        lst.append(i)                    #2, 3, 5, ..\n",
    "    return lst\n",
    "\n",
    "n = 20 \n",
    "print(prime(n))"
   ]
  },
  {
   "cell_type": "code",
   "execution_count": 11,
   "id": "20cb759f-e56c-4a14-8cd2-c9ea4578d5d1",
   "metadata": {},
   "outputs": [
    {
     "name": "stdout",
     "output_type": "stream",
     "text": [
      "hello navid\n"
     ]
    }
   ],
   "source": [
    "def greetings(name: str) -> str:    #declare input and output type like this(for higher level coding)\n",
    "    return 'hello ' + name\n",
    "    \n",
    "print(greetings('navid'))"
   ]
  },
  {
   "cell_type": "markdown",
   "id": "2b94d45b",
   "metadata": {},
   "source": [
    "<font color = 'navy' size = '3'>**The return Statement in Python**</font><br>\n",
    "\n",
    "A Python function may or may not return a value. If we want our function to return some value to a function call, we use the return statement.<br>\n",
    "Note: The return statement also denotes that the function has ended. Any code after return is not executed.\n",
    "\n"
   ]
  },
  {
   "cell_type": "code",
   "execution_count": 17,
   "id": "e40d2f23",
   "metadata": {},
   "outputs": [
    {
     "name": "stdin",
     "output_type": "stream",
     "text": [
      "ur number:  0\n"
     ]
    },
    {
     "name": "stdout",
     "output_type": "stream",
     "text": [
      "the factorial of 0 is 1\n"
     ]
    }
   ],
   "source": [
    "def factorial(x):\n",
    "    if x==1 or x ==0:\n",
    "        return 1\n",
    "    else:\n",
    "        return (x*factorial(x-1))   #recursive\n",
    "    \n",
    "a = int(input('ur number: '))\n",
    "print('the factorial of {} is'.format(a), factorial(a))"
   ]
  },
  {
   "cell_type": "code",
   "execution_count": 23,
   "id": "5c358893",
   "metadata": {},
   "outputs": [
    {
     "name": "stdout",
     "output_type": "stream",
     "text": [
      "64\n"
     ]
    }
   ],
   "source": [
    "'''\n",
    "2 ^3 = 2 * (2**2)\n",
    "2 ^2 = 2 * (2**1)\n",
    "power with recursive function\n",
    "'''\n",
    "\n",
    "def pow_rec(x,y):\n",
    "    if y == 0:\n",
    "        return 1\n",
    "    elif y ==1:\n",
    "        return x\n",
    "    else:\n",
    "        return x * pow_rec(x,y-1)\n",
    "\n",
    "print(pow_rec(2,6))"
   ]
  },
  {
   "cell_type": "markdown",
   "id": "690fe082",
   "metadata": {},
   "source": [
    "<font color= 'navy' size= '3'>**Python Library Functions**</font><br>\n",
    "\n",
    "In Python, standard library functions are the built-in functions that can be used directly in our program. For example,\n",
    "\n",
    "1. print() - prints the string inside the quotation marks\n",
    "2. sqrt() - returns the square root of a number\n",
    "3. pow() - returns the power of a number<br>\n",
    "\n",
    "These library functions are defined inside the module. And, to use them we must include the module inside our program.\n",
    "\n",
    "For example, sqrt() is defined inside the math module.\n",
    "\n"
   ]
  },
  {
   "cell_type": "code",
   "execution_count": 57,
   "id": "e80c9ba6",
   "metadata": {},
   "outputs": [
    {
     "name": "stdout",
     "output_type": "stream",
     "text": [
      "ur number: 12\n",
      "Square Root of 12 is 3.4641016151377544\n"
     ]
    }
   ],
   "source": [
    "import math\n",
    "a =int(input('ur number: '))\n",
    "                                   # sqrt computes the square root\n",
    "square_root = math.sqrt(a)\n",
    "\n",
    "print(\"Square Root of {} is\".format(a),square_root)\n",
    "\n",
    "power= math.pow(c,d)\n"
   ]
  },
  {
   "cell_type": "code",
   "execution_count": 59,
   "id": "793c3083",
   "metadata": {},
   "outputs": [
    {
     "name": "stdout",
     "output_type": "stream",
     "text": [
      "enter ur number:5\n",
      "enter the number u want to power:3\n",
      "the power of 5 and 3 is: 125.0\n"
     ]
    }
   ],
   "source": [
    "import math\n",
    "c= int(input('enter ur number:'))\n",
    "d= int(input('enter the number u want to power:'))\n",
    "power= math.pow(c,d)\n",
    "print('the power of {} and {} is:'.format(c,d), power)"
   ]
  },
  {
   "cell_type": "code",
   "execution_count": 61,
   "id": "62a62272",
   "metadata": {},
   "outputs": [
    {
     "name": "stdout",
     "output_type": "stream",
     "text": [
      "the square of 15 is 225\n",
      "the square of 16 is 256\n",
      "the square of 17 is 289\n"
     ]
    }
   ],
   "source": [
    "def square1 (num):\n",
    "    return num*num\n",
    "\n",
    "for i in range(15,18):\n",
    "    result= square1(i)\n",
    "    print('the square of',i, 'is',result)"
   ]
  },
  {
   "cell_type": "code",
   "execution_count": 23,
   "id": "006234d9",
   "metadata": {},
   "outputs": [
    {
     "name": "stdout",
     "output_type": "stream",
     "text": [
      "ur name: zahra\n",
      "ur last name: dfgf\n",
      "ur id:dss53235\n",
      "student name and number: zahra dfgf - dss53235\n"
     ]
    }
   ],
   "source": [
    "def display_info(first_name,last_name,idd):\n",
    "    print('student name and number:', first_name, last_name,'-',idd)\n",
    "    \n",
    "display_info(first_name = input('ur name: '), last_name = input('ur last name: '),idd = input('ur id:'))"
   ]
  },
  {
   "cell_type": "markdown",
   "id": "25dacd26",
   "metadata": {},
   "source": [
    "if we dont know how many argument we have, we use (*) before argument."
   ]
  },
  {
   "cell_type": "markdown",
   "id": "9dbba3b2",
   "metadata": {},
   "source": [
    "Our recursion ends when the number reduces to 1. This is called the base condition.<br>\n",
    "\n",
    "Every recursive function must have a base condition that stops the recursion or else the function calls itself infinitely.<br>\n",
    "The Python interpreter limits the depths of recursion to help avoid infinite recursions, resulting in stack overflows.<br>\n",
    "By default, the maximum depth of recursion is 1000. If the limit is crossed, it results in RecursionError. Let's look at one such condition.<br><br>\n",
    "<font color='navy' size= '3'>**Advantages of Recursion**</font><br>\n",
    "1. Recursive functions make the code look clean and elegant.\n",
    "2. A complex task can be broken down into simpler sub-problems using recursion.\n",
    "3. Sequence generation is easier with recursion than using some nested iteration.<br>\n",
    "\n",
    "<font color='navy' size= '3'>**Disadvantages of Recursion**</font><br>\n",
    "1. Sometimes the logic behind recursion is hard to follow through.\n",
    "2. Recursive calls are expensive (inefficient) as they take up a lot of memory and time.\n",
    "3. Recursive functions are hard to debug."
   ]
  },
  {
   "cell_type": "markdown",
   "id": "283c80ca",
   "metadata": {},
   "source": [
    "<font color='navy' size ='3'>**Python Lambda/Anonymous Function**</font>\n",
    "\n",
    "In Python, a lambda function is a special type of function without the function name. For example,<br>Here, we have created a lambda function that prints 'Hey ned'."
   ]
  },
  {
   "cell_type": "code",
   "execution_count": 1,
   "id": "689a63ed",
   "metadata": {},
   "outputs": [
    {
     "data": {
      "text/plain": [
       "<function __main__.<lambda>()>"
      ]
     },
     "execution_count": 1,
     "metadata": {},
     "output_type": "execute_result"
    }
   ],
   "source": [
    "lambda: print('hey ned')"
   ]
  },
  {
   "cell_type": "code",
   "execution_count": 3,
   "id": "30992e92",
   "metadata": {},
   "outputs": [
    {
     "name": "stdout",
     "output_type": "stream",
     "text": [
      "30\n"
     ]
    }
   ],
   "source": [
    "x = lambda a, b : a * b\n",
    "print(x(5, 6))"
   ]
  },
  {
   "cell_type": "code",
   "execution_count": 2,
   "id": "f23b05f0",
   "metadata": {},
   "outputs": [
    {
     "name": "stdout",
     "output_type": "stream",
     "text": [
      "13\n"
     ]
    }
   ],
   "source": [
    "x = lambda a, b, c : a + b + c\n",
    "print(x(5, 6, 2))"
   ]
  },
  {
   "cell_type": "markdown",
   "id": "d745c0e2",
   "metadata": {},
   "source": [
    "We use the lambda keyword instead of def to create a lambda function. Here's the syntax to declare the lambda function:\n",
    "\n",
    "<font color='navy' size= '3'>**lambda argument(s) : expression**</font>\n",
    "<br>\n",
    "1. argument(s) - any value passed to the lambda function\n",
    "2. expression - expression is executed and returned<br>\n",
    "\n",
    "To execute this lambda function, we need to call it. Here's how we can call the lambda function."
   ]
  },
  {
   "cell_type": "code",
   "execution_count": 3,
   "id": "4105c686",
   "metadata": {},
   "outputs": [],
   "source": [
    "greet = lambda: print('hello world')"
   ]
  },
  {
   "cell_type": "code",
   "execution_count": 4,
   "id": "4044420c",
   "metadata": {},
   "outputs": [
    {
     "name": "stdout",
     "output_type": "stream",
     "text": [
      "hello world\n"
     ]
    }
   ],
   "source": [
    "greet()"
   ]
  },
  {
   "cell_type": "code",
   "execution_count": 15,
   "id": "a4d49f09",
   "metadata": {},
   "outputs": [
    {
     "name": "stdout",
     "output_type": "stream",
     "text": [
      "enter ur name: zahra\n",
      "Hi we are so glad to see you zahra\n"
     ]
    }
   ],
   "source": [
    "# lambda that accepts one argument\n",
    "greet_user = lambda name : print('Hi, we are so glad to see you', name)\n",
    "\n",
    "# lambda call\n",
    "greet_user(input('enter ur name: '))\n"
   ]
  },
  {
   "cell_type": "code",
   "execution_count": 11,
   "id": "d94c509f-a236-482c-bc62-7cb5c5ddded8",
   "metadata": {},
   "outputs": [
    {
     "name": "stdout",
     "output_type": "stream",
     "text": [
      "7\n"
     ]
    }
   ],
   "source": [
    "d = {'a': 3, 'b': 5, 'c' :7}\n",
    "print(d[max(d.keys() , key = lambda k: d[k])])"
   ]
  },
  {
   "cell_type": "code",
   "execution_count": 38,
   "id": "b06a36b9-fdc5-400a-812a-2595492e637d",
   "metadata": {},
   "outputs": [
    {
     "name": "stdout",
     "output_type": "stream",
     "text": [
      "[1, 2, 3, 4, 5, 6, 7, 8]\n",
      "[{'id': 120, 'name': 'navid', 'score': 20}, {'id': 123, 'name': 'ai', 'score': 17}, {'id': 131, 'name': 'reza', 'score': 14}, {'id': 119, 'name': 'amireza', 'score': 10}]\n"
     ]
    }
   ],
   "source": [
    "lst = [4,5,6,7,1,8,3,2]\n",
    "lst_sort = sorted(lst) #method\n",
    "print(lst_sort)\n",
    "\n",
    "#sort with lambda\n",
    "\n",
    "student = [{'id': 131, 'name': 'reza','score':14},\n",
    "       {'id': 123, 'name': 'ai','score':17},\n",
    "       {'id': 119, 'name': 'amireza','score':10},\n",
    "       {'id': 120, 'name': 'navid','score':20}]\n",
    "x = lambda y : y['score']\n",
    "print(sorted(student, key =x, reverse = True))"
   ]
  },
  {
   "cell_type": "markdown",
   "id": "c04eb379",
   "metadata": {},
   "source": [
    "\n",
    "<font color = 'navy' size = '4'>**map(), filter() function**</font><br>\n",
    "\n",
    "map in Python takes in a function and an iterable (lists, tuples, and strings) as arguments.\n",
    "\n",
    "The function is called with all the items in the list and a new list is returned which contains items returned by that function for each item.\n",
    "\n",
    "Let's see an example,"
   ]
  },
  {
   "cell_type": "code",
   "execution_count": 5,
   "id": "0b82ee68",
   "metadata": {},
   "outputs": [
    {
     "name": "stdout",
     "output_type": "stream",
     "text": [
      "ur elemnts number: 3\n",
      "3\n",
      "4\n",
      "5\n",
      "[3, 4, 5]\n",
      "[9, 16, 25]\n"
     ]
    }
   ],
   "source": [
    "listt = []\n",
    "k = int(input('ur elemnts number: '))\n",
    "        \n",
    "for i in range(0, k):\n",
    "    elements= int(input())\n",
    "    listt.append(elements)\n",
    "print (listt)\n",
    "\n",
    "new_list= list(map(lambda x: (x**2), listt))\n",
    "print (new_list)"
   ]
  },
  {
   "cell_type": "code",
   "execution_count": 4,
   "id": "29d9d890",
   "metadata": {},
   "outputs": [
    {
     "name": "stdout",
     "output_type": "stream",
     "text": [
      "Enter number of elements : 6\n",
      "2\n",
      "34\n",
      "4\n",
      "3\n",
      "5\n",
      "6\n",
      "[2, 34, 4, 3, 5, 6]\n",
      "[2, 34, 4, 6]\n"
     ]
    }
   ],
   "source": [
    "# creating an empty list # n is the number of elements as input\n",
    "lst = []\n",
    "\n",
    "n = int(input(\"Enter number of elements : \"))\n",
    "for i in range(0, n):\n",
    "    ele = int(input())\n",
    "    lst.append(ele)\n",
    "\n",
    "print(lst)\n",
    "\n",
    "# Program to filter out only the even items from a list\n",
    "\n",
    "my_list = lst\n",
    "\n",
    "new_list = list(filter(lambda x: (x%2 == 0) , my_list))\n",
    "\n",
    "print(new_list)\n",
    "\n",
    "# Output: [4, 6, 8, 12]"
   ]
  },
  {
   "cell_type": "code",
   "execution_count": 16,
   "id": "d10ddf5d-9c62-4c00-847a-4695b61c3484",
   "metadata": {},
   "outputs": [
    {
     "name": "stdout",
     "output_type": "stream",
     "text": [
      "[('ali', 18), ('reza', 13)]\n",
      "[('ali', 18), ('reza', 13)]\n"
     ]
    }
   ],
   "source": [
    "name = ['ali', 'reza']\n",
    "scores = [18, 13]\n",
    "print(list(zip(name, scores)))\n",
    "print(list(map(lambda x,y : (x,y), name, scores)))"
   ]
  },
  {
   "cell_type": "code",
   "execution_count": 21,
   "id": "82a3b447-6158-4e6f-a83d-5f33f4568ec0",
   "metadata": {},
   "outputs": [
    {
     "name": "stdout",
     "output_type": "stream",
     "text": [
      "['radar', 'madam', 'php']\n"
     ]
    }
   ],
   "source": [
    "lst = ['radar','reza','madam','php']\n",
    "palinrome = lambda x: (x == ''.join(reversed(x)))\n",
    "print(list(filter(palinrome, lst)))"
   ]
  },
  {
   "cell_type": "markdown",
   "id": "dd5a1924",
   "metadata": {},
   "source": [
    "<font color = 'navy' size= '3'> **A variable scope**</font>\n",
    "\n",
    "specifies the region where we can access a variable. For example:\n",
    "\n",
    "def add_numbers():<br>\n",
    "<---> sum = 5 + 4  <br>\n",
    "\n",
    "Here, the sum variable is created inside the function, so it can only be accessed within it (local scope). This type of variable is called a local variable.\n",
    "\n",
    "Based on the scope, we can classify Python variables into three types:\n",
    "\n",
    "1. Local Variables\n",
    "2. Global Variables\n",
    "3. Nonlocal Variables\n"
   ]
  },
  {
   "cell_type": "markdown",
   "id": "116b93f3",
   "metadata": {},
   "source": [
    "<font color= 'navy' size= '3'>**Python Local Variables**</font><br>\n",
    "When we declare variables inside a function, these variables will have a local scope (within the function). We cannot access them outside the function."
   ]
  },
  {
   "cell_type": "code",
   "execution_count": 7,
   "id": "05e1e387",
   "metadata": {},
   "outputs": [
    {
     "name": "stdout",
     "output_type": "stream",
     "text": [
      "local: heyyy\n"
     ]
    },
    {
     "ename": "NameError",
     "evalue": "name 'message' is not defined",
     "output_type": "error",
     "traceback": [
      "\u001b[1;31m---------------------------------------------------------------------------\u001b[0m",
      "\u001b[1;31mNameError\u001b[0m                                 Traceback (most recent call last)",
      "Cell \u001b[1;32mIn[7], line 6\u001b[0m\n\u001b[0;32m      4\u001b[0m greet()\n\u001b[0;32m      5\u001b[0m \u001b[38;5;66;03m###\u001b[39;00m\n\u001b[1;32m----> 6\u001b[0m \u001b[38;5;28mprint\u001b[39m(\u001b[43mmessage\u001b[49m)\n",
      "\u001b[1;31mNameError\u001b[0m: name 'message' is not defined"
     ]
    }
   ],
   "source": [
    "def greet():\n",
    "    message = 'heyyy'\n",
    "    print('local:', message)\n",
    "greet()\n",
    "###\n",
    "print(message) #error becuz we are outside the funtion"
   ]
  },
  {
   "cell_type": "markdown",
   "id": "48b55408",
   "metadata": {},
   "source": [
    "<font color = 'navy' size = '3'>**Python Global Variables**</font><br>\n",
    "In Python, a variable declared outside of the function or in global scope is known as a global variable. This means that a global variable can be accessed inside or outside of the function."
   ]
  },
  {
   "cell_type": "code",
   "execution_count": 9,
   "id": "023ed83f",
   "metadata": {},
   "outputs": [
    {
     "name": "stdout",
     "output_type": "stream",
     "text": [
      "local heyyyy\n",
      "heyyyy global\n"
     ]
    }
   ],
   "source": [
    "message = 'heyyyy'\n",
    "def greet():\n",
    "    print('local', message)\n",
    "greet()\n",
    "## outside the funtion\n",
    "\n",
    "print(message, 'global')"
   ]
  },
  {
   "cell_type": "markdown",
   "id": "c5192b03",
   "metadata": {},
   "source": [
    "Here, we can see that we have accessed a global variable from the inside of a function."
   ]
  },
  {
   "cell_type": "code",
   "execution_count": 21,
   "id": "0cf34f31",
   "metadata": {},
   "outputs": [
    {
     "name": "stdout",
     "output_type": "stream",
     "text": [
      "1\n"
     ]
    }
   ],
   "source": [
    "c = 1 # global variable\n",
    "\n",
    "def add():\n",
    "    print(c)\n",
    "\n",
    "add()"
   ]
  },
  {
   "cell_type": "markdown",
   "id": "380ffa20",
   "metadata": {},
   "source": [
    "however, if we try to modify the global variable from inside a function as:<br>\n",
    "this is because we can only access the global variable but cannot modify it from inside the function.<br>\n",
    "<font color = 'red'>the soloution is in the next step</font>"
   ]
  },
  {
   "cell_type": "code",
   "execution_count": 26,
   "id": "72f5017b",
   "metadata": {},
   "outputs": [
    {
     "ename": "UnboundLocalError",
     "evalue": "local variable 'c' referenced before assignment",
     "output_type": "error",
     "traceback": [
      "\u001b[1;31m---------------------------------------------------------------------------\u001b[0m",
      "\u001b[1;31mUnboundLocalError\u001b[0m                         Traceback (most recent call last)",
      "Cell \u001b[1;32mIn[26], line 6\u001b[0m\n\u001b[0;32m      3\u001b[0m     c \u001b[38;5;241m=\u001b[39m c\u001b[38;5;241m+\u001b[39m\u001b[38;5;241m1\u001b[39m\n\u001b[0;32m      4\u001b[0m     \u001b[38;5;28mprint\u001b[39m(c)\n\u001b[1;32m----> 6\u001b[0m \u001b[43madd\u001b[49m\u001b[43m(\u001b[49m\u001b[43m)\u001b[49m\n",
      "Cell \u001b[1;32mIn[26], line 3\u001b[0m, in \u001b[0;36madd\u001b[1;34m()\u001b[0m\n\u001b[0;32m      2\u001b[0m \u001b[38;5;28;01mdef\u001b[39;00m \u001b[38;5;21madd\u001b[39m():\n\u001b[1;32m----> 3\u001b[0m     c \u001b[38;5;241m=\u001b[39m \u001b[43mc\u001b[49m\u001b[38;5;241m+\u001b[39m\u001b[38;5;241m1\u001b[39m\n\u001b[0;32m      4\u001b[0m     \u001b[38;5;28mprint\u001b[39m(c)\n",
      "\u001b[1;31mUnboundLocalError\u001b[0m: local variable 'c' referenced before assignment"
     ]
    }
   ],
   "source": [
    "c = 1 # global variable\n",
    "def add():\n",
    "    c = c+1\n",
    "    print(c)\n",
    "\n",
    "add()"
   ]
  },
  {
   "cell_type": "code",
   "execution_count": 27,
   "id": "24e2a83d",
   "metadata": {},
   "outputs": [
    {
     "name": "stdout",
     "output_type": "stream",
     "text": [
      "4\n"
     ]
    }
   ],
   "source": [
    "c = 2 \n",
    "def add():\n",
    "    global c\n",
    "    c+= 2\n",
    "    print(c)\n",
    "add()"
   ]
  },
  {
   "cell_type": "markdown",
   "id": "7b67b6fe",
   "metadata": {},
   "source": [
    "<font color = 'navy' size = '3'>**Python Nonlocal Variables**</font><br>\n",
    "In Python, nonlocal variables are used in nested functions whose local scope is not defined. This means that the variable can be neither in the local nor the global scope.\n",
    "\n",
    "We use the nonlocal keyword to create nonlocal variables. \n",
    "\n"
   ]
  },
  {
   "cell_type": "code",
   "execution_count": 20,
   "id": "adaed6e9",
   "metadata": {},
   "outputs": [
    {
     "name": "stdout",
     "output_type": "stream",
     "text": [
      "inner: nonlocal\n",
      "outer: nonlocal\n"
     ]
    }
   ],
   "source": [
    "# outside function \n",
    "def outer():\n",
    "    message = 'local'\n",
    "\n",
    "    # nested function  \n",
    "    def inner():\n",
    "\n",
    "        # declare nonlocal variable\n",
    "        nonlocal message\n",
    "\n",
    "        message = 'nonlocal'\n",
    "        print(\"inner:\", message)\n",
    "\n",
    "    inner()\n",
    "    print(\"outer:\", message)\n",
    "\n",
    "outer()"
   ]
  },
  {
   "cell_type": "code",
   "execution_count": 28,
   "id": "d2113eb6",
   "metadata": {},
   "outputs": [
    {
     "name": "stdout",
     "output_type": "stream",
     "text": [
      "Before calling inner_function():  20\n",
      "After calling inner_function():  20\n",
      "Outside both function:  25\n"
     ]
    }
   ],
   "source": [
    "def outer_function():\n",
    "    num = 20\n",
    "\n",
    "    def inner_function():\n",
    "        global num\n",
    "        num = 25\n",
    "    \n",
    "    print(\"Before calling inner_function(): \", num)\n",
    "    \n",
    "    inner_function()\n",
    "    print(\"After calling inner_function(): \", num)\n",
    "\n",
    "outer_function()\n",
    "\n",
    "print(\"Outside both function: \", num)"
   ]
  },
  {
   "cell_type": "markdown",
   "id": "5b83f107",
   "metadata": {},
   "source": [
    "<font color = 'navy' size = '3'>**Rules of global Keyword**</font><br>\n",
    "The basic rules for global keyword in Python are:\n",
    "\n",
    "1. When we create a variable inside a function, it is local by default.\n",
    "2. When we define a variable outside of a function, it is global by default. You don't have to use the global keyword.\n",
    "3. We use the global keyword to read and write a global variable inside a function.\n",
    "4. Use of the global keyword outside a function has no effect."
   ]
  },
  {
   "cell_type": "markdown",
   "id": "56e71472",
   "metadata": {},
   "source": [
    "<font color= 'darkviolet' size = '4'>**Python Modules**</font><br>\n",
    "As our program grows bigger, it may contain many lines of code.<br>Instead of putting everything in a single file, we can use modules to separate codes in separate files as per their functionality.<br> This makes our code organized and easier to maintain.<br><br>\n",
    "Module is a file that contains code to perform a specific task.<br> A module may contain variables, functions, classes etc. <br>Let's see an example type of module and save it as example.py"
   ]
  },
  {
   "cell_type": "code",
   "execution_count": 2,
   "id": "b79c7875",
   "metadata": {},
   "outputs": [
    {
     "ename": "ModuleNotFoundError",
     "evalue": "No module named 'example'",
     "output_type": "error",
     "traceback": [
      "\u001b[1;31m---------------------------------------------------------------------------\u001b[0m",
      "\u001b[1;31mModuleNotFoundError\u001b[0m                       Traceback (most recent call last)",
      "Cell \u001b[1;32mIn[2], line 1\u001b[0m\n\u001b[1;32m----> 1\u001b[0m \u001b[38;5;28;01mimport\u001b[39;00m \u001b[38;5;21;01mexample\u001b[39;00m\n\u001b[0;32m      2\u001b[0m a \u001b[38;5;241m=\u001b[39m \u001b[38;5;28mint\u001b[39m(\u001b[38;5;28minput\u001b[39m(\u001b[38;5;124m'\u001b[39m\u001b[38;5;124menter ur number:\u001b[39m\u001b[38;5;124m'\u001b[39m))\n\u001b[0;32m      3\u001b[0m b \u001b[38;5;241m=\u001b[39m \u001b[38;5;28mint\u001b[39m(\u001b[38;5;28minput\u001b[39m(\u001b[38;5;124m'\u001b[39m\u001b[38;5;124menter ur number: \u001b[39m\u001b[38;5;124m'\u001b[39m))\n",
      "\u001b[1;31mModuleNotFoundError\u001b[0m: No module named 'example'"
     ]
    }
   ],
   "source": [
    "import example\n",
    "a = int(input('enter ur number:'))\n",
    "b = int(input('enter ur number: '))\n",
    "example.add(a,b)"
   ]
  },
  {
   "cell_type": "markdown",
   "id": "58176842",
   "metadata": {},
   "source": [
    "<font color = 'navy' size = '3'>**Import Python Standard Library Modules**</font><br>\n",
    "The Python standard library contains well over 200 modules. We can import a module according to our needs.\n",
    "\n",
    "Suppose we want to get the value of pi, first we import the math module and use math.pi. we can also rename the module to be easier in work, For example:"
   ]
  },
  {
   "cell_type": "code",
   "execution_count": 5,
   "id": "6674aefa",
   "metadata": {},
   "outputs": [
    {
     "name": "stdout",
     "output_type": "stream",
     "text": [
      "the value of the pi is: 3.14159\n"
     ]
    }
   ],
   "source": [
    "import math\n",
    "print('the value of the pi is: %.5f' %math.pi )"
   ]
  },
  {
   "cell_type": "code",
   "execution_count": 8,
   "id": "db95d047",
   "metadata": {},
   "outputs": [
    {
     "name": "stdout",
     "output_type": "stream",
     "text": [
      "3.1416\n"
     ]
    }
   ],
   "source": [
    "# import module by renaming it\n",
    "import math as m\n",
    "\n",
    "print('%.4f'% m.pi)\n"
   ]
  },
  {
   "cell_type": "markdown",
   "id": "a8a06bf1",
   "metadata": {},
   "source": [
    "We can import specific names from a module without importing the module as a whole. For example,"
   ]
  },
  {
   "cell_type": "code",
   "execution_count": 14,
   "id": "816a25f1",
   "metadata": {},
   "outputs": [
    {
     "name": "stdout",
     "output_type": "stream",
     "text": [
      "ur number: 23\n",
      "4.795831523312719\n",
      "3.141592653589793\n"
     ]
    }
   ],
   "source": [
    "from math import sqrt\n",
    "from math import pi \n",
    "print(sqrt(int(input('ur number: '))))\n",
    "print(pi)"
   ]
  },
  {
   "cell_type": "markdown",
   "id": "4ed5fbe1",
   "metadata": {},
   "source": [
    "<font color= 'navy' size= '3' >**Import all names**</font>\n",
    "\n",
    "In Python, we can import all names(definitions) from a module using the following construct.<br>\n",
    "<font color= 'darkred' size= '2.5' >NOTICE THAT </font> Importing everything with the asterisk (*) symbol is not a good programming practice. This can lead to duplicate definitions for an identifier. It also hampers the readability of our code."
   ]
  },
  {
   "cell_type": "code",
   "execution_count": 2,
   "id": "27b1595d",
   "metadata": {},
   "outputs": [
    {
     "name": "stdout",
     "output_type": "stream",
     "text": [
      "The value of pi is 3.1416\n"
     ]
    }
   ],
   "source": [
    "# import all names from the standard module math\n",
    "from math import *\n",
    "\n",
    "print(\"The value of pi is %.4f\"%pi)"
   ]
  },
  {
   "cell_type": "markdown",
   "id": "b1aebb1f",
   "metadata": {},
   "source": [
    "<font color= 'navy' size= '3' >**The dir() built-in function**</font><br>\n",
    "\n",
    "In Python, we can use the dir() function to list all the function names in a module.<br>\n",
    "For example, earlier we have defined a function add() in the module example.<br>\n",
    "\n"
   ]
  },
  {
   "cell_type": "markdown",
   "id": "7cc741dd",
   "metadata": {},
   "source": [
    "Here, we can see a sorted list of names (along with add). All other names that begin with an underscore are default Python attributes associated with the module (not user-defined).\n",
    "\n",
    "For example, the __name__ attribute contains the name of the module."
   ]
  },
  {
   "cell_type": "markdown",
   "id": "4cb306c6",
   "metadata": {},
   "source": [
    "<font color = 'darkviolet' size = '5'> **Python File**</font>\n",
    "\n",
    ">File handling is an important part of any web application.<br>\n",
    ">Python has several functions for creating, reading, updating, and deleting files.\n",
    ">\n",
    ">The key function for working with files in Python is the `open()` function.\n",
    ">> The `open()` function takes two parameters; **filename**, and **mode**.<br>\n",
    "\n",
    ">**There are four different methods (modes) for opening a file**:<br>\n",
    ">\n",
    ">`\"r\"` - Read - Default value. Opens a file for reading, error if the file does not exist\n",
    ">\n",
    ">`\"a\"` - Append - Opens a file for appending, creates the file if it does not exist\n",
    ">\n",
    ">`\"w\"` - Write - Opens a file for writing, creates the file if it does not exist\n",
    ">\n",
    ">`\"x\"` - Create - Creates the specified file, returns an error if the file exists\n",
    ">\n",
    ">`\"t\"` - Text - Default value. Text mode\n",
    ">\n",
    ">`\"b\"` - Binary - Binary mode (e.g. images)"
   ]
  },
  {
   "cell_type": "markdown",
   "id": "89801ec6",
   "metadata": {},
   "source": [
    "The **`open()`** function returns a file object, which has a **`read()`** method for reading the content of the file"
   ]
  },
  {
   "cell_type": "code",
   "execution_count": 5,
   "id": "b6caef6e",
   "metadata": {},
   "outputs": [
    {
     "name": "stdout",
     "output_type": "stream",
     "text": [
      "just an error\n",
      "continue\n"
     ]
    }
   ],
   "source": [
    "try:\n",
    "   x = open('untitled.txt', 'rt')\n",
    "except FileNotFoundError:\n",
    "    print('just an error')\n",
    "    \n",
    "print('continue')"
   ]
  },
  {
   "cell_type": "code",
   "execution_count": 23,
   "id": "fa8df399-3efc-4c32-aef5-804a21a5e892",
   "metadata": {},
   "outputs": [
    {
     "name": "stdout",
     "output_type": "stream",
     "text": [
      "C:/Users/zahra/Downloads/mynotes.txt\n",
      "--\n",
      "----\n"
     ]
    }
   ],
   "source": [
    "f = open('C:/Users/zahra/Downloads/mynotes.txt','w')\n",
    "line1 = 'minasan konichiwa!\\n'\n",
    "line2 = 'sensei desu, onamae wa zara desu'\n",
    "f.write(line1)\n",
    "f.write(line2)\n",
    "print(f.name)\n",
    "\n",
    "f.close()\n",
    "print('--')\n",
    "\n",
    "#without close (use with ... as..)\n",
    "\n",
    "with open('C:/Users/zahra/Downloads/mynotes2.txt','w') as myfile:\n",
    "    line1 = 'minasan konichiwa!\\n'\n",
    "    line2 = 'sensei desu, onamae wa zara desu'\n",
    "    myfile.write(line1)\n",
    "    myfile.write(line2)\n",
    "    \n",
    "print('----')"
   ]
  },
  {
   "cell_type": "code",
   "execution_count": 44,
   "id": "593a6bb2",
   "metadata": {},
   "outputs": [
    {
     "name": "stdout",
     "output_type": "stream",
     "text": [
      "['minasan konichiwa!\\n', 'sensei desu, onamae wa zara desu']\n",
      "\n"
     ]
    }
   ],
   "source": [
    "with open('C:/Users/zahra/Downloads/mynotes2.txt','r') as f:\n",
    "    #print(f.readlines())  #['minasan konichiwa!\\n', 'sensei desu, onamae wa zara desu']\n",
    "    print(f.read(17))"
   ]
  },
  {
   "cell_type": "code",
   "execution_count": 79,
   "id": "2dd8ea3d-4ca4-4138-95a4-d953f105f554",
   "metadata": {},
   "outputs": [],
   "source": [
    "#copy a file into the another file \n",
    "\n",
    "name1 = 'C:/Users/zahra/Downloads/mynotes2.txt'\n",
    "name2 = 'C:/Users/zahra/Downloads/a.txt'\n",
    "\n",
    "with open(name1, 'r') as f1, open(name2, 'w') as f2:\n",
    "    for line in f1:\n",
    "        f2.write(line)\n",
    "\n",
    "#merging 3 file into 1 file\n",
    "\n",
    "name1 = 'C:/Users/zahra/Downloads/b.txt'\n",
    "name2 = 'C:/Users/zahra/Downloads/c.txt'\n",
    "name3 = 'C:/Users/zahra/Downloads/d.txt'\n",
    "\n",
    "with open(name1, 'w') as f1:\n",
    "    f1.write('nihongen desu')\n",
    "    \n",
    "with open(name2, 'w') as f2:\n",
    "    f2.write('watashi wa tokyo shushindesu')\n",
    "    \n",
    "with open(name1,'r') as f1, open(name2,'r') as f2:  \n",
    "    data1 = f1.read()\n",
    "    data2= f2.read()\n",
    "    \n",
    "with open(name3, 'w') as f3:\n",
    "    f3.write(data1 + data2)\n",
    "    \n"
   ]
  },
  {
   "cell_type": "markdown",
   "id": "3934095c",
   "metadata": {},
   "source": [
    "<font color= 'navy' size = 2.5> **Write to an Existing File**</font><br>\n",
    "To write to an existing file, you must add a parameter to the `open()` function"
   ]
  },
  {
   "cell_type": "code",
   "execution_count": 16,
   "id": "74d65c36",
   "metadata": {},
   "outputs": [
    {
     "name": "stdout",
     "output_type": "stream",
     "text": [
      "W3Schools is optimized for learning and training. Examples might be simplified to improve reading and learning. Tutorials, references, and examples are constantly reviewed to avoid errors, but we cannot warrant full correctness of all content. While using W3Schools, you agree to have read and accepted our terms of use, cookie and privacy policy.! Wait, its not yet over! \n"
     ]
    }
   ],
   "source": [
    "f = open('untitled.txt', 'a')         # 'a' becuz we want to append\n",
    "f.write('Wait, its not yet over! ')\n",
    "f.close()\n",
    "\n",
    "f = open('untitled.txt', 'rt')\n",
    "print(f.read())\n",
    "f.close()\n"
   ]
  },
  {
   "cell_type": "code",
   "execution_count": 67,
   "id": "dea3f1e4",
   "metadata": {},
   "outputs": [
    {
     "name": "stdout",
     "output_type": "stream",
     "text": [
      "C:/Users/zahra/Downloads/d.txt has :5 words\n"
     ]
    }
   ],
   "source": [
    "def count(filename):\n",
    "    with open(filename) as f:\n",
    "        x = f.read()\n",
    "        c = len(x.split())\n",
    "        print(f'{filename} has :{c} words')\n",
    "\n",
    "count('C:/Users/zahra/Downloads/d.txt')"
   ]
  },
  {
   "cell_type": "code",
   "execution_count": 77,
   "id": "b9cca927-7fa6-4e83-a305-0b858e64fe81",
   "metadata": {},
   "outputs": [
    {
     "name": "stdout",
     "output_type": "stream",
     "text": [
      "0\n",
      "minas\n",
      "asan \n",
      "8\n"
     ]
    }
   ],
   "source": [
    "with open ('C:/Users/zahra/Downloads/mynotes.txt') as f:\n",
    "    print(f.tell())\n",
    "    print(f.read(5))\n",
    "    f.seek(3)          #start from 3 \n",
    "    print(f.read(5))\n",
    "    print(f.tell())    "
   ]
  },
  {
   "cell_type": "code",
   "execution_count": 97,
   "id": "445bdba5-74ca-4933-9a3c-51eccd173df2",
   "metadata": {},
   "outputs": [
    {
     "name": "stdout",
     "output_type": "stream",
     "text": [
      "name  scores\n",
      "\n",
      "ali  18\n",
      "\n",
      "reza  15\n",
      "\n",
      "mamad  12\n",
      "\n",
      "navid  19\n",
      "\n"
     ]
    }
   ],
   "source": [
    "#csv without pandas\n",
    "\n",
    "import csv \n",
    "\n",
    "x = ['name', 'scores']\n",
    "s1 = ['ali', 18]\n",
    "s2 = ['reza', 15]\n",
    "s3 = ['mamad', 12]\n",
    "s4 = ['navid', 19]\n",
    "\n",
    "with open('C:/Users/zahra/Downloads/a.csv','w') as f :\n",
    "    w = csv.writer(f)\n",
    "    w.writerow(x)\n",
    "    w.writerows([s1,s2,s3,s4])\n",
    "\n",
    "with open('C:/Users/zahra/Downloads/a.csv','r') as f :    \n",
    "    r = csv.reader(f)\n",
    "    for i in r:\n",
    "        print('  '.join(i))\n",
    "    "
   ]
  },
  {
   "cell_type": "code",
   "execution_count": 103,
   "id": "1cc5b816-d289-40fd-b71a-4be09639439c",
   "metadata": {},
   "outputs": [
    {
     "name": "stdout",
     "output_type": "stream",
     "text": [
      "    name  scores\n",
      "0    ali      18\n",
      "1   reza      15\n",
      "2  mamad      12\n",
      "3  navid      19\n"
     ]
    }
   ],
   "source": [
    "import pandas as pd\n",
    "\n",
    "data1 = pd.read_csv('C:/Users/zahra/Downloads/a.csv')\n",
    "print(data1)\n",
    "data1.to_csv('C:/Users/zahra/Downloads/a.csv', sep = ',', index = False)"
   ]
  },
  {
   "cell_type": "code",
   "execution_count": 44,
   "id": "1fbe199d-9efe-47e9-a95c-5b9ea41ae55d",
   "metadata": {},
   "outputs": [
    {
     "name": "stdout",
     "output_type": "stream",
     "text": [
      "error\n"
     ]
    }
   ],
   "source": [
    "#manage errors!\n",
    "\n",
    "try:\n",
    "    print(k)\n",
    "except NameError:\n",
    "    print('error')"
   ]
  },
  {
   "cell_type": "code",
   "execution_count": 50,
   "id": "f6f63618-473a-4873-b692-20408e337b3a",
   "metadata": {},
   "outputs": [
    {
     "name": "stdout",
     "output_type": "stream",
     "text": [
      "0.8\n",
      "by\n",
      "error\n",
      "by\n"
     ]
    }
   ],
   "source": [
    "def divide(x,y):\n",
    "    try:\n",
    "        r = x/y\n",
    "    except ZeroDivisionError:\n",
    "       print('error')\n",
    "    else:\n",
    "        print(r)\n",
    "    finally:\n",
    "        print('by')\n",
    "        \n",
    "divide(4,5)\n",
    "divide(4,0)   \n"
   ]
  },
  {
   "cell_type": "code",
   "execution_count": 66,
   "id": "50bf207e-be3d-4ca4-8185-c638d4201d50",
   "metadata": {},
   "outputs": [
    {
     "name": "stdout",
     "output_type": "stream",
     "text": [
      "string cannot become an integer\n"
     ]
    }
   ],
   "source": [
    "st = 'ali'\n",
    "try:\n",
    "    i = int(st)\n",
    "except ValueError:\n",
    "    print('string cannot become an integer')\n"
   ]
  },
  {
   "cell_type": "code",
   "execution_count": 86,
   "id": "b0287379-9318-41c2-8de7-0a45bb6f3cc9",
   "metadata": {},
   "outputs": [
    {
     "name": "stdin",
     "output_type": "stream",
     "text": [
      "enter your number: 0\n"
     ]
    },
    {
     "name": "stdout",
     "output_type": "stream",
     "text": [
      "enter a number other than 0\n"
     ]
    }
   ],
   "source": [
    "def f(n):\n",
    "    try:\n",
    "        if n==13:\n",
    "            raise ValueError('unlucky number')\n",
    "        return 20/n\n",
    "    except (ZeroDivisionError, TypeError):\n",
    "        return 'enter a number other than 0'\n",
    "\n",
    "print(f(int(input('enter your number:'))))"
   ]
  }
 ],
 "metadata": {
  "kernelspec": {
   "display_name": "Python 3 (ipykernel)",
   "language": "python",
   "name": "python3"
  },
  "language_info": {
   "codemirror_mode": {
    "name": "ipython",
    "version": 3
   },
   "file_extension": ".py",
   "mimetype": "text/x-python",
   "name": "python",
   "nbconvert_exporter": "python",
   "pygments_lexer": "ipython3",
   "version": "3.12.3"
  }
 },
 "nbformat": 4,
 "nbformat_minor": 5
}
