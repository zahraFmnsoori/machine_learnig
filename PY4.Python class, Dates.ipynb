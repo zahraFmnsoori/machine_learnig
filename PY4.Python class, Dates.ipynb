{
 "cells": [
  {
   "cell_type": "markdown",
   "id": "e5bd5c55",
   "metadata": {},
   "source": [
    "><font color = 'olive' size =4 > **Python Classes/Objects** </font>\n",
    ">\n",
    ">>Python is an object oriented programming language.<br>\n",
    ">>Almost everything in Python is an object, with its properties and methods.<br>\n",
    ">>A Class is like an object constructor, or a \"blueprint\" for creating objects.\n",
    "\n",
    ">**Class** : to create a class use a keyword class()\n",
    "  "
   ]
  },
  {
   "cell_type": "code",
   "execution_count": 3,
   "id": "920092cd",
   "metadata": {},
   "outputs": [],
   "source": [
    "class My_class():\n",
    "    x = 5 \n",
    "#Create a class named MyClass, with a property named x"
   ]
  },
  {
   "cell_type": "markdown",
   "id": "fc39ba33",
   "metadata": {},
   "source": [
    "> **Create Object** : Now we can use the class named My_class to create objects:"
   ]
  },
  {
   "cell_type": "code",
   "execution_count": 4,
   "id": "eba5d724",
   "metadata": {},
   "outputs": [
    {
     "name": "stdout",
     "output_type": "stream",
     "text": [
      "5\n"
     ]
    }
   ],
   "source": [
    "p1 = My_class()\n",
    "print(p1.x)\n",
    "#Create an object named p1, and print the value of x"
   ]
  },
  {
   "cell_type": "markdown",
   "id": "5ee6b7bd",
   "metadata": {},
   "source": [
    "> <font color = 'peru' size = 3.5> **The __ init __() function** </font>\n",
    ">\n",
    ">>To understand the meaning of classes we have to understand the built-in **__ init __()** function.<br>\n",
    ">> All classes have a function called **__ init __()**, which is always executed when the class is being initiated.<br>\n",
    ">> Use the __init__() function to assign values to object properties, or other operations that are necessary to do when the object is being created"
   ]
  },
  {
   "cell_type": "code",
   "execution_count": 25,
   "id": "fedbcf65",
   "metadata": {},
   "outputs": [
    {
     "name": "stdout",
     "output_type": "stream",
     "text": [
      "ur firstname: zara\n",
      "ur age: 12\n",
      "zara\n",
      "12\n"
     ]
    }
   ],
   "source": [
    "class student:\n",
    "    def __init__(self, fname, age):\n",
    "        self.fname = fname\n",
    "        self.age = age\n",
    "\n",
    "user1 = student(input('ur firstname: ') , int(input('ur age: ')))\n",
    "\n",
    "print(user1.fname)\n",
    "print(user1.age)"
   ]
  },
  {
   "cell_type": "markdown",
   "id": "4b2fa7fe",
   "metadata": {},
   "source": [
    "> <font color = 'peru' size = 3.5> **The __ str __() function** </font>\n",
    ">\n",
    ">> the **__ str __()** function controls what should be returned when the class object is represented as a string.<br>\n",
    ">>If the **__ str __()** function is not set, the string representation of the object is returned."
   ]
  },
  {
   "cell_type": "code",
   "execution_count": 17,
   "id": "eebcd383",
   "metadata": {},
   "outputs": [
    {
     "name": "stdout",
     "output_type": "stream",
     "text": [
      "<__main__.Person object at 0x000002611FD0DBB0>\n"
     ]
    }
   ],
   "source": [
    "#without __str__()\n",
    "class Person:\n",
    "    def __init__(self, name, age):\n",
    "        self.name = name\n",
    "        self.age = age\n",
    "\n",
    "p1 = Person(\"John\", 36)\n",
    "\n",
    "print(p1)"
   ]
  },
  {
   "cell_type": "code",
   "execution_count": 38,
   "id": "14fc50ec",
   "metadata": {},
   "outputs": [
    {
     "name": "stdout",
     "output_type": "stream",
     "text": [
      "John, 36 y/o!\n",
      "John, 41 y/o!\n"
     ]
    }
   ],
   "source": [
    "class Person:\n",
    "    def __init__(self, name, age):\n",
    "        self.name = name\n",
    "        self.age = age\n",
    "\n",
    "    def __str__(self):\n",
    "         return f\"{self.name}, {self.age} y/o!\"\n",
    "\n",
    "p1 = Person(\"John\", 36)\n",
    "print(p1)\n",
    "\n",
    "#change objects properties:\n",
    "p1.age = 41\n",
    "print(p1)\n",
    "\n",
    "#delete objects properties\n",
    "#del p1.age"
   ]
  },
  {
   "cell_type": "markdown",
   "id": "a1e08a9c",
   "metadata": {},
   "source": [
    "> <font color = 'peru' size = 3.5> **The self Parameter** </font><br>\n",
    ">\n",
    ">>The **self** parameter is a reference to the current instance of the class, and is used to access variables that belongs to the class.<br>\n",
    ">>It does not have to be named **self** , you can call it whatever you like, but it has to be the first parameter of any function in the class:"
   ]
  },
  {
   "cell_type": "code",
   "execution_count": 48,
   "id": "5ce9f1ec",
   "metadata": {},
   "outputs": [
    {
     "name": "stdout",
     "output_type": "stream",
     "text": [
      "ur name is: zahra\n",
      "Hello my name is zahra\n"
     ]
    }
   ],
   "source": [
    "class Person:\n",
    "    def __init__(sillyname, name, age):\n",
    "        sillyname.name = name\n",
    "        sillyname.age = age\n",
    "\n",
    "    def myfunc(abc): #or myfunc(sillyname)\n",
    "        print(\"Hello my name is \" + abc.name)\n",
    "\n",
    "p1 = Person(input('ur name is: '), 36)\n",
    "p1.myfunc()"
   ]
  },
  {
   "cell_type": "markdown",
   "id": "28517b42",
   "metadata": {},
   "source": [
    "><font color = 'olive' size = 4> **Python Inheritance** </font>\n",
    ">\n",
    ">> **Inheritance** allows us to define a class that inherits all the **methods and properties** from another class.<br>\n",
    ">>**Parent class** is the class being inherited from, also called base class.<br>\n",
    ">>**Child class** is the class that inherits from another class, also called derived class."
   ]
  },
  {
   "cell_type": "markdown",
   "id": "17711b66",
   "metadata": {},
   "source": [
    "><font color = 'peru' size = 3 > **Create a Parent Class** </font>\n",
    ">> Any class can be a parent class, so the syntax is the same as creating any other class:"
   ]
  },
  {
   "cell_type": "code",
   "execution_count": 1,
   "id": "f6fa8d82",
   "metadata": {},
   "outputs": [
    {
     "name": "stdout",
     "output_type": "stream",
     "text": [
      "enter ur first name:za\n",
      "enter ur last namecd\n",
      "za cd\n"
     ]
    }
   ],
   "source": [
    "#parent class\n",
    "\n",
    "class person:\n",
    "    def __init__(self, fname, lname):\n",
    "        self.fname = fname\n",
    "        self.lname = lname\n",
    "    \n",
    "    def printer(self):\n",
    "        print(self.fname, self.lname)\n",
    "        \n",
    "x = person(input('enter ur first name:'), input('enter ur last name'))\n",
    "x.printer()"
   ]
  },
  {
   "cell_type": "markdown",
   "id": "b589fd10",
   "metadata": {},
   "source": [
    "><font color = 'peru' size = 3 > **Create a Child Class** </font>\n",
    ">> To create a class that inherits the functionality from another class, send the parent class as a parameter when creating the child class:"
   ]
  },
  {
   "cell_type": "code",
   "execution_count": 3,
   "id": "4fc9a1f0",
   "metadata": {},
   "outputs": [],
   "source": [
    "#child class\n",
    "class Student(person):\n",
    "    pass"
   ]
  },
  {
   "cell_type": "code",
   "execution_count": 4,
   "id": "0877ee37",
   "metadata": {},
   "outputs": [
    {
     "name": "stdout",
     "output_type": "stream",
     "text": [
      "navid dehqan\n"
     ]
    }
   ],
   "source": [
    "y = Student('navid','dehqan')\n",
    "y.printer()"
   ]
  },
  {
   "cell_type": "markdown",
   "id": "63f1374b",
   "metadata": {},
   "source": [
    ">So far we have created a child class that inherits the properties and methods from its parent.\n",
    ">\n",
    ">We want to add the **__ init __()** function to the child class (instead of the **pass** keyword)."
   ]
  },
  {
   "cell_type": "code",
   "execution_count": 5,
   "id": "540a647d",
   "metadata": {},
   "outputs": [
    {
     "ename": "IndentationError",
     "evalue": "expected an indented block (3543354211.py, line 3)",
     "output_type": "error",
     "traceback": [
      "\u001b[1;36m  Cell \u001b[1;32mIn[5], line 3\u001b[1;36m\u001b[0m\n\u001b[1;33m    #add properties etc\u001b[0m\n\u001b[1;37m                       ^\u001b[0m\n\u001b[1;31mIndentationError\u001b[0m\u001b[1;31m:\u001b[0m expected an indented block\n"
     ]
    }
   ],
   "source": [
    "class Student(Person):\n",
    "    def __init__(self, fname, age):\n",
    "#add properties etc"
   ]
  },
  {
   "cell_type": "markdown",
   "id": "613cd75f",
   "metadata": {},
   "source": [
    "> When you add the **__ init __()** function, the child class will no longer inherit the parent's **__ init __()** function.\n",
    ">\n",
    "> To keep the inheritance of the parent's **__ init __()** function, add a call to the parent's **__ init __()** function"
   ]
  },
  {
   "cell_type": "code",
   "execution_count": 53,
   "id": "2b595639",
   "metadata": {},
   "outputs": [],
   "source": [
    "class Student(Person):\n",
    "    def __init__(self, fname, lname):\n",
    "        Person.__init__(self, fname, lname)\n"
   ]
  },
  {
   "cell_type": "markdown",
   "id": "6884a0e1",
   "metadata": {},
   "source": [
    "<font color = 'peru' size = '3'> **Use the super() Function** </font>\n",
    "> Python also has a **super()** function that will make the child class inherit all the methods and properties from its parent"
   ]
  },
  {
   "cell_type": "code",
   "execution_count": 6,
   "id": "a380bc69",
   "metadata": {},
   "outputs": [
    {
     "name": "stdout",
     "output_type": "stream",
     "text": [
      "enter ur first name:zara\n",
      "enter ur last namemnsoori\n",
      "graduation yaer: 98\n",
      "Welcome zara mnsoori to the class of 98\n"
     ]
    }
   ],
   "source": [
    "class Student(person):\n",
    "    def __init__(self, fname, lname, year):\n",
    "        super().__init__(fname, lname)\n",
    "        self.graduationyear = year\n",
    "    def welcome(self):\n",
    "        print(\"Welcome\", self.fname, self.lname, \"to the class of\", self.graduationyear)\n",
    "        \n",
    "        \n",
    "x = Student(input('enter ur first name:'), input('enter ur last name'), \\\n",
    "int(input('graduation yaer: ')))\n",
    "x.welcome()"
   ]
  },
  {
   "cell_type": "markdown",
   "id": "72fa4647",
   "metadata": {},
   "source": [
    "<font color = 'olive' size = 4> **Python Iterators** </font>\n",
    ">An iterator is an object that contains a countable number of values.<br>\n",
    ">Technically, in Python, an iterator is an object which implements the iterator protocol, which consist of the methods **__ iter __() and __ next __()**.\n",
    ">> **Lists, tuples, dictionaries, sets** are all iterable objects. They are iterable containers which you can get an iterator from.\n",
    ">>All these objects have a iter() method which is used to get an iterator\n",
    "\n",
    ">We can also use a for loop to iterate through an iterable object"
   ]
  },
  {
   "cell_type": "code",
   "execution_count": 9,
   "id": "6db2165b",
   "metadata": {},
   "outputs": [
    {
     "name": "stdout",
     "output_type": "stream",
     "text": [
      "apple\n",
      "banana\n",
      "cherry\n"
     ]
    }
   ],
   "source": [
    "mytuple = (\"apple\", \"banana\", \"cherry\")\n",
    "myit = iter(mytuple)\n",
    "\n",
    "print(next(myit))\n",
    "print(next(myit))\n",
    "print(next(myit))"
   ]
  },
  {
   "cell_type": "code",
   "execution_count": 10,
   "id": "014060c8",
   "metadata": {},
   "outputs": [
    {
     "name": "stdout",
     "output_type": "stream",
     "text": [
      "b\n",
      "a\n",
      "n\n",
      "a\n",
      "n\n",
      "a\n"
     ]
    }
   ],
   "source": [
    "mystr = \"banana\"\n",
    "myit = iter(mystr)\n",
    "\n",
    "print(next(myit))\n",
    "print(next(myit))\n",
    "print(next(myit))\n",
    "print(next(myit))\n",
    "print(next(myit))\n",
    "print(next(myit))"
   ]
  },
  {
   "cell_type": "code",
   "execution_count": 11,
   "id": "789cfebb",
   "metadata": {},
   "outputs": [
    {
     "name": "stdout",
     "output_type": "stream",
     "text": [
      "b\n",
      "a\n",
      "n\n",
      "a\n",
      "n\n",
      "a\n"
     ]
    }
   ],
   "source": [
    "mystr = \"banana\"\n",
    "\n",
    "for x in mystr:\n",
    "    print(x)"
   ]
  },
  {
   "cell_type": "code",
   "execution_count": 15,
   "id": "771faa50",
   "metadata": {},
   "outputs": [
    {
     "name": "stdout",
     "output_type": "stream",
     "text": [
      "1\n",
      "2\n",
      "3\n"
     ]
    }
   ],
   "source": [
    "class MyNumbers:\n",
    "    def __iter__(self):\n",
    "        self.a = 1\n",
    "        return self\n",
    "\n",
    "    def __next__(self):\n",
    "        x = self.a\n",
    "        self.a += 1\n",
    "        return x\n",
    "\n",
    "myclass = MyNumbers()\n",
    "myiter = iter(myclass)\n",
    "\n",
    "print(next(myiter))\n",
    "print(next(myiter))\n",
    "print(next(myiter))\n"
   ]
  },
  {
   "cell_type": "markdown",
   "id": "e1cd8be5",
   "metadata": {},
   "source": [
    "<font color = 'peru' size = '3'> **StopIteration** </font>\n",
    ">The example above would continue forever if you had enough next() statements, or if it was used in a for loop.<br>\n",
    ">>To prevent the iteration from going on forever, we can use the StopIteration statement.<br>\n",
    ">>In the **__ next __()** method, we can add a terminating condition to raise an error if the iteration is done a specified number of times:"
   ]
  },
  {
   "cell_type": "code",
   "execution_count": 2,
   "id": "f9d54cfd",
   "metadata": {},
   "outputs": [
    {
     "name": "stdout",
     "output_type": "stream",
     "text": [
      "1\n",
      "2\n",
      "3\n",
      "4\n",
      "5\n",
      "6\n",
      "7\n",
      "8\n",
      "9\n",
      "10\n",
      "11\n",
      "12\n",
      "13\n",
      "14\n",
      "15\n",
      "16\n",
      "17\n",
      "18\n",
      "19\n",
      "20\n"
     ]
    }
   ],
   "source": [
    "class MyNumbers:\n",
    "    def __iter__(self):\n",
    "        self.a = 1\n",
    "        return self\n",
    "\n",
    "    def __next__(self):\n",
    "        if self.a <= 20:\n",
    "            x = self.a\n",
    "            self.a += 1\n",
    "            return x\n",
    "        else:\n",
    "            raise StopIteration\n",
    "\n",
    "myclass = MyNumbers()\n",
    "\n",
    "for x in iter(myclass):\n",
    "    print(x)"
   ]
  },
  {
   "cell_type": "markdown",
   "id": "66080eca",
   "metadata": {},
   "source": [
    "<font color = 'olive' size = '4'> **Python Polymorphism** </font>\n",
    "\n",
    ">The word \"polymorphism\" means \"many forms\", and in programming it refers to methods/functions/operators with the same name that can be executed on many objects or classes.<br>\n",
    ">An example of a Python function that can be used on different objects is the __len()__ function<br>\n",
    "as follow: \n",
    "string, tuple, dictionary, list"
   ]
  },
  {
   "cell_type": "code",
   "execution_count": 8,
   "id": "306591e2",
   "metadata": {},
   "outputs": [
    {
     "name": "stdout",
     "output_type": "stream",
     "text": [
      "11\n",
      "3\n",
      "2\n",
      "3\n"
     ]
    }
   ],
   "source": [
    "x = 'hello world'\n",
    "y = ('mina','reza', 'soheil')\n",
    "v = {'brand ': 'ford', 'model' :'mustang'}\n",
    "z = ['ali',('roya'),43]\n",
    "\n",
    "print(len(x))\n",
    "print(len(y))\n",
    "print(len(v))\n",
    "print(len(z))"
   ]
  },
  {
   "cell_type": "markdown",
   "id": "668465b5",
   "metadata": {},
   "source": [
    "<font color = 'peru' size = '3'> **Class Polymorphism** </font><br>\n",
    ">`Polymorphism` is often used in Class methods, where we can have multiple classes with the same method name.<br>\n",
    ">For example, say we have three classes: Car, Boat, and Plane, and they all have a method called move()"
   ]
  },
  {
   "cell_type": "code",
   "execution_count": 22,
   "id": "4a2e073f",
   "metadata": {},
   "outputs": [
    {
     "name": "stdout",
     "output_type": "stream",
     "text": [
      "ur car brand: dodg\n",
      "ur car model:charger\n",
      "ur boat brand: raisn\n",
      "ur boat model:21\n",
      "ur plane brand: boeng\n",
      "ur plane model:743\n",
      "move dodg charger\n",
      "sail raisn 21\n",
      "fly boeng 743\n"
     ]
    }
   ],
   "source": [
    "class car:\n",
    "    def __init__(self,brand,model):\n",
    "        self.brand = brand\n",
    "        self.model = model\n",
    "        \n",
    "    def Move(self):\n",
    "        print(\"move\",self.brand,self.model)\n",
    "        \n",
    "class boat:\n",
    "    def __init__(self, brand, model):\n",
    "        self.brand = brand\n",
    "        self.model = model\n",
    "        \n",
    "    def Move(self):\n",
    "        print('sail',self.brand,self.model)\n",
    "        \n",
    "class plane:\n",
    "    def __init__(self, brand, model):\n",
    "        self.brand = brand\n",
    "        self.model = model\n",
    "        \n",
    "    def Move(self):\n",
    "        print('fly',self.brand,self.model)\n",
    "        \n",
    "car1 = car(input('ur car brand: '), input('ur car model:')) #create a car object\n",
    "boat1 = boat(input('ur boat brand: '), input('ur boat model:'))\n",
    "plane1 = plane(input('ur plane brand: '), input('ur plane model:'))\n",
    "\n",
    "for x in (car1, boat1, plane1):\n",
    "    x.Move()\n",
    "#Because of polymorphism we can execute the same method for all three classes."
   ]
  },
  {
   "cell_type": "markdown",
   "id": "7d1d3165",
   "metadata": {},
   "source": [
    "<font color = 'peru' size ='3' >**Inheritance Class Polymorphism**</font>\n",
    "\n",
    "> If we use the example above and make a parent class called Vehicle, and make Car, Boat, Plane, bicycle child classes of Vehicle, the child classes inherits the Vehicle methods, but can override them"
   ]
  },
  {
   "cell_type": "code",
   "execution_count": 23,
   "id": "11df4324",
   "metadata": {},
   "outputs": [
    {
     "name": "stdout",
     "output_type": "stream",
     "text": [
      "ur car brand: dodge\n",
      "ur car model:charger\n",
      "ur boat brand: ibiza\n",
      "ur boat model:touring 20\n",
      "ur plane brand: boeng \n",
      "ur plane model:743\n",
      "ur car brand: runo\n",
      "ur car model:23e\n",
      "Move!! dodge charger\n",
      "sail ibiza touring 20\n",
      "fly boeng  743\n",
      "Move!! runo 23e\n"
     ]
    }
   ],
   "source": [
    "class Vehicle:\n",
    "    def __init__(self, brand, model):\n",
    "        self.brand = brand\n",
    "        self.model = model\n",
    "\n",
    "    def move(self):\n",
    "        print(\"Move!!\",self.brand, self.model)\n",
    "\n",
    "class car(Vehicle):\n",
    "    pass\n",
    "\n",
    "class boat(Vehicle):\n",
    "    def move(self):\n",
    "        print('sail',self.brand, self.model)\n",
    "        \n",
    "class plane(Vehicle):\n",
    "    def move(self):\n",
    "        print('fly',self.brand , self.model)\n",
    "        \n",
    "class bicycle(Vehicle):\n",
    "    pass\n",
    "\n",
    "car1 = car(input('ur car brand: '), input('ur car model:')) \n",
    "boat1 = boat(input('ur boat brand: '), input('ur boat model:'))\n",
    "plane1 = plane(input('ur plane brand: '), input('ur plane model:')) \n",
    "bicycle1 = bicycle(input('ur car brand: '), input('ur car model:'))\n",
    "\n",
    "for x in (car1, boat1, plane1, bicycle1):\n",
    "    x.move()\n"
   ]
  },
  {
   "cell_type": "markdown",
   "id": "e81a5c8c",
   "metadata": {},
   "source": [
    "> The Boat and Plane classes also inherit brand, model, and move() from Vehicle, but they both override the move() method"
   ]
  },
  {
   "cell_type": "markdown",
   "id": "d064d1ee",
   "metadata": {},
   "source": [
    "<font color = 'olive' size = '4'> **Python Modules**</font>\n",
    "><font color = 'peru' size = '3'> **What is a Module?**</font>\n",
    ">>Consider a module to be the same as a code library.<br>\n",
    ">>A file containing a set of functions you want to include in your application.<br>\n",
    ">>\n",
    "><font color = 'peru' size = '3'> **Create a Module**</font><br>\n",
    ">To create a module just save the code you want in a file with the file extension .py <br>\n",
    "> **Note**: When using a function from a module, use the syntax: module_name.function_name.<br>\n",
    ">>\n",
    "><font color = 'peru' size = '3'> **Import From Module**</font><br>\n",
    ">You can choose to import only parts from a module, by using the from keyword.\n"
   ]
  },
  {
   "cell_type": "code",
   "execution_count": 1,
   "id": "49d58113",
   "metadata": {},
   "outputs": [
    {
     "name": "stdout",
     "output_type": "stream",
     "text": [
      "heyyy jonathan\n"
     ]
    }
   ],
   "source": [
    "import mymodule0\n",
    "mymodule0.greeting(' jonathan')"
   ]
  },
  {
   "cell_type": "code",
   "execution_count": 9,
   "id": "75da57c0",
   "metadata": {},
   "outputs": [
    {
     "name": "stdout",
     "output_type": "stream",
     "text": [
      "36\n"
     ]
    }
   ],
   "source": [
    "from mymodule1 import person1\n",
    "\n",
    "a = person1[\"age\"]  #dont use the module name when referring to elements in the module\n",
    "print(a)"
   ]
  },
  {
   "cell_type": "code",
   "execution_count": 8,
   "id": "fd3fafde",
   "metadata": {},
   "outputs": [
    {
     "name": "stdout",
     "output_type": "stream",
     "text": [
      "John\n"
     ]
    }
   ],
   "source": [
    "import mymodule1 as md\n",
    "\n",
    "a = md.person1['name']\n",
    "print(a)"
   ]
  },
  {
   "cell_type": "code",
   "execution_count": 10,
   "id": "f2d4e83d",
   "metadata": {},
   "outputs": [
    {
     "name": "stdout",
     "output_type": "stream",
     "text": [
      "['__builtins__', '__cached__', '__doc__', '__file__', '__loader__', '__name__', '__package__', '__spec__', 'greeting', 'person1']\n"
     ]
    }
   ],
   "source": [
    "import mymodule1 #all variables\n",
    "print(dir(mymodule1))"
   ]
  },
  {
   "cell_type": "markdown",
   "id": "c425b613",
   "metadata": {},
   "source": [
    "<font color = 'olive' size = '4'> **Python Dates**</font>\n",
    ">A date in Python is not a data type of its own, but we can import a module named datetime to work with dates as date objects"
   ]
  },
  {
   "cell_type": "code",
   "execution_count": 15,
   "id": "6bacc360",
   "metadata": {},
   "outputs": [
    {
     "name": "stdout",
     "output_type": "stream",
     "text": [
      "2023-09-10 14:34:37.939216\n",
      "2023\n",
      "Sun Sep 10 14:34:37 2023\n"
     ]
    }
   ],
   "source": [
    "import datetime\n",
    "\n",
    "x = datetime.datetime.now()\n",
    "print(x)\n",
    "\n",
    "print(x.year)\n",
    "print(x.strftime(\"%c\"))"
   ]
  },
  {
   "cell_type": "markdown",
   "id": "93ea80c6",
   "metadata": {},
   "source": [
    "<font color = 'peru' size = '3'> **Creating Date Objects**</font><br>\n",
    ">To create a date, we can use the datetime() class (constructor) of the datetime module.\n",
    ">\n",
    ">The datetime() class requires three parameters to create a date: year, month, day.<br>\n",
    "\n",
    "<font color = 'peru' size = '3'> **The strftime() Method**</font><br>\n",
    ">The datetime object has a method for formatting date objects into readable strings.\n",
    ">\n",
    ">The method is called **`strftime()`**, and takes one parameter, **`format`**, to specify the format of the returned string:"
   ]
  },
  {
   "cell_type": "code",
   "execution_count": 14,
   "id": "2895a465",
   "metadata": {},
   "outputs": [
    {
     "name": "stdout",
     "output_type": "stream",
     "text": [
      "2020-05-17 12:56:00\n",
      "Sun May 17 12:56:00 2020\n"
     ]
    }
   ],
   "source": [
    "import datetime\n",
    "\n",
    "x = datetime.datetime(2020, 5, 17,12 , 56,)\n",
    "\n",
    "print(x)\n",
    "print(x.strftime('%c'))"
   ]
  },
  {
   "cell_type": "markdown",
   "id": "b830f86b",
   "metadata": {},
   "source": [
    "| Directive  | Description           |Example |\n",
    "|:-          |:-                     |:-                |\n",
    "|%a          |Weekday, short version |Wed\t|\n",
    "|%A\t|Weekday, full version\t         |Wednesday\t\n",
    "|%w\t|Weekday as a number 0-6         |\t3\t\n",
    "|%d\t|Day of month |01-31\t31\t\n",
    "|%b\t|Month name, short version\t|Dec\t\n",
    "|%B\t|Month name, full version\t|December\t\n",
    "|%m\t|Month as a number 01-12\t|12\t\n",
    "|%y\t|Year, short version, without century|\t18\t\n",
    "|%Y\t|Year, full version\t|2018\t\n",
    "|%H\t|Hour 00-23|\t17\t\n",
    "|%I\t|Hour 00-12|\t05\t\n",
    "|%p\t|AM/PM\t|PM\t\n",
    "|%M\t|Minute 00-59\t|41\t\n",
    "|%S\t|Second 00-59\t|08\t\n",
    "|%j\t|Day number of year, 001-366|\t365\t\n",
    "|%U\t|Week number of year, 00-53\t|52\t\n",
    "|%W\t|Week number of year, 00-53\t|52\t\n",
    "|%c\t|Local version of date and time\t|Mon Dec 31 17:41:00 2018\t\n",
    "|%C\t|Century\t|20\t\n",
    "|%x\t|Local version of date\t|12/31/18\t\n",
    "|%X\t|Local version of time\t|17:41:00|"
   ]
  }
 ],
 "metadata": {
  "kernelspec": {
   "display_name": "Python 3 (ipykernel)",
   "language": "python",
   "name": "python3"
  },
  "language_info": {
   "codemirror_mode": {
    "name": "ipython",
    "version": 3
   },
   "file_extension": ".py",
   "mimetype": "text/x-python",
   "name": "python",
   "nbconvert_exporter": "python",
   "pygments_lexer": "ipython3",
   "version": "3.9.16"
  }
 },
 "nbformat": 4,
 "nbformat_minor": 5
}
