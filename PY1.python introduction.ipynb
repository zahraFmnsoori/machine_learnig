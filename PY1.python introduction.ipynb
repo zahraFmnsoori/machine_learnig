{
 "cells": [
  {
   "cell_type": "markdown",
   "id": "e43ddfa7",
   "metadata": {},
   "source": [
    "<font color = 'indianred' size = '5' >**Python Data Types**</font>"
   ]
  },
  {
   "cell_type": "markdown",
   "id": "ff357163",
   "metadata": {},
   "source": [
    "| data types | like | Holds |\n",
    "| :- | :- |  :- |\n",
    "| Numeric | int,float,complex | hold numeric values\n",
    "| string |  str | holds sequence of characters\n",
    "| sequence | list, tuple, range | hold collection of items\n",
    "| set |set, frozenset | hold collection of unique items\n",
    "| mapping dict |  | hold data in key-value form\n",
    "| boolean |  | either true or false"
   ]
  },
  {
   "cell_type": "code",
   "execution_count": 26,
   "id": "42892e67",
   "metadata": {},
   "outputs": [
    {
     "name": "stdout",
     "output_type": "stream",
     "text": [
      "['apple', 'mango', 'orange', 2]\n",
      "orange\n",
      "(1, 2, 3)\n",
      "{'a': [1, 2, 3, 4], 'b': 'ball', 'c': 'cat', 'k': {'innerk': [5, 6, 7, 8]}}\n",
      "[1, 2, 3, 4]\n",
      "7\n",
      "{'o', 'u', 'e', 'i', 'a'}\n",
      "abcdefg\n"
     ]
    }
   ],
   "source": [
    "# list literal #list, tuple, range holds collection of items\n",
    "fruits = ['apple', \"mango\", \"orange\", 2] \n",
    "print(fruits)\n",
    "print (fruits[2])\n",
    "\n",
    "# tuple literal, looks like a list but in Parenthesis\n",
    "numbers = (1, 2, 3) \n",
    "print(numbers)\n",
    "\n",
    "\n",
    "# dictionary literal #holds data in key-value pair form\n",
    "alphabets = {'a':[1,2,3,4], 'b':'ball', 'c':'cat','k':{'innerk' : [5,6,7,8] } }\n",
    "print(alphabets)\n",
    "print(alphabets['a'])\n",
    "#alphabets['a'][1]\n",
    "#print(alphabets['k']['innerk'][2])\n",
    "\n",
    "# set literal #hold collection of unique items\n",
    "vowels = {'a', 'e', 'i' , 'o', 'u', 'a'}\n",
    "print(vowels)\n",
    "\n",
    "string = 'abcdefg' #holds sequence of characters\n",
    "print(string)"
   ]
  },
  {
   "cell_type": "markdown",
   "id": "01b627ba",
   "metadata": {},
   "source": [
    "<font color = 'indianred' size = '4' >**python list data type**</font>\n",
    "\n",
    "List is an ordered collection of similar or different types of items separated by commas and enclosed within brackets [ ]. <br> For example:"
   ]
  },
  {
   "cell_type": "code",
   "execution_count": 30,
   "id": "22d912ee",
   "metadata": {},
   "outputs": [
    {
     "name": "stdout",
     "output_type": "stream",
     "text": [
      "GO\n",
      "Swift\n"
     ]
    }
   ],
   "source": [
    "#list calling\n",
    "languages = [\"Swift\", \"Java\", \"Python\", 'GO']\n",
    "print(languages[3])\n",
    "print (languages[0])"
   ]
  },
  {
   "cell_type": "code",
   "execution_count": 27,
   "id": "0a5ea92a",
   "metadata": {},
   "outputs": [
    {
     "name": "stdout",
     "output_type": "stream",
     "text": [
      "[1, 2, 'swift', 1]\n",
      "<class 'list'>\n",
      "[1, 2, 'swift', 1]\n"
     ]
    }
   ],
   "source": [
    "d = [1,2,'swift',(1)]\n",
    "print (d)\n",
    "print(type(d))\n",
    "\n",
    "lord = [32, 'java']\n",
    "\n",
    "print(d)"
   ]
  },
  {
   "cell_type": "markdown",
   "id": "47f5b865",
   "metadata": {},
   "source": [
    "<font color = 'indianred' size = '4' >**python tuple data type**</font>\n",
    "\n",
    "> Tuple is an ordered sequence of items same as a list. <br>\n",
    "> The only difference is that tuples are immutable. **Tuples once created cannot be modified.**<br>\n",
    "\n",
    ">In Python, we use the parentheses () to store items of a tuple. For example,"
   ]
  },
  {
   "cell_type": "code",
   "execution_count": 34,
   "id": "cdd02e4f",
   "metadata": {},
   "outputs": [
    {
     "name": "stdout",
     "output_type": "stream",
     "text": [
      "navid\n",
      "reza\n"
     ]
    }
   ],
   "source": [
    "boys = ('reza', 'navid', 24, 25)\n",
    "print (boys[1])\n",
    "#boys[0] = 'ali' #TypeError: 'tuple' object does not support item assignment\n",
    "print(boys[0]) "
   ]
  },
  {
   "cell_type": "markdown",
   "id": "e2d2d759",
   "metadata": {},
   "source": [
    "<font color = 'indianred' size = '4' >**Python Set Data Type**</font>\n",
    "\n",
    ">Set is an unordered collection of unique items.<br>\n",
    "> Set is defined by values separated by commas inside braces { }."
   ]
  },
  {
   "cell_type": "code",
   "execution_count": 39,
   "id": "5707e977",
   "metadata": {},
   "outputs": [
    {
     "name": "stdout",
     "output_type": "stream",
     "text": [
      "{112, 114, 115, 118, 111}\n",
      "<class 'set'>\n",
      "hello\n"
     ]
    }
   ],
   "source": [
    "student_id = {112, 114, 111, 112, 118, 115}\n",
    "print(student_id)\n",
    "\n",
    "# display type of student_id\n",
    "print(type(student_id))\n",
    "#print(student_id[1]) #TypeError: 'set' object is not subscriptable\n",
    "\n",
    "\"\"\"\n",
    "this is a\n",
    "3 line \n",
    "coments\n",
    "\"\"\"\n",
    "print('hello')"
   ]
  },
  {
   "cell_type": "markdown",
   "id": "7b76e0e9",
   "metadata": {},
   "source": [
    "<font color = 'teal' size = '3' >**Note:**</font> since sets are unordered collections, indexing has no meaning. Hence, the slicing operator [] does not work.\n"
   ]
  },
  {
   "cell_type": "markdown",
   "id": "522b94bd",
   "metadata": {},
   "source": [
    "<font color = 'indianred' size = '4' >**Python Dictionary Data Type**</font>\n",
    "\n",
    "Python dictionary is an ordered collection of items. It stores elements in key/value pairs.<br>\n",
    "Here, keys are unique identifiers that are associated with each value.\n"
   ]
  },
  {
   "cell_type": "code",
   "execution_count": 50,
   "id": "ddfd21e8",
   "metadata": {},
   "outputs": [
    {
     "name": "stdout",
     "output_type": "stream",
     "text": [
      "{'iran': 'tehran', 'Italy': 'Rome', 'England': 'London'}\n",
      "Rome\n",
      "['tehran', 'yazd', 'isfahan']\n"
     ]
    }
   ],
   "source": [
    "capital_city = {'iran': 'tehran', 'Italy': 'Rome', 'England': 'London'} #Keys are 'iran', 'Italy', 'England' , Values are 'Kathmandu', 'Rome', 'London'\n",
    "\n",
    "print(capital_city) \n",
    "print (capital_city['Italy'])\n",
    "\n",
    "i = {'asia':{'iran':['tehran', 'yazd', 'isfahan']}}\n",
    "\n",
    "print(i['asia']['iran'])\n"
   ]
  },
  {
   "cell_type": "markdown",
   "id": "3625ac90",
   "metadata": {},
   "source": [
    "<font color = 'indianred' size = '4' >**Print**</font>\n",
    "\n",
    "<font color = 'teal' size = '3.5' >**print (object=  separator=  end=  file=  flush=  )**</font>\n",
    "\n",
    "> object value(s) to be printed <br>\n",
    "> sep (optional) - allows us to separate multiple objects inside print().<br>\n",
    "> end (optional) - allows us to add add specific values like new line \"\\n\", tab \"\\t\" <br>\n",
    "> file (optional) - where the values are printed. It's default value is sys.stdout (screen)<br>\n",
    "> flush (optional) - boolean specifying if the output is flushed or buffered. Default: False\n"
   ]
  },
  {
   "cell_type": "code",
   "execution_count": 54,
   "id": "e4e1bd90",
   "metadata": {},
   "outputs": [
    {
     "name": "stdout",
     "output_type": "stream",
     "text": [
      "New Year%% 2022%% See you soon!\n",
      "Good Morning! It is rainy today\n",
      "Good Morning!\n",
      "it is rainy today\n"
     ]
    }
   ],
   "source": [
    "print('New Year', 2022, 'See you soon!', sep= '%% ') # seprator \n",
    "\n",
    "# print with end whitespace  #end\n",
    "print('Good Morning!', end= ' ')\n",
    "print('It is rainy today')\n",
    "\n",
    "#\\n\n",
    "print('Good Morning!\\nit is rainy today')\n"
   ]
  },
  {
   "cell_type": "markdown",
   "id": "656a4c0d",
   "metadata": {},
   "source": [
    "<font color = 'indianred' size = '4' >**output formating**</font>\n",
    "\n",
    "Sometimes we would like to format our output to make it look attractive. This can be done by using the `str.format()` method. For example:"
   ]
  },
  {
   "cell_type": "code",
   "execution_count": 55,
   "id": "572be4de",
   "metadata": {},
   "outputs": [
    {
     "name": "stdout",
     "output_type": "stream",
     "text": [
      "The value of x is 5 and y is 6 and they are integers\n"
     ]
    }
   ],
   "source": [
    "\n",
    "z = ('they are integers')\n",
    "\n",
    "print('The value of x is {} and y is {} and {}'.format(5,6,z))"
   ]
  },
  {
   "cell_type": "code",
   "execution_count": 19,
   "id": "0f71837f-357d-4e03-a358-f3526d8b5dce",
   "metadata": {},
   "outputs": [
    {
     "name": "stdout",
     "output_type": "stream",
     "text": [
      "12.0036\n",
      "12\n",
      "12.003600\n",
      "1.200360e+01\n",
      "a plus b is 8\n"
     ]
    }
   ],
   "source": [
    "n = 12.0036\n",
    "print (n)\n",
    "print ('%i' %n)\n",
    "print ('%f' %n) #ta 6 raqam \n",
    "print ('%e' %n)\n",
    "\n",
    "a = 2\n",
    "b = 6\n",
    "print(f'a plus b is {a+b}')"
   ]
  },
  {
   "cell_type": "code",
   "execution_count": 25,
   "id": "a9649a8b",
   "metadata": {},
   "outputs": [
    {
     "name": "stdout",
     "output_type": "stream",
     "text": [
      "The price is 12.670 dollars\n",
      "The price is 12.67 dollars\n"
     ]
    }
   ],
   "source": [
    "txt = \"The price is {:.3f} dollars\"\n",
    "x = 12.67\n",
    "print(txt.format(x))   #or use f \n",
    "print(f'The price is {x} dollars')"
   ]
  },
  {
   "cell_type": "code",
   "execution_count": 58,
   "id": "1e897a3b",
   "metadata": {},
   "outputs": [
    {
     "name": "stdin",
     "output_type": "stream",
     "text": [
      "Enter a number:  12\n"
     ]
    },
    {
     "name": "stdout",
     "output_type": "stream",
     "text": [
      "You Entered: 12\n",
      "Data type of num: <class 'str'>\n"
     ]
    }
   ],
   "source": [
    "# using input() to take user input\n",
    "num = input('Enter a number: ')\n",
    "\n",
    "print('You Entered:', num)\n",
    "\n",
    "print('Data type of num:', type(num)) #will be str, for converting it to integer use int(input())\n"
   ]
  },
  {
   "cell_type": "markdown",
   "id": "71cf548f",
   "metadata": {},
   "source": [
    "<font color = 'indianred' size = '5' >**Python Operators**</font>\n",
    ">\n",
    ">Operators are special symbols that perform operations on variables and values.\n",
    "> \n",
    "><font color='teal' size= '4'>**Types of Python Operators**</font> \n",
    ">>\n",
    ">>1. Arithmetic operators <br>\n",
    ">>2. Assignment Operators <br>\n",
    ">>3. Comparison Operators <br> \n",
    ">>4. Logical Operators <br>\n",
    ">>5. Bitwise Operators <br>\n",
    ">>6. Special Operators <br>\n",
    "\n"
   ]
  },
  {
   "cell_type": "markdown",
   "id": "76274852",
   "metadata": {},
   "source": [
    "<font color = 'teal' size = '4' >**Arithmetic operator** </font>"
   ]
  },
  {
   "cell_type": "code",
   "execution_count": 1,
   "id": "d899fa1b",
   "metadata": {},
   "outputs": [
    {
     "name": "stdout",
     "output_type": "stream",
     "text": [
      "Sum:  9\n",
      "Subtraction:  5\n",
      "Multiplication:  14\n",
      "Division:  3.5\n",
      "Floor Division:  3\n",
      "Modulo:  1\n",
      "Power:  49\n"
     ]
    }
   ],
   "source": [
    "a = 7\n",
    "b = 2\n",
    "\n",
    "# addition\n",
    "print ('Sum: ', a + b)  \n",
    "\n",
    "# subtraction\n",
    "print ('Subtraction: ', a - b)   \n",
    "\n",
    "# multiplication\n",
    "print ('Multiplication: ', a * b)  \n",
    "\n",
    "# division\n",
    "print ('Division: ', a / b) \n",
    "\n",
    "# floor division\n",
    "print ('Floor Division: ', a // b)\n",
    "\n",
    "# modulo\n",
    "print ('Modulo: ', a % b)  \n",
    "\n",
    "# a to the power b\n",
    "print ('Power: ', a ** b)   "
   ]
  },
  {
   "cell_type": "code",
   "execution_count": 8,
   "id": "9696115f-71c6-4519-864c-165aae800b45",
   "metadata": {},
   "outputs": [
    {
     "name": "stdout",
     "output_type": "stream",
     "text": [
      "6\n",
      "8\n"
     ]
    }
   ],
   "source": [
    "print(abs(-6))\n",
    "print(pow(2,3))"
   ]
  },
  {
   "cell_type": "markdown",
   "id": "89628405",
   "metadata": {},
   "source": [
    "<font color = 'teal' size = '4' >**Python Assignment Operators**</font><br>\n",
    "    \n",
    "Assignment operators are used to assign values to variables"
   ]
  },
  {
   "cell_type": "code",
   "execution_count": 6,
   "id": "3bf05b84",
   "metadata": {},
   "outputs": [
    {
     "name": "stdout",
     "output_type": "stream",
     "text": [
      "15\n",
      "10\n",
      "50\n",
      "25\n",
      "8.333333333333334\n"
     ]
    }
   ],
   "source": [
    "# assign 10 to a\n",
    "a = 10\n",
    "b = 5 \n",
    "\n",
    "\n",
    "a += b     # a = a + b\n",
    "print(a)\n",
    "a -= b\n",
    "print(a)\n",
    "a *= b\n",
    "print (a)\n",
    "b **=2\n",
    "print(b)\n",
    "b /= 3   # the new b will be used\n",
    "print(b)\n",
    "\n"
   ]
  },
  {
   "cell_type": "markdown",
   "id": "e495001c",
   "metadata": {},
   "source": [
    "<font color = 'teal' size = '4' >**Python Comparison Operators**</font>\n",
    "\n",
    "Comparison operators compare two values/variables and return a boolean result: True or False."
   ]
  },
  {
   "cell_type": "code",
   "execution_count": 7,
   "id": "803f8ffa",
   "metadata": {},
   "outputs": [
    {
     "name": "stdout",
     "output_type": "stream",
     "text": [
      "a == b = False\n",
      "a != b = True\n",
      "a > b = True\n",
      "a < b = False\n",
      "a >= b = True\n",
      "a <= b = False\n"
     ]
    }
   ],
   "source": [
    "a = 5\n",
    "\n",
    "b = 2\n",
    "\n",
    "# equal to operator\n",
    "print('a == b =', a == b)\n",
    "\n",
    "# not equal to operator\n",
    "print('a != b =', a != b)\n",
    "\n",
    "# greater than operator\n",
    "print('a > b =', a > b)\n",
    "\n",
    "# less than operator\n",
    "print('a < b =', a < b)\n",
    "\n",
    "# greater than or equal to operator\n",
    "print('a >= b =', a >= b)\n",
    "\n",
    "# less than or equal to operator\n",
    "print('a <= b =', a <= b)"
   ]
  },
  {
   "cell_type": "markdown",
   "id": "9e303a3e",
   "metadata": {},
   "source": [
    "<font color = 'teal' size = '3' >**Note:**</font> Comparison operators are used in decision-making and loops."
   ]
  },
  {
   "cell_type": "markdown",
   "id": "ab2001e4",
   "metadata": {},
   "source": [
    "<font color = 'teal' size = '4' >**Python Logical Operators**</font>\n",
    "\n",
    "Logical operators are used to check whether an expression is True or False. They are used in decision-making."
   ]
  },
  {
   "cell_type": "code",
   "execution_count": 13,
   "id": "8d347ab1",
   "metadata": {},
   "outputs": [
    {
     "name": "stdout",
     "output_type": "stream",
     "text": [
      "True\n",
      "False\n",
      "True\n",
      "True\n",
      "False\n"
     ]
    }
   ],
   "source": [
    "# logical AND\n",
    "print(True and True)     # True #  only if both the operands are True\n",
    "print(True and False)    # False\n",
    "\n",
    "# logical OR\n",
    "print(True or False)     # True #if at least one of the operands is\n",
    "\n",
    "# logical NOT\n",
    "print(not False)          # False #if the operand is False and vice-\n",
    "\n",
    "a = 5\n",
    "b = 6\n",
    "print((a > 8) and (b >= 6))   "
   ]
  },
  {
   "cell_type": "markdown",
   "id": "e5e4a751",
   "metadata": {},
   "source": [
    "<font color = 'teal' size = '4' >**Python Special operators**</font>\n",
    "\n",
    "Python language offers some special types of operators like the identity operator and the membership operator. They are described below with examples.\n",
    "\n",
    ">**Identity operators** <br>\n",
    ">In Python, `is` and `is not` are used to check if two values are located on the same part of the memory. Two variables that are equal does not imply that they are identical."
   ]
  },
  {
   "cell_type": "code",
   "execution_count": 14,
   "id": "ee0a1078",
   "metadata": {},
   "outputs": [
    {
     "name": "stdout",
     "output_type": "stream",
     "text": [
      "False\n",
      "True\n",
      "False\n"
     ]
    }
   ],
   "source": [
    "x1 = 5\n",
    "y1 = 5\n",
    "x2 = 'Hello'\n",
    "y2 = 'Hello'\n",
    "x3 = [1,2,3]\n",
    "y3 = [1,2,3]\n",
    "\n",
    "print(x1 is not y1) \n",
    "\n",
    "print(x2 is y2)  \n",
    "\n",
    "print(x3 is y3)     \n",
    "#x3 and y3 are lists. They are equal but not identical.\n",
    "#It is because the interpreter locates them separately in memory "
   ]
  },
  {
   "cell_type": "markdown",
   "id": "ebb45215",
   "metadata": {},
   "source": [
    "also:<br>\n",
    ">In Python, `in` and `not in` are the membership operators.<br> \n",
    "They are used to test whether a value or variable is found in a sequence (string, list, tuple, set and dictionary).<br>\n",
    "In a dictionary we can only test for presence of key, not the value."
   ]
  },
  {
   "cell_type": "code",
   "execution_count": 18,
   "id": "9c59a06e",
   "metadata": {},
   "outputs": [
    {
     "name": "stdout",
     "output_type": "stream",
     "text": [
      "True\n",
      "True\n",
      "True\n",
      "False\n"
     ]
    }
   ],
   "source": [
    "x = 'Hello world'\n",
    "y = {1:'a', 2:'b'}\n",
    "\n",
    "# check if 'H' is present in x string\n",
    "print('H' in x)  \n",
    "\n",
    "# check if 'hello' is present in x string\n",
    "print('hello' not in x)  #h is not H\n",
    "\n",
    "# check if '1' key is present in y\n",
    "print(1 in y)  \n",
    "\n",
    "# check if 'a' key is present in y\n",
    "print('a' in y)  "
   ]
  },
  {
   "cell_type": "code",
   "execution_count": 4,
   "id": "8d9dbbb5-204c-44d8-93cf-316ddd0c4349",
   "metadata": {},
   "outputs": [
    {
     "name": "stdout",
     "output_type": "stream",
     "text": [
      "0b1101\n"
     ]
    }
   ],
   "source": [
    "a = 13\n",
    "print(bin(a))  #binary a"
   ]
  },
  {
   "cell_type": "markdown",
   "id": "126266d1",
   "metadata": {},
   "source": [
    "<font color = 'indianred' size = '5' >**Python else if**</font>\n",
    "\n",
    "In programming, we use the if statement to run a block code only when a certain condition is met.<br>\n",
    "In Python, there are three forms of the if...else statement.\n",
    "\n",
    "> **if statement<br>\n",
    "> if...else statement<br>\n",
    "> if...elif...else statement**\n"
   ]
  },
  {
   "cell_type": "markdown",
   "id": "0a069acb",
   "metadata": {},
   "source": [
    "<font color = 'teal' size = '4' >**The `if` statement evaluates condition.**</font>\n",
    "\n",
    "If condition is evaluated to True, the code inside the body of if is executed.<br>\n",
    "If condition is evaluated to False, the code inside the body of if is skipped."
   ]
  },
  {
   "cell_type": "code",
   "execution_count": 6,
   "id": "09f09ea1-5fbc-47a7-9530-97437205dc52",
   "metadata": {},
   "outputs": [
    {
     "name": "stdin",
     "output_type": "stream",
     "text": [
      "input your number: -16\n"
     ]
    },
    {
     "name": "stdout",
     "output_type": "stream",
     "text": [
      "4.0\n"
     ]
    }
   ],
   "source": [
    "import math \n",
    "n = int(input('input your number:'))\n",
    "if n < 0:\n",
    "    n = abs(n)\n",
    "print(math.sqrt(n))\n"
   ]
  },
  {
   "cell_type": "code",
   "execution_count": 67,
   "id": "a2a84082",
   "metadata": {},
   "outputs": [
    {
     "name": "stdin",
     "output_type": "stream",
     "text": [
      "enter ur class numbers: 4\n"
     ]
    },
    {
     "name": "stdout",
     "output_type": "stream",
     "text": [
      "ur class is in 3 floor\n"
     ]
    }
   ],
   "source": [
    "numb = int(input('enter ur class numbers:'))\n",
    "if 1<numb<10:\n",
    "    floor= numb-1\n",
    "print('ur class is in {} floor'.format(floor))"
   ]
  },
  {
   "cell_type": "markdown",
   "id": "ab491ce5",
   "metadata": {},
   "source": [
    "<font color = 'teal' size = '3' >**Short Hand `If` and `else` 'conditional expressions'**</font>\n",
    "\n",
    "If you have only one statement to execute, you can put it on the same line as the if statement."
   ]
  },
  {
   "cell_type": "code",
   "execution_count": 1,
   "id": "ff4b8898",
   "metadata": {},
   "outputs": [
    {
     "name": "stdin",
     "output_type": "stream",
     "text": [
      "enter ur class numbers: 3\n"
     ]
    },
    {
     "name": "stdout",
     "output_type": "stream",
     "text": [
      "ur class is 3\n"
     ]
    }
   ],
   "source": [
    "numb = int(input('enter ur class numbers:'))\n",
    "if numb<10: print ('ur class is {}' .format(numb))"
   ]
  },
  {
   "cell_type": "code",
   "execution_count": 27,
   "id": "50c95b47",
   "metadata": {},
   "outputs": [
    {
     "name": "stdout",
     "output_type": "stream",
     "text": [
      "B\n"
     ]
    }
   ],
   "source": [
    "a = 2\n",
    "b = 330\n",
    "print(\"A\") if a > b else print(\"B\")"
   ]
  },
  {
   "cell_type": "markdown",
   "id": "48ed9c79",
   "metadata": {},
   "source": [
    "<font color = 'teal' size = '4' >**Python `if...else` Statement**</font>\n",
    "\n",
    "An if statement can have an optional else clause.\n",
    "\n",
    ">1. If the condition evaluates to True:<br>\n",
    ">>the code inside `if` is executed<br>\n",
    ">>the code inside `else` is skipped<br>\n",
    "\n",
    ">2. If the condition evaluates to False:<br>\n",
    ">>the code inside `else` is executed<br>\n",
    ">>the code inside `if` is skipped"
   ]
  },
  {
   "cell_type": "code",
   "execution_count": 8,
   "id": "d3757936-13cd-4d30-89ed-fa603de66509",
   "metadata": {},
   "outputs": [
    {
     "name": "stdin",
     "output_type": "stream",
     "text": [
      "enter ur number: 13\n"
     ]
    },
    {
     "name": "stdout",
     "output_type": "stream",
     "text": [
      "its odd\n"
     ]
    }
   ],
   "source": [
    "n = int(input('enter ur number:'))\n",
    "if n % 2 == 0:\n",
    "    print('its even')\n",
    "else:\n",
    "    print('its odd')\n",
    "    "
   ]
  },
  {
   "cell_type": "code",
   "execution_count": 22,
   "id": "21f9d481",
   "metadata": {},
   "outputs": [
    {
     "name": "stdin",
     "output_type": "stream",
     "text": [
      "enter ur class numbers: 1\n"
     ]
    },
    {
     "name": "stdout",
     "output_type": "stream",
     "text": [
      "ur class is in the first floor next to the class 2\n"
     ]
    }
   ],
   "source": [
    "numb = int(input('enter ur class numbers:'))\n",
    "if 1<numb<10:\n",
    "    floor= numb-1\n",
    "    print('ur class is in {} floor'.format(floor))\n",
    "if numb == 1:\n",
    "    print('ur class is in the first floor next to the class 2')\n",
    "else:\n",
    "    print('ur class number is wrong')"
   ]
  },
  {
   "cell_type": "code",
   "execution_count": 14,
   "id": "222e8ff5-8b77-403c-b500-e72afaf32aa7",
   "metadata": {},
   "outputs": [
    {
     "name": "stdin",
     "output_type": "stream",
     "text": [
      "ur name: navid\n"
     ]
    },
    {
     "name": "stdout",
     "output_type": "stream",
     "text": [
      "no user found\n"
     ]
    }
   ],
   "source": [
    "names = ['ali','reza','kaveh', 'mamad']\n",
    "n = input('ur name:')\n",
    "if n in names:\n",
    "    print('user found')\n",
    "else:\n",
    "    print('no user found')"
   ]
  },
  {
   "cell_type": "markdown",
   "id": "3fbea8d0",
   "metadata": {},
   "source": [
    "<font color = 'teal' size = '4' >**Python `if...elif...else` Statement**</font>\n",
    "\n",
    "The `if...else` statement is used to execute a block of code among two alternatives.\n",
    "\n",
    "However, if we need to make a choice between more than two alternatives, then we use the if...elif...else statement."
   ]
  },
  {
   "cell_type": "code",
   "execution_count": 36,
   "id": "7daddb1a",
   "metadata": {},
   "outputs": [
    {
     "name": "stdin",
     "output_type": "stream",
     "text": [
      "input ur score: 96\n"
     ]
    },
    {
     "name": "stdout",
     "output_type": "stream",
     "text": [
      "A+\n"
     ]
    }
   ],
   "source": [
    "score = int(input('input ur score:'))\n",
    "if 40<= score<= 100:\n",
    "    if score >= 95:\n",
    "        l = 'A+'\n",
    "    else:\n",
    "        if score >= 85:\n",
    "           l = 'A'\n",
    "        else:\n",
    "            if score >= 75:\n",
    "                l = 'B'\n",
    "            else:\n",
    "                if score >=70:\n",
    "                    l = 'c'\n",
    "                else:\n",
    "                    l = 'D'\n",
    "    print(l)\n",
    "else:\n",
    "    print('you failed')\n"
   ]
  },
  {
   "cell_type": "code",
   "execution_count": 40,
   "id": "3e315bce",
   "metadata": {},
   "outputs": [
    {
     "name": "stdin",
     "output_type": "stream",
     "text": [
      "input ur score: 34\n"
     ]
    },
    {
     "name": "stdout",
     "output_type": "stream",
     "text": [
      "you failed\n"
     ]
    }
   ],
   "source": [
    "score = int(input('input ur score:'))\n",
    "\n",
    "if 40<= score<= 100:\n",
    "    \n",
    "    if score >= 95:\n",
    "        l = 'A+'\n",
    "    elif score >= 85:\n",
    "        l = 'A'\n",
    "    elif score >= 75:\n",
    "        l = 'B'\n",
    "    elif score >=70:\n",
    "        l = 'c'\n",
    "    else:\n",
    "        l = 'D'\n",
    "    print(l)\n",
    "else:\n",
    "    print('you failed')"
   ]
  },
  {
   "cell_type": "markdown",
   "id": "727c45b2-9f7c-45f2-8cb7-d3dd354cdbdf",
   "metadata": {},
   "source": [
    "<font color = 'teal' size = '4'>**Calculate your body mass index!**</font>"
   ]
  },
  {
   "cell_type": "code",
   "execution_count": 68,
   "id": "ee176007-663a-4dbb-8a73-9b830874a855",
   "metadata": {},
   "outputs": [
    {
     "name": "stdin",
     "output_type": "stream",
     "text": [
      "enter your weight in kilo: 50\n",
      "enter your height in cm: 165\n"
     ]
    },
    {
     "name": "stdout",
     "output_type": "stream",
     "text": [
      "your bmi is 18.36547291092746 you are underweight\n"
     ]
    }
   ],
   "source": [
    "w = float(input('enter your weight in kilo:'))\n",
    "h = float(input('enter your height in cm:'))\n",
    "\n",
    "bmi = w/((h/100) ** 2)\n",
    "\n",
    "if bmi <15:\n",
    "    c = ('very severly underweight')\n",
    "elif 15 <= bmi <= 16:\n",
    "    c = ('severly underweight')\n",
    "elif 16< bmi <= 18.5:\n",
    "    c = ('underweight')\n",
    "elif 18.5 < bmi <= 25:\n",
    "    c = ('normal')\n",
    "elif 25< bmi <= 30:\n",
    "    c = ('overweight')\n",
    "elif 30 < bmi <= 35:\n",
    "    c = ('moderately obese')\n",
    "elif 35 < bmi <= 40:\n",
    "    c = ('severely obese')\n",
    "elif bmi> 40:\n",
    "    c = ('a pig')\n",
    "\n",
    "print(f'your bmi is {bmi} ' + f'you are {c}')  "
   ]
  },
  {
   "cell_type": "markdown",
   "id": "fc6ff9d0",
   "metadata": {},
   "source": [
    "<font color = 'indianred' size = '5' >**Python for Loop**</font>\n",
    "\n",
    "In computer programming, loops are used to repeat a block of code.<br>\n",
    "\n",
    "For example, if we want to show a message 100 times, then we can use a loop.\n",
    "\n",
    "There are 2 types of loops in Python:<br>\n",
    ">**`for loop`**<br>\n",
    ">\n",
    ">**`while loop`**"
   ]
  },
  {
   "cell_type": "markdown",
   "id": "be6c5ffe",
   "metadata": {},
   "source": [
    "<font color = 'teal' size = '4' >**Python for Loop**</font>\n",
    "\n",
    "In Python, a `for` loop is used to iterate over sequences such as lists, tuples, string, etc. an `iterator`that we know how many times it want to iterate.\n"
   ]
  },
  {
   "cell_type": "code",
   "execution_count": 84,
   "id": "cd1d01de",
   "metadata": {},
   "outputs": [
    {
     "name": "stdout",
     "output_type": "stream",
     "text": [
      "Swift\n",
      "Python\n",
      "Go\n",
      "JavaScript\n"
     ]
    }
   ],
   "source": [
    "languages = ['Swift', 'Python', 'Go', 'JavaScript']\n",
    "\n",
    "for z in languages: \n",
    "    print(z)\n",
    "    #print(\"goo\")"
   ]
  },
  {
   "cell_type": "code",
   "execution_count": 29,
   "id": "3b115dd8",
   "metadata": {},
   "outputs": [
    {
     "name": "stdout",
     "output_type": "stream",
     "text": [
      "2\n",
      "22\n",
      "35\n"
     ]
    }
   ],
   "source": [
    "mylist= ['1','21','34']\n",
    "for kooft in mylist:\n",
    "    print(int(kooft)+1)\n",
    "    "
   ]
  },
  {
   "cell_type": "code",
   "execution_count": 94,
   "id": "78149502",
   "metadata": {},
   "outputs": [
    {
     "name": "stdout",
     "output_type": "stream",
     "text": [
      "2-3-4-5-6-7-"
     ]
    }
   ],
   "source": [
    "for i in range(2, 8):\n",
    "    print(i , end='-')"
   ]
  },
  {
   "cell_type": "markdown",
   "id": "15a35abd",
   "metadata": {},
   "source": [
    "<font color = 'teal' size = '3.5' >**Python for Loop with Python range()**</font>\n",
    "\n",
    "A range is a series of values between two numeric intervals.\n",
    "\n",
    "We use Python's built-in function `range()` to define a range of values."
   ]
  },
  {
   "cell_type": "code",
   "execution_count": 94,
   "id": "90030b94-e87e-4c5a-92c5-a9b2d2f2e6a9",
   "metadata": {},
   "outputs": [
    {
     "name": "stdout",
     "output_type": "stream",
     "text": [
      "2-3-4-5-6-7-"
     ]
    }
   ],
   "source": [
    "for i in range(2, 8):\n",
    "    print(i , end='-')"
   ]
  },
  {
   "cell_type": "code",
   "execution_count": 49,
   "id": "487f13a5",
   "metadata": {},
   "outputs": [
    {
     "name": "stdout",
     "output_type": "stream",
     "text": [
      "Hello\n",
      "Hello\n",
      "Hello\n"
     ]
    }
   ],
   "source": [
    "languages = ['Swift', 'Python', 'Go'] #Using a for Loop Without Accessing Items\n",
    "\n",
    "for _ in languages:\n",
    "    print('Hello')"
   ]
  },
  {
   "cell_type": "code",
   "execution_count": 132,
   "id": "ec3633c1-0766-4c68-ae67-3186b6d9d7df",
   "metadata": {},
   "outputs": [
    {
     "name": "stdout",
     "output_type": "stream",
     "text": [
      "ther is/are 4 [will] in this passage!\n",
      "4\n"
     ]
    }
   ],
   "source": [
    "mypassage = 'Recent actions such as federal communication restrictions, funding freezes,\\\n",
    "and a new uncertain landscape for federal employees have left neuroscientists who receive funding through federal grants\\\n",
    "concerned about whether their important work will continue or be significantly hampered.\\\n",
    "Join fellow NeuroAdvocates in urging Congress to protect congressionally approved funding for biomedical research \\\n",
    "and the scientific workforce and ensure reliable funding continues uninterrupted. Without this,\\\n",
    "medical progress will be severely impeded, and the development of groundbreaking diagnostics and\\\n",
    "therapies in neuroscience that could benefit all Americans will be delayed or outright halted. \\\n",
    "Personalize the message by letting your members of Congress know the impact these actions will have on your work as a neuroscientist\\\n",
    "and the effect on biomedical research in their district and state.'\n",
    "\n",
    "count = 0\n",
    "for i in mypassage.split():\n",
    "    if i == 'will' :\n",
    "       count +=1\n",
    "print(f'ther is/are {count} [will] in this passage!')   \n",
    "\n",
    "print(mypassage.count('will')) #using count method\n"
   ]
  },
  {
   "cell_type": "code",
   "execution_count": 142,
   "id": "9e8f1643-0670-42ff-8b20-8d6b45597c21",
   "metadata": {},
   "outputs": [
    {
     "name": "stdout",
     "output_type": "stream",
     "text": [
      "2 3 4 5 \n",
      "2 3 4 5 \n",
      "2 3 4 5 \n"
     ]
    }
   ],
   "source": [
    "for i in range(1, 4):\n",
    "    for j in range(2, 6):\n",
    "        print(j, end = ' ')\n",
    "    print()"
   ]
  },
  {
   "cell_type": "markdown",
   "id": "807457d0",
   "metadata": {},
   "source": [
    "<font color = 'teal' size = '4' >**Python while Loop**</font>\n",
    "\n",
    "Python while loop is used to run a block code until a certain condition is met.\n",
    "\n",
    ">A while loop evaluates the condition<br>\n",
    "> if the condition evaluates to True, the code inside the while loop is executed.<br>\n",
    ">condition is evaluated again.<br>\n",
    ">This process continues until the condition is False.<br>\n",
    ">When condition evaluates to False, the loop stops"
   ]
  },
  {
   "cell_type": "code",
   "execution_count": 33,
   "id": "bae7336a-8c49-4ebd-97cd-55b5a802b55d",
   "metadata": {},
   "outputs": [
    {
     "name": "stdin",
     "output_type": "stream",
     "text": [
      "ur number 6\n"
     ]
    },
    {
     "name": "stdout",
     "output_type": "stream",
     "text": [
      "6\n",
      "7\n",
      "8\n",
      "9\n",
      "10\n"
     ]
    }
   ],
   "source": [
    "n= 10\n",
    "i= int(input('ur number'))\n",
    "while i<=n:\n",
    "    print(i)\n",
    "    i= i+1"
   ]
  },
  {
   "cell_type": "code",
   "execution_count": 166,
   "id": "5745b09c",
   "metadata": {},
   "outputs": [
    {
     "name": "stdin",
     "output_type": "stream",
     "text": [
      "Enter a number:  0\n"
     ]
    },
    {
     "name": "stdout",
     "output_type": "stream",
     "text": [
      "total = 0\n"
     ]
    }
   ],
   "source": [
    "# program to calculate the sum of numbers, until the user enters zero\n",
    "\n",
    "total = 0\n",
    "\n",
    "number = int(input('Enter a number: '))\n",
    "\n",
    "while number != 0:\n",
    "    total += number  \n",
    "    \n",
    "    # take integer input again\n",
    "    number = int(input('Enter a number: '))\n",
    "\n",
    "print('total =', total)"
   ]
  },
  {
   "cell_type": "code",
   "execution_count": 174,
   "id": "6ee55410",
   "metadata": {},
   "outputs": [
    {
     "name": "stdout",
     "output_type": "stream",
     "text": [
      "0 1 1 2 3 5 8 "
     ]
    }
   ],
   "source": [
    "a = 0  #fibonacci sequence\n",
    "b = 1 \n",
    "while a <10:\n",
    "    print(a, end = ' ')\n",
    "    a, b = b, a+b\n"
   ]
  },
  {
   "cell_type": "code",
   "execution_count": 17,
   "id": "cf7e0f89-3365-4323-934d-6c3fac1e0f31",
   "metadata": {},
   "outputs": [
    {
     "name": "stdin",
     "output_type": "stream",
     "text": [
      "enter ur number:  8\n"
     ]
    },
    {
     "name": "stdout",
     "output_type": "stream",
     "text": [
      "choose a lower number\n"
     ]
    },
    {
     "name": "stdin",
     "output_type": "stream",
     "text": [
      "enter ur number:  5\n"
     ]
    },
    {
     "name": "stdout",
     "output_type": "stream",
     "text": [
      "choose a lower number\n"
     ]
    },
    {
     "name": "stdin",
     "output_type": "stream",
     "text": [
      "enter ur number:  1\n"
     ]
    },
    {
     "name": "stdout",
     "output_type": "stream",
     "text": [
      "choose a higher number\n"
     ]
    },
    {
     "name": "stdin",
     "output_type": "stream",
     "text": [
      "enter ur number:  3\n"
     ]
    },
    {
     "name": "stdout",
     "output_type": "stream",
     "text": [
      "correct number\n",
      "thanks\n"
     ]
    }
   ],
   "source": [
    "import random\n",
    "n = random.randrange(0, 10)\n",
    "\n",
    "while a!= n:\n",
    "     a = int(input('enter ur number: '))\n",
    "     if a < n:\n",
    "         print ('choose a higher number')\n",
    "     elif a > n:\n",
    "         print ('choose a lower number')\n",
    "     else:\n",
    "         print('correct number')\n",
    "             \n",
    "print('thanks')"
   ]
  },
  {
   "cell_type": "markdown",
   "id": "ed8bc254",
   "metadata": {},
   "source": [
    "<font color = 'teal' size = '4' >**Python `for` Vs `while` loops**</font>\n",
    "\n",
    "The `for` loop is usually used when the number of iterations is **known**. but The `while` loop is usually used when the number of iterations is **unknown**"
   ]
  },
  {
   "cell_type": "markdown",
   "id": "280b34f9",
   "metadata": {},
   "source": [
    "<font color = 'teal' size = '4' >**Python break Statement**</font>\n",
    "\n",
    "The `break` statement is used to terminate the loop immediately when it is encountered.<br>\n",
    "Note: The break statement is almost always used with decision-making statements.\n",
    "\n"
   ]
  },
  {
   "cell_type": "code",
   "execution_count": 6,
   "id": "6c25dfcb",
   "metadata": {},
   "outputs": [
    {
     "name": "stdout",
     "output_type": "stream",
     "text": [
      "0\n",
      "1\n",
      "2\n"
     ]
    }
   ],
   "source": [
    "for i in range(5):\n",
    "    if i == 3:\n",
    "        break\n",
    "    print(i)"
   ]
  },
  {
   "cell_type": "code",
   "execution_count": 156,
   "id": "04cd054e-43dc-49e1-82a5-0775550b8d7c",
   "metadata": {},
   "outputs": [
    {
     "name": "stdout",
     "output_type": "stream",
     "text": [
      "10\n",
      "12\n",
      "14\n"
     ]
    }
   ],
   "source": [
    "for n in range(10, 15):\n",
    "    for i in range(2, n):      #(2, (10,11,12,13,14))\n",
    "        if n % i ==0:\n",
    "            print(n)\n",
    "            break    #check it without break!"
   ]
  },
  {
   "cell_type": "code",
   "execution_count": 158,
   "id": "c77f5749-8e7d-412a-a72b-63e635dff541",
   "metadata": {},
   "outputs": [
    {
     "name": "stdout",
     "output_type": "stream",
     "text": [
      "3\n",
      "5\n",
      "7\n"
     ]
    }
   ],
   "source": [
    "for i in range(3, 8):       #adad aval in range 3 ta 8\n",
    "    for j in range(2 , i):\n",
    "        if i % j == 0:\n",
    "            break\n",
    "    else:\n",
    "        print(i)"
   ]
  },
  {
   "cell_type": "code",
   "execution_count": 8,
   "id": "b537cb54",
   "metadata": {},
   "outputs": [
    {
     "name": "stdout",
     "output_type": "stream",
     "text": [
      "ur number:2\n",
      "2\n",
      "4\n",
      "6\n",
      "8\n",
      "10\n"
     ]
    }
   ],
   "source": [
    "# program to find first 5 multiples of any number\n",
    "n=int(input('ur number:'))\n",
    "counter = 1\n",
    "while counter<=10:\n",
    "    print(n*counter)\n",
    "    counter+=1\n",
    "    if counter>5:\n",
    "        break    "
   ]
  },
  {
   "cell_type": "markdown",
   "id": "55f9d45e",
   "metadata": {},
   "source": [
    "<font color = 'teal' size = '4' >**Python continue Statement with for Loop**</font>\n",
    "\n",
    "We can use the `continue` statement with the for loop to skip the current iteration of the loop. Then the control of the program jumps to the next iteration.\n"
   ]
  },
  {
   "cell_type": "code",
   "execution_count": 146,
   "id": "955dd968",
   "metadata": {},
   "outputs": [
    {
     "name": "stdout",
     "output_type": "stream",
     "text": [
      "0\n",
      "1\n",
      "2\n",
      "4\n",
      "5\n"
     ]
    }
   ],
   "source": [
    "for i in range (6):\n",
    "    if i == 3:\n",
    "        continue #it will exclude 3 \n",
    "    print(i)"
   ]
  },
  {
   "cell_type": "code",
   "execution_count": 10,
   "id": "73f4629e",
   "metadata": {},
   "outputs": [
    {
     "name": "stdout",
     "output_type": "stream",
     "text": [
      "1\n",
      "3\n",
      "5\n",
      "7\n",
      "9\n"
     ]
    }
   ],
   "source": [
    "# program to print odd numbers from 1 to 10\n",
    "number= 0\n",
    "while number<10:\n",
    "    number+=1\n",
    "    if number %2 ==0:\n",
    "        continue\n",
    "    print(number)"
   ]
  },
  {
   "cell_type": "markdown",
   "id": "01ce7470",
   "metadata": {},
   "source": [
    "<font color = 'teal' size = '4' >**Python pass Statement**</font>\n",
    "\n",
    "In Python programming, the `pass` statement is a null statement which can be used as a placeholder for future code.\n",
    "\n",
    "Suppose we have a loop or a function that is not implemented yet, but we want to implement it in the future. In such cases, we can use the pass statement.<br>\n",
    ">Note: The difference between a comment and a pass statement in Python is that while the interpreter ignores a comment entirely, pass is not ignored."
   ]
  },
  {
   "cell_type": "code",
   "execution_count": 11,
   "id": "3c1be37f",
   "metadata": {},
   "outputs": [
    {
     "name": "stdout",
     "output_type": "stream",
     "text": [
      "Hello\n"
     ]
    }
   ],
   "source": [
    "n = 10\n",
    "\n",
    "# use pass inside if statement\n",
    "if n > 10:\n",
    "    pass\n",
    "\n",
    "print('Hello')"
   ]
  },
  {
   "cell_type": "code",
   "execution_count": 2,
   "id": "84e4e1b8",
   "metadata": {},
   "outputs": [
    {
     "name": "stdout",
     "output_type": "stream",
     "text": [
      " python\n"
     ]
    }
   ],
   "source": [
    "string = \"course python in maktabkhooneh\"\n",
    "print(string[6:13])"
   ]
  },
  {
   "cell_type": "markdown",
   "id": "f06a6d3f-763b-4e0e-bae8-646d86310d26",
   "metadata": {},
   "source": [
    "<font color = 'teal' size = '4' >**Python Reguar expressions (RE)**</font>\n"
   ]
  },
  {
   "cell_type": "code",
   "execution_count": 5,
   "id": "aec1e596-6146-4bf2-9099-c1ec86d1eb04",
   "metadata": {},
   "outputs": [],
   "source": [
    "import re"
   ]
  },
  {
   "cell_type": "code",
   "execution_count": 7,
   "id": "c3de0d8f-95a6-4ffc-a344-bb9c53e6338e",
   "metadata": {},
   "outputs": [
    {
     "name": "stdout",
     "output_type": "stream",
     "text": [
      "<re.Match object; span=(12, 23), match='programming'>\n",
      "yes\n",
      "yes\n"
     ]
    }
   ],
   "source": [
    "txt = 'python is a programming language.'\n",
    "m = re.search('programming',txt) \n",
    "print(m)\n",
    "\n",
    "m = re.search('^python',txt) #^ starts with is??\n",
    "if (m):\n",
    "    print('yes')\n",
    "else:\n",
    "    print('no')\n",
    "m = re.search('language.$',txt) #does this program ends with langauge. ?\n",
    "if (m):\n",
    "    print('yes')\n",
    "else:\n",
    "    print('no')"
   ]
  },
  {
   "cell_type": "code",
   "execution_count": 34,
   "id": "bf79b2d1-4ad1-4a59-8304-5dc3701a8e7d",
   "metadata": {},
   "outputs": [
    {
     "name": "stdout",
     "output_type": "stream",
     "text": [
      "<re.Match object; span=(9, 26), match='number 0912345678'>\n",
      "number 0912345678\n",
      "0912345678\n"
     ]
    },
    {
     "name": "stderr",
     "output_type": "stream",
     "text": [
      "<>:4: SyntaxWarning: invalid escape sequence '\\d'\n",
      "<>:4: SyntaxWarning: invalid escape sequence '\\d'\n",
      "C:\\Users\\zahra\\AppData\\Local\\Temp\\ipykernel_8216\\394100460.py:4: SyntaxWarning: invalid escape sequence '\\d'\n",
      "  m = re.search('number (\\d+)', x)\n"
     ]
    }
   ],
   "source": [
    "import re\n",
    "\n",
    "x = 'My phone number 0912345678 and my last name is worthington.'\n",
    "m = re.search('number (\\d+)', x)\n",
    "print(m)\n",
    "print(m.group(0))\n",
    "print(m.group(1))"
   ]
  },
  {
   "cell_type": "code",
   "execution_count": 75,
   "id": "65f54c3d-6fdb-488e-8fed-a8e760004c3e",
   "metadata": {},
   "outputs": [
    {
     "name": "stdout",
     "output_type": "stream",
     "text": [
      "{3, 4, 5, 6, 7}\n"
     ]
    }
   ],
   "source": [
    "set1 = {1, 2, 3, 4}\n",
    "set2 = {3, 4, 5, 6}\n",
    "set3 = {4, 5, 6, 7}\n",
    "\n",
    "result_set = (set1.intersection(set2)).union(set3.difference(set1))\n",
    "print(result_set)"
   ]
  },
  {
   "cell_type": "code",
   "execution_count": 81,
   "id": "00dad32f-6b3c-406c-bd5b-d41864854986",
   "metadata": {},
   "outputs": [
    {
     "name": "stdout",
     "output_type": "stream",
     "text": [
      "a 1\n",
      "a 2\n",
      "a 3\n",
      "b 1\n",
      "b 2\n",
      "b 3\n",
      "c 1\n",
      "c 2\n",
      "c 3\n"
     ]
    }
   ],
   "source": [
    "def print_alpha_nums(abc_list, num_list):\n",
    "    for char in abc_list:\n",
    "        for num in num_list:\n",
    "            print(char, num)\n",
    "    return\n",
    "\n",
    "print_alpha_nums(['a', 'b', 'c'], [1, 2, 3])"
   ]
  },
  {
   "cell_type": "code",
   "execution_count": 93,
   "id": "f7b7c0c3-8767-4c2a-a1c6-00b86b374762",
   "metadata": {},
   "outputs": [
    {
     "ename": "TypeError",
     "evalue": "'str' object does not support item assignment",
     "output_type": "error",
     "traceback": [
      "\u001b[1;31m---------------------------------------------------------------------------\u001b[0m",
      "\u001b[1;31mTypeError\u001b[0m                                 Traceback (most recent call last)",
      "Cell \u001b[1;32mIn[93], line 2\u001b[0m\n\u001b[0;32m      1\u001b[0m s \u001b[38;5;241m=\u001b[39m \u001b[38;5;124m'\u001b[39m\u001b[38;5;124mhello world\u001b[39m\u001b[38;5;124m'\u001b[39m\n\u001b[1;32m----> 2\u001b[0m s[\u001b[38;5;241m1\u001b[39m:\u001b[38;5;241m4\u001b[39m]\u001b[38;5;241m=\u001b[39m \u001b[38;5;124m'\u001b[39m\u001b[38;5;124mabs\u001b[39m\u001b[38;5;124m'\u001b[39m\n\u001b[0;32m      3\u001b[0m \u001b[38;5;28mprint\u001b[39m(s)\n",
      "\u001b[1;31mTypeError\u001b[0m: 'str' object does not support item assignment"
     ]
    }
   ],
   "source": [
    "s = 'hello world'\n",
    "s[1:4]= 'abs'\n",
    "print(s)"
   ]
  },
  {
   "cell_type": "code",
   "execution_count": 89,
   "id": "2bac665f-78ea-44e2-9c90-5f2715573b2a",
   "metadata": {},
   "outputs": [
    {
     "name": "stdout",
     "output_type": "stream",
     "text": [
      "1 3 "
     ]
    }
   ],
   "source": [
    "\n",
    "numbers = [1, 2, 3, 4, 5]\n",
    "for num in numbers:\n",
    "    if num % 2 == 0:\n",
    "        continue\n",
    "    print(num, end=\" \")\n",
    "    if num == 3:\n",
    "        break\n"
   ]
  },
  {
   "cell_type": "code",
   "execution_count": 91,
   "id": "e53471cc-00f3-4104-895e-760f976b4d53",
   "metadata": {},
   "outputs": [
    {
     "name": "stdout",
     "output_type": "stream",
     "text": [
      "125\n"
     ]
    }
   ],
   "source": [
    "\n",
    "def ackermann(m, n):\n",
    "    if m == 0:\n",
    "        return n + 1\n",
    "    elif n == 0:\n",
    "        return ackermann(m - 1, 1)\n",
    "    else:\n",
    "        return ackermann(m - 1, ackermann(m, n - 1))\n",
    "\n",
    "print(ackermann(3, 4))\n"
   ]
  },
  {
   "cell_type": "code",
   "execution_count": 97,
   "id": "f9249114-6450-407a-9b3d-c68baf38aa34",
   "metadata": {},
   "outputs": [
    {
     "name": "stdout",
     "output_type": "stream",
     "text": [
      "{1, 2, 3, 4}\n"
     ]
    }
   ],
   "source": [
    "\n",
    "set1 = {1, 2, 3}\n",
    "set2 = set1\n",
    "set1.add(4)\n",
    "print(set1)"
   ]
  },
  {
   "cell_type": "code",
   "execution_count": 105,
   "id": "063683f3-932a-4bd5-aa33-d4f17b300cbd",
   "metadata": {},
   "outputs": [
    {
     "name": "stdout",
     "output_type": "stream",
     "text": [
      "5\n",
      "10\n"
     ]
    }
   ],
   "source": [
    "x =  10\n",
    "\n",
    "def my_function():\n",
    "    x = 5\n",
    "    print(x)\n",
    "\n",
    "my_function()\n",
    "print(x)"
   ]
  },
  {
   "cell_type": "code",
   "execution_count": 109,
   "id": "7cc69c1e-e910-4e7f-b19c-0eb92cf0fe2a",
   "metadata": {},
   "outputs": [
    {
     "name": "stdout",
     "output_type": "stream",
     "text": [
      "heloodfodgkepogke\n"
     ]
    },
    {
     "data": {
      "text/plain": [
       "'dheloofheloooheloodhelooghelookhelooeheloophelooohelooghelookhelooe'"
      ]
     },
     "execution_count": 109,
     "metadata": {},
     "output_type": "execute_result"
    }
   ],
   "source": [
    "s1 = 'heloo'\n",
    "s2 = 'dfodgkepogke'\n",
    "print(s1+s2)\n",
    "s1.join(s2)"
   ]
  },
  {
   "cell_type": "code",
   "execution_count": null,
   "id": "fd664549-607c-47d7-a250-c4b6e388825f",
   "metadata": {},
   "outputs": [],
   "source": []
  }
 ],
 "metadata": {
  "kernelspec": {
   "display_name": "Python 3 (ipykernel)",
   "language": "python",
   "name": "python3"
  },
  "language_info": {
   "codemirror_mode": {
    "name": "ipython",
    "version": 3
   },
   "file_extension": ".py",
   "mimetype": "text/x-python",
   "name": "python",
   "nbconvert_exporter": "python",
   "pygments_lexer": "ipython3",
   "version": "3.12.3"
  }
 },
 "nbformat": 4,
 "nbformat_minor": 5
}
